{
  "nbformat": 4,
  "nbformat_minor": 0,
  "metadata": {
    "colab": {
      "name": "Sales_Predict.ipynb",
      "provenance": [],
      "collapsed_sections": [],
      "toc_visible": true,
      "mount_file_id": "1uf73X2ogALlFLIual6d8MXYFbIr9upeT",
      "authorship_tag": "ABX9TyMHeMFXpwcTNf+M9MPPQw2r"
    },
    "kernelspec": {
      "name": "python3",
      "display_name": "Python 3"
    }
  },
  "cells": [
    {
      "cell_type": "markdown",
      "metadata": {
        "id": "o7DfU2F908Nk"
      },
      "source": [
        "# **Food Sales Predictions Project**\r\n",
        "\r\n",
        "---\r\n",
        "\r\n"
      ]
    },
    {
      "cell_type": "markdown",
      "metadata": {
        "id": "5WI0WYWS1IAZ"
      },
      "source": [
        "Import Libraries and Data Into Dataframe"
      ]
    },
    {
      "cell_type": "code",
      "metadata": {
        "colab": {
          "base_uri": "https://localhost:8080/"
        },
        "id": "LY2OKPcv_Fzg",
        "outputId": "f953e453-3b57-4fd7-a873-eae443630411"
      },
      "source": [
        "from google.colab import drive\r\n",
        "drive.mount('/content/drive')"
      ],
      "execution_count": 1,
      "outputs": [
        {
          "output_type": "stream",
          "text": [
            "Drive already mounted at /content/drive; to attempt to forcibly remount, call drive.mount(\"/content/drive\", force_remount=True).\n"
          ],
          "name": "stdout"
        }
      ]
    },
    {
      "cell_type": "code",
      "metadata": {
        "id": "iQN4bz86_vvm",
        "colab": {
          "base_uri": "https://localhost:8080/"
        },
        "outputId": "64a82e68-9ae3-4f8d-a234-a0a9ab3d0cda"
      },
      "source": [
        "!pip install category_encoders\r\n",
        "import pandas as pd\r\n",
        "import numpy as np\r\n",
        "import matplotlib.pyplot as plt\r\n",
        "import seaborn as sns\r\n",
        "from textwrap import wrap\r\n",
        "from sklearn.metrics import r2_score, mean_absolute_error, mean_squared_error\r\n",
        "from sklearn.linear_model import LinearRegression\r\n",
        "from sklearn.neighbors import KNeighborsRegressor\r\n",
        "from sklearn.preprocessing import StandardScaler, LabelEncoder\r\n",
        "import category_encoders as ce\r\n",
        "import math\r\n",
        "filename = '/content/drive/MyDrive/DSDojo/PandasForDataManipulation/sales_predictions.csv'\r\n",
        "dfsales = pd.read_csv(filename)"
      ],
      "execution_count": 90,
      "outputs": [
        {
          "output_type": "stream",
          "text": [
            "Requirement already satisfied: category_encoders in /usr/local/lib/python3.7/dist-packages (2.2.2)\n",
            "Requirement already satisfied: numpy>=1.14.0 in /usr/local/lib/python3.7/dist-packages (from category_encoders) (1.19.5)\n",
            "Requirement already satisfied: scipy>=1.0.0 in /usr/local/lib/python3.7/dist-packages (from category_encoders) (1.4.1)\n",
            "Requirement already satisfied: statsmodels>=0.9.0 in /usr/local/lib/python3.7/dist-packages (from category_encoders) (0.10.2)\n",
            "Requirement already satisfied: scikit-learn>=0.20.0 in /usr/local/lib/python3.7/dist-packages (from category_encoders) (0.22.2.post1)\n",
            "Requirement already satisfied: patsy>=0.5.1 in /usr/local/lib/python3.7/dist-packages (from category_encoders) (0.5.1)\n",
            "Requirement already satisfied: pandas>=0.21.1 in /usr/local/lib/python3.7/dist-packages (from category_encoders) (1.1.5)\n",
            "Requirement already satisfied: joblib>=0.11 in /usr/local/lib/python3.7/dist-packages (from scikit-learn>=0.20.0->category_encoders) (1.0.1)\n",
            "Requirement already satisfied: six in /usr/local/lib/python3.7/dist-packages (from patsy>=0.5.1->category_encoders) (1.15.0)\n",
            "Requirement already satisfied: pytz>=2017.2 in /usr/local/lib/python3.7/dist-packages (from pandas>=0.21.1->category_encoders) (2018.9)\n",
            "Requirement already satisfied: python-dateutil>=2.7.3 in /usr/local/lib/python3.7/dist-packages (from pandas>=0.21.1->category_encoders) (2.8.1)\n"
          ],
          "name": "stdout"
        }
      ]
    },
    {
      "cell_type": "markdown",
      "metadata": {
        "id": "ui4I8pp_3jQz"
      },
      "source": [
        "# Data Cleansing"
      ]
    },
    {
      "cell_type": "code",
      "metadata": {
        "id": "fUhvfffpBFUQ",
        "colab": {
          "base_uri": "https://localhost:8080/",
          "height": 309
        },
        "outputId": "f0448cd2-5420-4edb-c19a-ff5c26d7e537"
      },
      "source": [
        "dfsales.head()\r\n"
      ],
      "execution_count": 3,
      "outputs": [
        {
          "output_type": "execute_result",
          "data": {
            "text/html": [
              "<div>\n",
              "<style scoped>\n",
              "    .dataframe tbody tr th:only-of-type {\n",
              "        vertical-align: middle;\n",
              "    }\n",
              "\n",
              "    .dataframe tbody tr th {\n",
              "        vertical-align: top;\n",
              "    }\n",
              "\n",
              "    .dataframe thead th {\n",
              "        text-align: right;\n",
              "    }\n",
              "</style>\n",
              "<table border=\"1\" class=\"dataframe\">\n",
              "  <thead>\n",
              "    <tr style=\"text-align: right;\">\n",
              "      <th></th>\n",
              "      <th>Item_Identifier</th>\n",
              "      <th>Item_Weight</th>\n",
              "      <th>Item_Fat_Content</th>\n",
              "      <th>Item_Visibility</th>\n",
              "      <th>Item_Type</th>\n",
              "      <th>Item_MRP</th>\n",
              "      <th>Outlet_Identifier</th>\n",
              "      <th>Outlet_Establishment_Year</th>\n",
              "      <th>Outlet_Size</th>\n",
              "      <th>Outlet_Location_Type</th>\n",
              "      <th>Outlet_Type</th>\n",
              "      <th>Item_Outlet_Sales</th>\n",
              "    </tr>\n",
              "  </thead>\n",
              "  <tbody>\n",
              "    <tr>\n",
              "      <th>0</th>\n",
              "      <td>FDA15</td>\n",
              "      <td>9.30</td>\n",
              "      <td>Low Fat</td>\n",
              "      <td>0.016047</td>\n",
              "      <td>Dairy</td>\n",
              "      <td>249.8092</td>\n",
              "      <td>OUT049</td>\n",
              "      <td>1999</td>\n",
              "      <td>Medium</td>\n",
              "      <td>Tier 1</td>\n",
              "      <td>Supermarket Type1</td>\n",
              "      <td>3735.1380</td>\n",
              "    </tr>\n",
              "    <tr>\n",
              "      <th>1</th>\n",
              "      <td>DRC01</td>\n",
              "      <td>5.92</td>\n",
              "      <td>Regular</td>\n",
              "      <td>0.019278</td>\n",
              "      <td>Soft Drinks</td>\n",
              "      <td>48.2692</td>\n",
              "      <td>OUT018</td>\n",
              "      <td>2009</td>\n",
              "      <td>Medium</td>\n",
              "      <td>Tier 3</td>\n",
              "      <td>Supermarket Type2</td>\n",
              "      <td>443.4228</td>\n",
              "    </tr>\n",
              "    <tr>\n",
              "      <th>2</th>\n",
              "      <td>FDN15</td>\n",
              "      <td>17.50</td>\n",
              "      <td>Low Fat</td>\n",
              "      <td>0.016760</td>\n",
              "      <td>Meat</td>\n",
              "      <td>141.6180</td>\n",
              "      <td>OUT049</td>\n",
              "      <td>1999</td>\n",
              "      <td>Medium</td>\n",
              "      <td>Tier 1</td>\n",
              "      <td>Supermarket Type1</td>\n",
              "      <td>2097.2700</td>\n",
              "    </tr>\n",
              "    <tr>\n",
              "      <th>3</th>\n",
              "      <td>FDX07</td>\n",
              "      <td>19.20</td>\n",
              "      <td>Regular</td>\n",
              "      <td>0.000000</td>\n",
              "      <td>Fruits and Vegetables</td>\n",
              "      <td>182.0950</td>\n",
              "      <td>OUT010</td>\n",
              "      <td>1998</td>\n",
              "      <td>NaN</td>\n",
              "      <td>Tier 3</td>\n",
              "      <td>Grocery Store</td>\n",
              "      <td>732.3800</td>\n",
              "    </tr>\n",
              "    <tr>\n",
              "      <th>4</th>\n",
              "      <td>NCD19</td>\n",
              "      <td>8.93</td>\n",
              "      <td>Low Fat</td>\n",
              "      <td>0.000000</td>\n",
              "      <td>Household</td>\n",
              "      <td>53.8614</td>\n",
              "      <td>OUT013</td>\n",
              "      <td>1987</td>\n",
              "      <td>High</td>\n",
              "      <td>Tier 3</td>\n",
              "      <td>Supermarket Type1</td>\n",
              "      <td>994.7052</td>\n",
              "    </tr>\n",
              "  </tbody>\n",
              "</table>\n",
              "</div>"
            ],
            "text/plain": [
              "  Item_Identifier  Item_Weight  ...        Outlet_Type  Item_Outlet_Sales\n",
              "0           FDA15         9.30  ...  Supermarket Type1          3735.1380\n",
              "1           DRC01         5.92  ...  Supermarket Type2           443.4228\n",
              "2           FDN15        17.50  ...  Supermarket Type1          2097.2700\n",
              "3           FDX07        19.20  ...      Grocery Store           732.3800\n",
              "4           NCD19         8.93  ...  Supermarket Type1           994.7052\n",
              "\n",
              "[5 rows x 12 columns]"
            ]
          },
          "metadata": {
            "tags": []
          },
          "execution_count": 3
        }
      ]
    },
    {
      "cell_type": "markdown",
      "metadata": {
        "id": "Ku3QqgJ23e7J"
      },
      "source": [
        "Remove Duplicates"
      ]
    },
    {
      "cell_type": "code",
      "metadata": {
        "colab": {
          "base_uri": "https://localhost:8080/"
        },
        "id": "4Gke2dpb4Moh",
        "outputId": "211f87e7-89f2-477e-af1e-be29429cc047"
      },
      "source": [
        "#remove Duplicates if any:\r\n",
        "dfsales.duplicated().any()\r\n",
        "# No duplicates in data"
      ],
      "execution_count": 4,
      "outputs": [
        {
          "output_type": "execute_result",
          "data": {
            "text/plain": [
              "False"
            ]
          },
          "metadata": {
            "tags": []
          },
          "execution_count": 4
        }
      ]
    },
    {
      "cell_type": "markdown",
      "metadata": {
        "id": "G9gu5yHc1pol"
      },
      "source": [
        "Check for consistent Data Types"
      ]
    },
    {
      "cell_type": "code",
      "metadata": {
        "id": "WZcGsOBkBG8-",
        "colab": {
          "base_uri": "https://localhost:8080/"
        },
        "outputId": "d1829573-5958-4c9c-dc1c-8198ee6ef8d3"
      },
      "source": [
        "dfsales.dtypes"
      ],
      "execution_count": 5,
      "outputs": [
        {
          "output_type": "execute_result",
          "data": {
            "text/plain": [
              "Item_Identifier               object\n",
              "Item_Weight                  float64\n",
              "Item_Fat_Content              object\n",
              "Item_Visibility              float64\n",
              "Item_Type                     object\n",
              "Item_MRP                     float64\n",
              "Outlet_Identifier             object\n",
              "Outlet_Establishment_Year      int64\n",
              "Outlet_Size                   object\n",
              "Outlet_Location_Type          object\n",
              "Outlet_Type                   object\n",
              "Item_Outlet_Sales            float64\n",
              "dtype: object"
            ]
          },
          "metadata": {
            "tags": []
          },
          "execution_count": 5
        }
      ]
    },
    {
      "cell_type": "code",
      "metadata": {
        "id": "PkWloXsv4uSe"
      },
      "source": [
        "#check for odd data types:\r\n",
        "dfsales['Item_Outlet_Sales'].sort_values(ascending = False)\r\n",
        "#after looking through each item, no mixed data types were found in any of the columns"
      ],
      "execution_count": null,
      "outputs": []
    },
    {
      "cell_type": "markdown",
      "metadata": {
        "id": "Z-4wL6RG2Khh"
      },
      "source": [
        "Clean Categorical Data"
      ]
    },
    {
      "cell_type": "code",
      "metadata": {
        "colab": {
          "base_uri": "https://localhost:8080/"
        },
        "id": "WjExokXW61Ly",
        "outputId": "441537ac-6a58-484e-c042-aa1d935c013a"
      },
      "source": [
        "#Check for spelling errors or abbreviations etc in each categorical feature:\r\n",
        "dfsales['Outlet_Type'].value_counts()\r\n",
        "#Issues only found with one feature"
      ],
      "execution_count": 7,
      "outputs": [
        {
          "output_type": "execute_result",
          "data": {
            "text/plain": [
              "Supermarket Type1    5577\n",
              "Grocery Store        1083\n",
              "Supermarket Type3     935\n",
              "Supermarket Type2     928\n",
              "Name: Outlet_Type, dtype: int64"
            ]
          },
          "metadata": {
            "tags": []
          },
          "execution_count": 7
        }
      ]
    },
    {
      "cell_type": "code",
      "metadata": {
        "id": "qMLcV6G17TTr"
      },
      "source": [
        "#Issues found with Item Fat Content. Fix below:\r\n",
        "dfsales.replace({'Item_Fat_Content':{'LF':'Low Fat','reg':'Regular','low fat':'Low Fat'}}, inplace=True)\r\n",
        "# Check with: dfsales['Item_Fat_Content'].value_counts()"
      ],
      "execution_count": 8,
      "outputs": []
    },
    {
      "cell_type": "code",
      "metadata": {
        "colab": {
          "base_uri": "https://localhost:8080/",
          "height": 620
        },
        "id": "Xq_mkLn0wWhm",
        "outputId": "9d3de1d6-8f17-4b97-ebf4-7c8b0d91273e"
      },
      "source": [
        "# Try to see if missing values can be replaced with logical values if any pattern is identified:\r\n",
        "dfsales.info()\r\n",
        "#Missing Values found in Item_Weight and Outlet_Size Features\r\n",
        "dfsales.groupby(['Outlet_Identifier','Outlet_Size','Outlet_Location_Type'])[['Outlet_Size']].count()\r\n",
        "#No pattern Identified for the Outlet_Size nor the Item_Weight features"
      ],
      "execution_count": 9,
      "outputs": [
        {
          "output_type": "stream",
          "text": [
            "<class 'pandas.core.frame.DataFrame'>\n",
            "RangeIndex: 8523 entries, 0 to 8522\n",
            "Data columns (total 12 columns):\n",
            " #   Column                     Non-Null Count  Dtype  \n",
            "---  ------                     --------------  -----  \n",
            " 0   Item_Identifier            8523 non-null   object \n",
            " 1   Item_Weight                7060 non-null   float64\n",
            " 2   Item_Fat_Content           8523 non-null   object \n",
            " 3   Item_Visibility            8523 non-null   float64\n",
            " 4   Item_Type                  8523 non-null   object \n",
            " 5   Item_MRP                   8523 non-null   float64\n",
            " 6   Outlet_Identifier          8523 non-null   object \n",
            " 7   Outlet_Establishment_Year  8523 non-null   int64  \n",
            " 8   Outlet_Size                6113 non-null   object \n",
            " 9   Outlet_Location_Type       8523 non-null   object \n",
            " 10  Outlet_Type                8523 non-null   object \n",
            " 11  Item_Outlet_Sales          8523 non-null   float64\n",
            "dtypes: float64(4), int64(1), object(7)\n",
            "memory usage: 799.2+ KB\n"
          ],
          "name": "stdout"
        },
        {
          "output_type": "execute_result",
          "data": {
            "text/html": [
              "<div>\n",
              "<style scoped>\n",
              "    .dataframe tbody tr th:only-of-type {\n",
              "        vertical-align: middle;\n",
              "    }\n",
              "\n",
              "    .dataframe tbody tr th {\n",
              "        vertical-align: top;\n",
              "    }\n",
              "\n",
              "    .dataframe thead th {\n",
              "        text-align: right;\n",
              "    }\n",
              "</style>\n",
              "<table border=\"1\" class=\"dataframe\">\n",
              "  <thead>\n",
              "    <tr style=\"text-align: right;\">\n",
              "      <th></th>\n",
              "      <th></th>\n",
              "      <th></th>\n",
              "      <th>Outlet_Size</th>\n",
              "    </tr>\n",
              "    <tr>\n",
              "      <th>Outlet_Identifier</th>\n",
              "      <th>Outlet_Size</th>\n",
              "      <th>Outlet_Location_Type</th>\n",
              "      <th></th>\n",
              "    </tr>\n",
              "  </thead>\n",
              "  <tbody>\n",
              "    <tr>\n",
              "      <th>OUT013</th>\n",
              "      <th>High</th>\n",
              "      <th>Tier 3</th>\n",
              "      <td>932</td>\n",
              "    </tr>\n",
              "    <tr>\n",
              "      <th>OUT018</th>\n",
              "      <th>Medium</th>\n",
              "      <th>Tier 3</th>\n",
              "      <td>928</td>\n",
              "    </tr>\n",
              "    <tr>\n",
              "      <th>OUT019</th>\n",
              "      <th>Small</th>\n",
              "      <th>Tier 1</th>\n",
              "      <td>528</td>\n",
              "    </tr>\n",
              "    <tr>\n",
              "      <th>OUT027</th>\n",
              "      <th>Medium</th>\n",
              "      <th>Tier 3</th>\n",
              "      <td>935</td>\n",
              "    </tr>\n",
              "    <tr>\n",
              "      <th>OUT035</th>\n",
              "      <th>Small</th>\n",
              "      <th>Tier 2</th>\n",
              "      <td>930</td>\n",
              "    </tr>\n",
              "    <tr>\n",
              "      <th>OUT046</th>\n",
              "      <th>Small</th>\n",
              "      <th>Tier 1</th>\n",
              "      <td>930</td>\n",
              "    </tr>\n",
              "    <tr>\n",
              "      <th>OUT049</th>\n",
              "      <th>Medium</th>\n",
              "      <th>Tier 1</th>\n",
              "      <td>930</td>\n",
              "    </tr>\n",
              "  </tbody>\n",
              "</table>\n",
              "</div>"
            ],
            "text/plain": [
              "                                                    Outlet_Size\n",
              "Outlet_Identifier Outlet_Size Outlet_Location_Type             \n",
              "OUT013            High        Tier 3                        932\n",
              "OUT018            Medium      Tier 3                        928\n",
              "OUT019            Small       Tier 1                        528\n",
              "OUT027            Medium      Tier 3                        935\n",
              "OUT035            Small       Tier 2                        930\n",
              "OUT046            Small       Tier 1                        930\n",
              "OUT049            Medium      Tier 1                        930"
            ]
          },
          "metadata": {
            "tags": []
          },
          "execution_count": 9
        }
      ]
    },
    {
      "cell_type": "markdown",
      "metadata": {
        "id": "If8hBiC23UQd"
      },
      "source": [
        "Deal with Missing Values - Part 1: Flag Missing Values"
      ]
    },
    {
      "cell_type": "code",
      "metadata": {
        "id": "3DfEa0wcxDhq"
      },
      "source": [
        "#Create Flag columns for the missing values:\r\n",
        "dfsalesf = dfsales\r\n",
        "dfsalesf['No_Item_Weight'] = np.where(dfsalesf['Item_Weight'].isnull(), True, False)\r\n",
        "dfsalesf['No_Outlet_Size'] = np.where(dfsalesf['Outlet_Size'].isnull(), True, False)\r\n",
        "dfsalesf"
      ],
      "execution_count": null,
      "outputs": []
    },
    {
      "cell_type": "code",
      "metadata": {
        "id": "qTC7Eaal0GLj"
      },
      "source": [
        "#dfsales['Outlet_Size'].value_counts(dropna = False)"
      ],
      "execution_count": 11,
      "outputs": []
    },
    {
      "cell_type": "markdown",
      "metadata": {
        "id": "hQzjNuKv3C8s"
      },
      "source": [
        "Neaten Column Names"
      ]
    },
    {
      "cell_type": "code",
      "metadata": {
        "id": "ASb1xI9C5ilp"
      },
      "source": [
        "dfsalesf.rename(columns = {'Item_Identifier':'Item_ID', 'Outlet_Identifier':'Outlet_ID', 'Item_Outlet_Sales':'Sales'}, inplace= True)\r\n",
        "dfsalesf"
      ],
      "execution_count": null,
      "outputs": []
    },
    {
      "cell_type": "markdown",
      "metadata": {
        "id": "Wa56wiLLFP-J"
      },
      "source": [
        "Deal with Missing Values - Part 2: Decide how to handle each use case"
      ]
    },
    {
      "cell_type": "markdown",
      "metadata": {
        "id": "CUVydGjFFPTu"
      },
      "source": [
        "**Handeling missing data**\r\n",
        "\r\n",
        "***First Analysis*** \r\n",
        "\r\n",
        "There are too many missing data too use removal as a resolution. \r\n",
        "Data for the outlet size is MAR. There are certain stores where ALL their data for outloet size is missing\r\n",
        "Possible solution for outlet size missing values: 1. Create a 'no size indicated' category/feature value 2. impute the mode (most common value). Though this would\r\n",
        "be assuming all the stores are the same size... which is a stretch 3. Look into KNN if thats an option here or hot-deck\r\n",
        "\r\n",
        "Data for Item weight is MAR, all weights for items from stores established in 1985 are missing, none are tier 2 adn none of them are from a large outlet\r\n",
        "possible solutions. 1. Since we have data for multiple years succeeding 1985, we could consider dropping the values as we should still be able to predict sales values \r\n",
        "in the future using what we have, however, roughly ~1500 (17%) of the data would then be dropped. 2. We could use MICE ti impute the missing data\r\n",
        "\r\n",
        "***Second Analysis*** \r\n",
        "\r\n",
        "Outlet Size:\r\n",
        "\r\n",
        "The items missing an outliet size are all from certain stores (eg. ALL stores labeled a,b, and c have NO outlet size, but ALL stores labeled d,e, and f HAVE outlet sizes with 0 missing values)\r\n",
        "\r\n",
        "Therefore, excluding them from the analysis would be detrimental to the model as we would be eliminating multiple entire outlets. Since the owner of the business is new and does not know how nor have access to the outlet sizes for the missing records and I dont feel trying to 'guess' the outlet size based on just outlet type and outlet location type would give us accurate results since there - at least at first glance - does not appear to be any relationship between those features and outlet size. My proposed solution is to replace the missing values with a 'Unknown Size' value. That way the information ~2400 observations will not be lost, but will not influence (too much) the results of our final model.\r\n",
        "\r\n",
        "Item Weight:\r\n",
        "\r\n",
        "I noticed that all the item weights for the year 1985 were missing. After consulting with the owner, we agreed that since the desired result for this analysis is to predict food sales in the future, and since we have 9 other years (where outliets were established) to analyze, AND most importantly, since 1985 is the oldest year in our data set, that we can remove all observations from outlets established in the year 1985 without worrying about its impact on our model. This will remove ~1500 observations from our data BUT, we still have ~7000 observations left to work with that is more than sufficient.\r\n",
        "\r\n",
        "After using the below code to check if we have any items without an item weight that are NOT associated with 1985 outlets, we find that there are none. Therefore after these 2 fixes we are done with dealing with the missing data in this dataset.\r\n",
        "\r\n",
        "```\r\n",
        "# dfsalesf[(dfsalesf['Outlet_Establishment_Year']!=1985) & (dfsalesf['Item_Weight'] is None)]\r\n",
        "```\r\n",
        "\r\n",
        "\r\n"
      ]
    },
    {
      "cell_type": "code",
      "metadata": {
        "id": "Ysdp13zpYi1I"
      },
      "source": [
        "#Replace missing outlet size records with 'Unknown Size'\r\n",
        "dfSalesFinal = dfsalesf.replace({'Outlet_Size':{None:'Unknown Size'}})\r\n",
        "dfSalesFinal"
      ],
      "execution_count": null,
      "outputs": []
    },
    {
      "cell_type": "code",
      "metadata": {
        "id": "HibB-zRufIhQ"
      },
      "source": [
        "# check to see if records were replaced correctly:\r\n",
        "dfsales['Outlet_Size'].value_counts(dropna = False)"
      ],
      "execution_count": null,
      "outputs": []
    },
    {
      "cell_type": "code",
      "metadata": {
        "id": "B0wobk2PfWHE"
      },
      "source": [
        "dfSalesFinal['Outlet_Size'].value_counts(dropna = False)\r\n",
        "# 2410 NaNs = 2410 Unknown Size. therefore replacement worked"
      ],
      "execution_count": null,
      "outputs": []
    },
    {
      "cell_type": "code",
      "metadata": {
        "id": "M-DzyEa5fszb"
      },
      "source": [
        "#Now lets eliminate the observations from 1985 (which are all missing item weights) We could either eliminate all items were establishment year =1985 or drop all null values from item weights. Im going to choose to\r\n",
        "# delete records were year = 1985, since that way if I made an error and there are still missing values outside of 1985 that they wont be eliminated by accident AND this way if the dataset is ever updated I wont be \r\n",
        "#deleting new missing values that may come into the item_weight column\r\n",
        "dfSalesFinal = dfSalesFinal[dfSalesFinal['Outlet_Establishment_Year']!=1985]\r\n",
        "#Our dataset is now ready to work with"
      ],
      "execution_count": 16,
      "outputs": []
    },
    {
      "cell_type": "markdown",
      "metadata": {
        "id": "sIMCu3iTlCI0"
      },
      "source": [
        "#Some simple sample statistics:"
      ]
    },
    {
      "cell_type": "code",
      "metadata": {
        "colab": {
          "base_uri": "https://localhost:8080/",
          "height": 576
        },
        "id": "9F0u4biQHLPu",
        "outputId": "1415f256-94f8-4fc9-b67c-87d034bfb293"
      },
      "source": [
        "\r\n",
        "#Items with the highest MRP in each type category:\r\n",
        "dfSalesFinal.groupby(['Item_Type'])[['Item_ID','Item_MRP']].max()"
      ],
      "execution_count": 17,
      "outputs": [
        {
          "output_type": "execute_result",
          "data": {
            "text/html": [
              "<div>\n",
              "<style scoped>\n",
              "    .dataframe tbody tr th:only-of-type {\n",
              "        vertical-align: middle;\n",
              "    }\n",
              "\n",
              "    .dataframe tbody tr th {\n",
              "        vertical-align: top;\n",
              "    }\n",
              "\n",
              "    .dataframe thead th {\n",
              "        text-align: right;\n",
              "    }\n",
              "</style>\n",
              "<table border=\"1\" class=\"dataframe\">\n",
              "  <thead>\n",
              "    <tr style=\"text-align: right;\">\n",
              "      <th></th>\n",
              "      <th>Item_ID</th>\n",
              "      <th>Item_MRP</th>\n",
              "    </tr>\n",
              "    <tr>\n",
              "      <th>Item_Type</th>\n",
              "      <th></th>\n",
              "      <th></th>\n",
              "    </tr>\n",
              "  </thead>\n",
              "  <tbody>\n",
              "    <tr>\n",
              "      <th>Baking Goods</th>\n",
              "      <td>FDZ60</td>\n",
              "      <td>265.5568</td>\n",
              "    </tr>\n",
              "    <tr>\n",
              "      <th>Breads</th>\n",
              "      <td>FDZ35</td>\n",
              "      <td>263.2594</td>\n",
              "    </tr>\n",
              "    <tr>\n",
              "      <th>Breakfast</th>\n",
              "      <td>FDR37</td>\n",
              "      <td>234.9300</td>\n",
              "    </tr>\n",
              "    <tr>\n",
              "      <th>Canned</th>\n",
              "      <td>FDZ49</td>\n",
              "      <td>266.8884</td>\n",
              "    </tr>\n",
              "    <tr>\n",
              "      <th>Dairy</th>\n",
              "      <td>FDZ50</td>\n",
              "      <td>266.6884</td>\n",
              "    </tr>\n",
              "    <tr>\n",
              "      <th>Frozen Foods</th>\n",
              "      <td>FDZ52</td>\n",
              "      <td>264.8910</td>\n",
              "    </tr>\n",
              "    <tr>\n",
              "      <th>Fruits and Vegetables</th>\n",
              "      <td>FDZ56</td>\n",
              "      <td>264.2252</td>\n",
              "    </tr>\n",
              "    <tr>\n",
              "      <th>Hard Drinks</th>\n",
              "      <td>DRQ35</td>\n",
              "      <td>261.4278</td>\n",
              "    </tr>\n",
              "    <tr>\n",
              "      <th>Health and Hygiene</th>\n",
              "      <td>NCZ53</td>\n",
              "      <td>266.6884</td>\n",
              "    </tr>\n",
              "    <tr>\n",
              "      <th>Household</th>\n",
              "      <td>NCZ54</td>\n",
              "      <td>264.7910</td>\n",
              "    </tr>\n",
              "    <tr>\n",
              "      <th>Meat</th>\n",
              "      <td>FDZ51</td>\n",
              "      <td>261.5936</td>\n",
              "    </tr>\n",
              "    <tr>\n",
              "      <th>Others</th>\n",
              "      <td>NCQ43</td>\n",
              "      <td>254.9040</td>\n",
              "    </tr>\n",
              "    <tr>\n",
              "      <th>Seafood</th>\n",
              "      <td>FDK45</td>\n",
              "      <td>240.2880</td>\n",
              "    </tr>\n",
              "    <tr>\n",
              "      <th>Snack Foods</th>\n",
              "      <td>FDZ58</td>\n",
              "      <td>264.9568</td>\n",
              "    </tr>\n",
              "    <tr>\n",
              "      <th>Soft Drinks</th>\n",
              "      <td>DRZ24</td>\n",
              "      <td>263.5910</td>\n",
              "    </tr>\n",
              "    <tr>\n",
              "      <th>Starchy Foods</th>\n",
              "      <td>FDZ34</td>\n",
              "      <td>263.0252</td>\n",
              "    </tr>\n",
              "  </tbody>\n",
              "</table>\n",
              "</div>"
            ],
            "text/plain": [
              "                      Item_ID  Item_MRP\n",
              "Item_Type                              \n",
              "Baking Goods            FDZ60  265.5568\n",
              "Breads                  FDZ35  263.2594\n",
              "Breakfast               FDR37  234.9300\n",
              "Canned                  FDZ49  266.8884\n",
              "Dairy                   FDZ50  266.6884\n",
              "Frozen Foods            FDZ52  264.8910\n",
              "Fruits and Vegetables   FDZ56  264.2252\n",
              "Hard Drinks             DRQ35  261.4278\n",
              "Health and Hygiene      NCZ53  266.6884\n",
              "Household               NCZ54  264.7910\n",
              "Meat                    FDZ51  261.5936\n",
              "Others                  NCQ43  254.9040\n",
              "Seafood                 FDK45  240.2880\n",
              "Snack Foods             FDZ58  264.9568\n",
              "Soft Drinks             DRZ24  263.5910\n",
              "Starchy Foods           FDZ34  263.0252"
            ]
          },
          "metadata": {
            "tags": []
          },
          "execution_count": 17
        }
      ]
    },
    {
      "cell_type": "code",
      "metadata": {
        "colab": {
          "base_uri": "https://localhost:8080/"
        },
        "id": "OpJ7LYqeSyEt",
        "outputId": "c01863aa-9a1f-4e52-c817-b492e6603378"
      },
      "source": [
        "#Average Sales per Outlet:\r\n",
        "dfSalesFinal.groupby(['Outlet_ID'])['Sales'].mean().sort_values(ascending = False)"
      ],
      "execution_count": 18,
      "outputs": [
        {
          "output_type": "execute_result",
          "data": {
            "text/plain": [
              "Outlet_ID\n",
              "OUT035    2438.841866\n",
              "OUT049    2348.354635\n",
              "OUT017    2340.675263\n",
              "OUT013    2298.995256\n",
              "OUT046    2277.844267\n",
              "OUT045    2192.384798\n",
              "OUT018    1995.498739\n",
              "OUT010     339.351662\n",
              "Name: Sales, dtype: float64"
            ]
          },
          "metadata": {
            "tags": []
          },
          "execution_count": 18
        }
      ]
    },
    {
      "cell_type": "code",
      "metadata": {
        "colab": {
          "base_uri": "https://localhost:8080/",
          "height": 450
        },
        "id": "cg8twmm6T4BY",
        "outputId": "fc52ac1e-6496-4a4e-ea59-c1950d754591"
      },
      "source": [
        "#Show average Sales per item type over the years\r\n",
        "dfSalesFinal.groupby(['Item_Type','Outlet_Establishment_Year'])[['Sales']].mean()"
      ],
      "execution_count": 19,
      "outputs": [
        {
          "output_type": "execute_result",
          "data": {
            "text/html": [
              "<div>\n",
              "<style scoped>\n",
              "    .dataframe tbody tr th:only-of-type {\n",
              "        vertical-align: middle;\n",
              "    }\n",
              "\n",
              "    .dataframe tbody tr th {\n",
              "        vertical-align: top;\n",
              "    }\n",
              "\n",
              "    .dataframe thead th {\n",
              "        text-align: right;\n",
              "    }\n",
              "</style>\n",
              "<table border=\"1\" class=\"dataframe\">\n",
              "  <thead>\n",
              "    <tr style=\"text-align: right;\">\n",
              "      <th></th>\n",
              "      <th></th>\n",
              "      <th>Sales</th>\n",
              "    </tr>\n",
              "    <tr>\n",
              "      <th>Item_Type</th>\n",
              "      <th>Outlet_Establishment_Year</th>\n",
              "      <th></th>\n",
              "    </tr>\n",
              "  </thead>\n",
              "  <tbody>\n",
              "    <tr>\n",
              "      <th rowspan=\"5\" valign=\"top\">Baking Goods</th>\n",
              "      <th>1987</th>\n",
              "      <td>2050.901134</td>\n",
              "    </tr>\n",
              "    <tr>\n",
              "      <th>1997</th>\n",
              "      <td>2281.267334</td>\n",
              "    </tr>\n",
              "    <tr>\n",
              "      <th>1998</th>\n",
              "      <td>254.605090</td>\n",
              "    </tr>\n",
              "    <tr>\n",
              "      <th>1999</th>\n",
              "      <td>2110.051342</td>\n",
              "    </tr>\n",
              "    <tr>\n",
              "      <th>2002</th>\n",
              "      <td>2148.127609</td>\n",
              "    </tr>\n",
              "    <tr>\n",
              "      <th>...</th>\n",
              "      <th>...</th>\n",
              "      <td>...</td>\n",
              "    </tr>\n",
              "    <tr>\n",
              "      <th rowspan=\"5\" valign=\"top\">Starchy Foods</th>\n",
              "      <th>1999</th>\n",
              "      <td>2471.762918</td>\n",
              "    </tr>\n",
              "    <tr>\n",
              "      <th>2002</th>\n",
              "      <td>2396.671937</td>\n",
              "    </tr>\n",
              "    <tr>\n",
              "      <th>2004</th>\n",
              "      <td>3049.784505</td>\n",
              "    </tr>\n",
              "    <tr>\n",
              "      <th>2007</th>\n",
              "      <td>2438.529489</td>\n",
              "    </tr>\n",
              "    <tr>\n",
              "      <th>2009</th>\n",
              "      <td>1947.699988</td>\n",
              "    </tr>\n",
              "  </tbody>\n",
              "</table>\n",
              "<p>128 rows × 1 columns</p>\n",
              "</div>"
            ],
            "text/plain": [
              "                                               Sales\n",
              "Item_Type     Outlet_Establishment_Year             \n",
              "Baking Goods  1987                       2050.901134\n",
              "              1997                       2281.267334\n",
              "              1998                        254.605090\n",
              "              1999                       2110.051342\n",
              "              2002                       2148.127609\n",
              "...                                              ...\n",
              "Starchy Foods 1999                       2471.762918\n",
              "              2002                       2396.671937\n",
              "              2004                       3049.784505\n",
              "              2007                       2438.529489\n",
              "              2009                       1947.699988\n",
              "\n",
              "[128 rows x 1 columns]"
            ]
          },
          "metadata": {
            "tags": []
          },
          "execution_count": 19
        }
      ]
    },
    {
      "cell_type": "code",
      "metadata": {
        "colab": {
          "base_uri": "https://localhost:8080/",
          "height": 362
        },
        "id": "i_piq__eU5LA",
        "outputId": "811ba4f7-6ad8-490c-9f35-9880106e2a3a"
      },
      "source": [
        "# Item category giving the most sales in each year\r\n",
        "dfSalesFinal.groupby(['Outlet_Establishment_Year'])['Sales','Item_Type','Item_ID'].max()"
      ],
      "execution_count": 20,
      "outputs": [
        {
          "output_type": "stream",
          "text": [
            "/usr/local/lib/python3.7/dist-packages/ipykernel_launcher.py:2: FutureWarning: Indexing with multiple keys (implicitly converted to a tuple of keys) will be deprecated, use a list instead.\n",
            "  \n"
          ],
          "name": "stderr"
        },
        {
          "output_type": "execute_result",
          "data": {
            "text/html": [
              "<div>\n",
              "<style scoped>\n",
              "    .dataframe tbody tr th:only-of-type {\n",
              "        vertical-align: middle;\n",
              "    }\n",
              "\n",
              "    .dataframe tbody tr th {\n",
              "        vertical-align: top;\n",
              "    }\n",
              "\n",
              "    .dataframe thead th {\n",
              "        text-align: right;\n",
              "    }\n",
              "</style>\n",
              "<table border=\"1\" class=\"dataframe\">\n",
              "  <thead>\n",
              "    <tr style=\"text-align: right;\">\n",
              "      <th></th>\n",
              "      <th>Sales</th>\n",
              "      <th>Item_Type</th>\n",
              "      <th>Item_ID</th>\n",
              "    </tr>\n",
              "    <tr>\n",
              "      <th>Outlet_Establishment_Year</th>\n",
              "      <th></th>\n",
              "      <th></th>\n",
              "      <th></th>\n",
              "    </tr>\n",
              "  </thead>\n",
              "  <tbody>\n",
              "    <tr>\n",
              "      <th>1987</th>\n",
              "      <td>10256.6490</td>\n",
              "      <td>Starchy Foods</td>\n",
              "      <td>NCZ53</td>\n",
              "    </tr>\n",
              "    <tr>\n",
              "      <th>1997</th>\n",
              "      <td>9779.9362</td>\n",
              "      <td>Starchy Foods</td>\n",
              "      <td>NCZ54</td>\n",
              "    </tr>\n",
              "    <tr>\n",
              "      <th>1998</th>\n",
              "      <td>1775.6886</td>\n",
              "      <td>Starchy Foods</td>\n",
              "      <td>NCZ54</td>\n",
              "    </tr>\n",
              "    <tr>\n",
              "      <th>1999</th>\n",
              "      <td>7646.0472</td>\n",
              "      <td>Starchy Foods</td>\n",
              "      <td>NCZ54</td>\n",
              "    </tr>\n",
              "    <tr>\n",
              "      <th>2002</th>\n",
              "      <td>8994.9580</td>\n",
              "      <td>Starchy Foods</td>\n",
              "      <td>NCZ54</td>\n",
              "    </tr>\n",
              "    <tr>\n",
              "      <th>2004</th>\n",
              "      <td>8479.6288</td>\n",
              "      <td>Starchy Foods</td>\n",
              "      <td>NCZ42</td>\n",
              "    </tr>\n",
              "    <tr>\n",
              "      <th>2007</th>\n",
              "      <td>9664.7528</td>\n",
              "      <td>Starchy Foods</td>\n",
              "      <td>NCZ42</td>\n",
              "    </tr>\n",
              "    <tr>\n",
              "      <th>2009</th>\n",
              "      <td>6768.5228</td>\n",
              "      <td>Starchy Foods</td>\n",
              "      <td>NCZ54</td>\n",
              "    </tr>\n",
              "  </tbody>\n",
              "</table>\n",
              "</div>"
            ],
            "text/plain": [
              "                                Sales      Item_Type Item_ID\n",
              "Outlet_Establishment_Year                                   \n",
              "1987                       10256.6490  Starchy Foods   NCZ53\n",
              "1997                        9779.9362  Starchy Foods   NCZ54\n",
              "1998                        1775.6886  Starchy Foods   NCZ54\n",
              "1999                        7646.0472  Starchy Foods   NCZ54\n",
              "2002                        8994.9580  Starchy Foods   NCZ54\n",
              "2004                        8479.6288  Starchy Foods   NCZ42\n",
              "2007                        9664.7528  Starchy Foods   NCZ42\n",
              "2009                        6768.5228  Starchy Foods   NCZ54"
            ]
          },
          "metadata": {
            "tags": []
          },
          "execution_count": 20
        }
      ]
    },
    {
      "cell_type": "code",
      "metadata": {
        "colab": {
          "base_uri": "https://localhost:8080/",
          "height": 362
        },
        "id": "tFZSkTjcVa9f",
        "outputId": "098065b3-57ed-43a1-f40f-bf57a4001087"
      },
      "source": [
        "# Item category giving the least sales in each year\r\n",
        "dfSalesFinal.groupby(['Outlet_Establishment_Year'])['Sales','Item_Type'].min()"
      ],
      "execution_count": 21,
      "outputs": [
        {
          "output_type": "stream",
          "text": [
            "/usr/local/lib/python3.7/dist-packages/ipykernel_launcher.py:2: FutureWarning: Indexing with multiple keys (implicitly converted to a tuple of keys) will be deprecated, use a list instead.\n",
            "  \n"
          ],
          "name": "stderr"
        },
        {
          "output_type": "execute_result",
          "data": {
            "text/html": [
              "<div>\n",
              "<style scoped>\n",
              "    .dataframe tbody tr th:only-of-type {\n",
              "        vertical-align: middle;\n",
              "    }\n",
              "\n",
              "    .dataframe tbody tr th {\n",
              "        vertical-align: top;\n",
              "    }\n",
              "\n",
              "    .dataframe thead th {\n",
              "        text-align: right;\n",
              "    }\n",
              "</style>\n",
              "<table border=\"1\" class=\"dataframe\">\n",
              "  <thead>\n",
              "    <tr style=\"text-align: right;\">\n",
              "      <th></th>\n",
              "      <th>Sales</th>\n",
              "      <th>Item_Type</th>\n",
              "    </tr>\n",
              "    <tr>\n",
              "      <th>Outlet_Establishment_Year</th>\n",
              "      <th></th>\n",
              "      <th></th>\n",
              "    </tr>\n",
              "  </thead>\n",
              "  <tbody>\n",
              "    <tr>\n",
              "      <th>1987</th>\n",
              "      <td>73.2380</td>\n",
              "      <td>Baking Goods</td>\n",
              "    </tr>\n",
              "    <tr>\n",
              "      <th>1997</th>\n",
              "      <td>101.8674</td>\n",
              "      <td>Baking Goods</td>\n",
              "    </tr>\n",
              "    <tr>\n",
              "      <th>1998</th>\n",
              "      <td>33.2900</td>\n",
              "      <td>Baking Goods</td>\n",
              "    </tr>\n",
              "    <tr>\n",
              "      <th>1999</th>\n",
              "      <td>111.8544</td>\n",
              "      <td>Baking Goods</td>\n",
              "    </tr>\n",
              "    <tr>\n",
              "      <th>2002</th>\n",
              "      <td>99.8700</td>\n",
              "      <td>Baking Goods</td>\n",
              "    </tr>\n",
              "    <tr>\n",
              "      <th>2004</th>\n",
              "      <td>113.8518</td>\n",
              "      <td>Baking Goods</td>\n",
              "    </tr>\n",
              "    <tr>\n",
              "      <th>2007</th>\n",
              "      <td>143.8128</td>\n",
              "      <td>Baking Goods</td>\n",
              "    </tr>\n",
              "    <tr>\n",
              "      <th>2009</th>\n",
              "      <td>69.2432</td>\n",
              "      <td>Baking Goods</td>\n",
              "    </tr>\n",
              "  </tbody>\n",
              "</table>\n",
              "</div>"
            ],
            "text/plain": [
              "                              Sales     Item_Type\n",
              "Outlet_Establishment_Year                        \n",
              "1987                        73.2380  Baking Goods\n",
              "1997                       101.8674  Baking Goods\n",
              "1998                        33.2900  Baking Goods\n",
              "1999                       111.8544  Baking Goods\n",
              "2002                        99.8700  Baking Goods\n",
              "2004                       113.8518  Baking Goods\n",
              "2007                       143.8128  Baking Goods\n",
              "2009                        69.2432  Baking Goods"
            ]
          },
          "metadata": {
            "tags": []
          },
          "execution_count": 21
        }
      ]
    },
    {
      "cell_type": "code",
      "metadata": {
        "colab": {
          "base_uri": "https://localhost:8080/"
        },
        "id": "m_sUPL1RVsyI",
        "outputId": "fa0eb35f-2197-4f48-bf88-15e980672129"
      },
      "source": [
        "#Number of small, med and large outlets over the years:\r\n",
        "dfSalesFinal.groupby(['Outlet_Establishment_Year','Outlet_Size'])['Outlet_Size'].count()"
      ],
      "execution_count": 22,
      "outputs": [
        {
          "output_type": "execute_result",
          "data": {
            "text/plain": [
              "Outlet_Establishment_Year  Outlet_Size \n",
              "1987                       High            932\n",
              "1997                       Small           930\n",
              "1998                       Unknown Size    555\n",
              "1999                       Medium          930\n",
              "2002                       Unknown Size    929\n",
              "2004                       Small           930\n",
              "2007                       Unknown Size    926\n",
              "2009                       Medium          928\n",
              "Name: Outlet_Size, dtype: int64"
            ]
          },
          "metadata": {
            "tags": []
          },
          "execution_count": 22
        }
      ]
    },
    {
      "cell_type": "code",
      "metadata": {
        "colab": {
          "base_uri": "https://localhost:8080/",
          "height": 328
        },
        "id": "P3hOMBt2WKey",
        "outputId": "79cb7aa6-b83f-4107-c553-fe883eab0e16"
      },
      "source": [
        "#Number of outlet types over the years:\r\n",
        "dfSalesFinal.groupby(['Outlet_Establishment_Year','Outlet_Type'])[['Outlet_Type']].count()"
      ],
      "execution_count": 23,
      "outputs": [
        {
          "output_type": "execute_result",
          "data": {
            "text/html": [
              "<div>\n",
              "<style scoped>\n",
              "    .dataframe tbody tr th:only-of-type {\n",
              "        vertical-align: middle;\n",
              "    }\n",
              "\n",
              "    .dataframe tbody tr th {\n",
              "        vertical-align: top;\n",
              "    }\n",
              "\n",
              "    .dataframe thead th {\n",
              "        text-align: right;\n",
              "    }\n",
              "</style>\n",
              "<table border=\"1\" class=\"dataframe\">\n",
              "  <thead>\n",
              "    <tr style=\"text-align: right;\">\n",
              "      <th></th>\n",
              "      <th></th>\n",
              "      <th>Outlet_Type</th>\n",
              "    </tr>\n",
              "    <tr>\n",
              "      <th>Outlet_Establishment_Year</th>\n",
              "      <th>Outlet_Type</th>\n",
              "      <th></th>\n",
              "    </tr>\n",
              "  </thead>\n",
              "  <tbody>\n",
              "    <tr>\n",
              "      <th>1987</th>\n",
              "      <th>Supermarket Type1</th>\n",
              "      <td>932</td>\n",
              "    </tr>\n",
              "    <tr>\n",
              "      <th>1997</th>\n",
              "      <th>Supermarket Type1</th>\n",
              "      <td>930</td>\n",
              "    </tr>\n",
              "    <tr>\n",
              "      <th>1998</th>\n",
              "      <th>Grocery Store</th>\n",
              "      <td>555</td>\n",
              "    </tr>\n",
              "    <tr>\n",
              "      <th>1999</th>\n",
              "      <th>Supermarket Type1</th>\n",
              "      <td>930</td>\n",
              "    </tr>\n",
              "    <tr>\n",
              "      <th>2002</th>\n",
              "      <th>Supermarket Type1</th>\n",
              "      <td>929</td>\n",
              "    </tr>\n",
              "    <tr>\n",
              "      <th>2004</th>\n",
              "      <th>Supermarket Type1</th>\n",
              "      <td>930</td>\n",
              "    </tr>\n",
              "    <tr>\n",
              "      <th>2007</th>\n",
              "      <th>Supermarket Type1</th>\n",
              "      <td>926</td>\n",
              "    </tr>\n",
              "    <tr>\n",
              "      <th>2009</th>\n",
              "      <th>Supermarket Type2</th>\n",
              "      <td>928</td>\n",
              "    </tr>\n",
              "  </tbody>\n",
              "</table>\n",
              "</div>"
            ],
            "text/plain": [
              "                                             Outlet_Type\n",
              "Outlet_Establishment_Year Outlet_Type                   \n",
              "1987                      Supermarket Type1          932\n",
              "1997                      Supermarket Type1          930\n",
              "1998                      Grocery Store              555\n",
              "1999                      Supermarket Type1          930\n",
              "2002                      Supermarket Type1          929\n",
              "2004                      Supermarket Type1          930\n",
              "2007                      Supermarket Type1          926\n",
              "2009                      Supermarket Type2          928"
            ]
          },
          "metadata": {
            "tags": []
          },
          "execution_count": 23
        }
      ]
    },
    {
      "cell_type": "code",
      "metadata": {
        "colab": {
          "base_uri": "https://localhost:8080/",
          "height": 328
        },
        "id": "Yps1LL13WZJY",
        "outputId": "837dfa95-c3a0-48dd-c43f-d8797e36f7cb"
      },
      "source": [
        "#Total Cumulative sales over the years:\r\n",
        "dfsalesff = dfsalesf\r\n",
        "#dfsalesff['Outlet_Establishment_Year']= str(dfsalesff['Outlet_Establishment_Year'])\r\n",
        "test = dfSalesFinal.groupby(['Outlet_Establishment_Year'])[['Sales']].sum()#.sort_values(ascending = False)\r\n",
        "test.cumsum()\r\n"
      ],
      "execution_count": 24,
      "outputs": [
        {
          "output_type": "execute_result",
          "data": {
            "text/html": [
              "<div>\n",
              "<style scoped>\n",
              "    .dataframe tbody tr th:only-of-type {\n",
              "        vertical-align: middle;\n",
              "    }\n",
              "\n",
              "    .dataframe tbody tr th {\n",
              "        vertical-align: top;\n",
              "    }\n",
              "\n",
              "    .dataframe thead th {\n",
              "        text-align: right;\n",
              "    }\n",
              "</style>\n",
              "<table border=\"1\" class=\"dataframe\">\n",
              "  <thead>\n",
              "    <tr style=\"text-align: right;\">\n",
              "      <th></th>\n",
              "      <th>Sales</th>\n",
              "    </tr>\n",
              "    <tr>\n",
              "      <th>Outlet_Establishment_Year</th>\n",
              "      <th></th>\n",
              "    </tr>\n",
              "  </thead>\n",
              "  <tbody>\n",
              "    <tr>\n",
              "      <th>1987</th>\n",
              "      <td>2.142664e+06</td>\n",
              "    </tr>\n",
              "    <tr>\n",
              "      <th>1997</th>\n",
              "      <td>4.261059e+06</td>\n",
              "    </tr>\n",
              "    <tr>\n",
              "      <th>1998</th>\n",
              "      <td>4.449399e+06</td>\n",
              "    </tr>\n",
              "    <tr>\n",
              "      <th>1999</th>\n",
              "      <td>6.633369e+06</td>\n",
              "    </tr>\n",
              "    <tr>\n",
              "      <th>2002</th>\n",
              "      <td>8.670094e+06</td>\n",
              "    </tr>\n",
              "    <tr>\n",
              "      <th>2004</th>\n",
              "      <td>1.093822e+07</td>\n",
              "    </tr>\n",
              "    <tr>\n",
              "      <th>2007</th>\n",
              "      <td>1.310568e+07</td>\n",
              "    </tr>\n",
              "    <tr>\n",
              "      <th>2009</th>\n",
              "      <td>1.495751e+07</td>\n",
              "    </tr>\n",
              "  </tbody>\n",
              "</table>\n",
              "</div>"
            ],
            "text/plain": [
              "                                  Sales\n",
              "Outlet_Establishment_Year              \n",
              "1987                       2.142664e+06\n",
              "1997                       4.261059e+06\n",
              "1998                       4.449399e+06\n",
              "1999                       6.633369e+06\n",
              "2002                       8.670094e+06\n",
              "2004                       1.093822e+07\n",
              "2007                       1.310568e+07\n",
              "2009                       1.495751e+07"
            ]
          },
          "metadata": {
            "tags": []
          },
          "execution_count": 24
        }
      ]
    },
    {
      "cell_type": "markdown",
      "metadata": {
        "id": "aju1-kXSOZOL"
      },
      "source": [
        "# EDA\r\n",
        "**Histograms**"
      ]
    },
    {
      "cell_type": "code",
      "metadata": {
        "colab": {
          "base_uri": "https://localhost:8080/",
          "height": 378
        },
        "id": "iQcC-_HLOgnl",
        "outputId": "768b00cd-219d-4134-d717-334ae71424b7"
      },
      "source": [
        "# investigate sales distribution\r\n",
        "plt.style.use('seaborn')\r\n",
        "dfSalesFinal['Sales'].hist(edgecolor = 'k', bins = 13);\r\n",
        "plt.xlabel('Sales')\r\n",
        "plt.ylabel('Count')"
      ],
      "execution_count": 25,
      "outputs": [
        {
          "output_type": "execute_result",
          "data": {
            "text/plain": [
              "Text(0, 0.5, 'Count')"
            ]
          },
          "metadata": {
            "tags": []
          },
          "execution_count": 25
        },
        {
          "output_type": "display_data",
          "data": {
            "image/png": "[encoded data removed]",
            "text/plain": [
              "<Figure size 576x396 with 1 Axes>"
            ]
          },
          "metadata": {
            "tags": []
          }
        }
      ]
    },
    {
      "cell_type": "markdown",
      "metadata": {
        "id": "gETBmcO4R97l"
      },
      "source": [
        "The distribution of our sales is skewed to the left, with most of our sales falling in the 0-$2000 range (and this is of course total sales per item_ID for each outlet)."
      ]
    },
    {
      "cell_type": "code",
      "metadata": {
        "colab": {
          "base_uri": "https://localhost:8080/",
          "height": 378
        },
        "id": "k1B58scFSjvj",
        "outputId": "a1d9bbc6-796d-4064-a7db-39e1f77b28f8"
      },
      "source": [
        "# investigate  MRP distribution\r\n",
        "plt.style.use('seaborn')\r\n",
        "dfSalesFinal['Item_MRP'].hist(edgecolor = 'k', bins = 20);\r\n",
        "plt.xlabel('MRP')\r\n",
        "plt.ylabel('Count')"
      ],
      "execution_count": 26,
      "outputs": [
        {
          "output_type": "execute_result",
          "data": {
            "text/plain": [
              "Text(0, 0.5, 'Count')"
            ]
          },
          "metadata": {
            "tags": []
          },
          "execution_count": 26
        },
        {
          "output_type": "display_data",
          "data": {
            "image/png": "[encoded data removed]",
            "text/plain": [
              "<Figure size 576x396 with 1 Axes>"
            ]
          },
          "metadata": {
            "tags": []
          }
        }
      ]
    },
    {
      "cell_type": "markdown",
      "metadata": {
        "id": "PKz67_bqTpdg"
      },
      "source": [
        "There appears to be a very random distribution of MRPs, though after the 200 mark it appears to remain at a lower frequency rate"
      ]
    },
    {
      "cell_type": "code",
      "metadata": {
        "colab": {
          "base_uri": "https://localhost:8080/",
          "height": 378
        },
        "id": "ijAfeijXUdB_",
        "outputId": "31070a54-95b7-421e-a8c2-4e6ad0bb1bf7"
      },
      "source": [
        "# investigate sales distribution for each Outlet Size\r\n",
        "plt.style.use('seaborn')\r\n",
        "dfSalesFinal[dfSalesFinal['Outlet_Size']=='Small']['Sales'].hist(edgecolor = 'k', bins = 13, label = 'Small', color = 'pink', alpha = .75);\r\n",
        "dfSalesFinal[dfSalesFinal['Outlet_Size']=='Medium']['Sales'].hist(edgecolor = 'k', bins = 13, label = 'Medium', color = 'deeppink', alpha = .75);\r\n",
        "dfSalesFinal[dfSalesFinal['Outlet_Size']=='High']['Sales'].hist(edgecolor = 'k', bins = 13, label = 'High', color = 'crimson', alpha = .75);\r\n",
        "plt.xlabel('Sales')\r\n",
        "plt.ylabel('Count')\r\n",
        "plt.legend()"
      ],
      "execution_count": 27,
      "outputs": [
        {
          "output_type": "execute_result",
          "data": {
            "text/plain": [
              "<matplotlib.legend.Legend at 0x7f20ce38e810>"
            ]
          },
          "metadata": {
            "tags": []
          },
          "execution_count": 27
        },
        {
          "output_type": "display_data",
          "data": {
            "image/png": "[encoded data removed]",
            "text/plain": [
              "<Figure size 576x396 with 1 Axes>"
            ]
          },
          "metadata": {
            "tags": []
          }
        }
      ]
    },
    {
      "cell_type": "markdown",
      "metadata": {
        "id": "phuadErIVnqG"
      },
      "source": [
        "The distribution of sales for all 3 Outlet sizes is approximately the same, though the amount of sales decreases as outlet size increases"
      ]
    },
    {
      "cell_type": "code",
      "metadata": {
        "colab": {
          "base_uri": "https://localhost:8080/",
          "height": 378
        },
        "id": "WJcbR6i6V1pZ",
        "outputId": "0493cc81-1303-4c52-93e3-63ace21865cd"
      },
      "source": [
        "# investigate sales distribution for each Outlet Location Type\r\n",
        "plt.style.use('seaborn')\r\n",
        "dfSalesFinal[dfSalesFinal['Outlet_Location_Type']=='Tier 3']['Sales'].hist(edgecolor = 'k', bins = 13, label = 'Tier 3', color = 'crimson', alpha = .5);\r\n",
        "dfSalesFinal[dfSalesFinal['Outlet_Location_Type']=='Tier 2']['Sales'].hist(edgecolor = 'k', bins = 13, label = 'Tier 2', color = 'blue', alpha = .5);\r\n",
        "dfSalesFinal[dfSalesFinal['Outlet_Location_Type']=='Tier 1']['Sales'].hist(edgecolor = 'k', bins = 13, label = 'Tier 1', color = 'k', alpha = .5);\r\n",
        "\r\n",
        "\r\n",
        "plt.xlabel('Sales')\r\n",
        "plt.ylabel('Count')\r\n",
        "plt.legend()"
      ],
      "execution_count": 28,
      "outputs": [
        {
          "output_type": "execute_result",
          "data": {
            "text/plain": [
              "<matplotlib.legend.Legend at 0x7f20ce8dd690>"
            ]
          },
          "metadata": {
            "tags": []
          },
          "execution_count": 28
        },
        {
          "output_type": "display_data",
          "data": {
            "image/png": "[encoded data removed]",
            "text/plain": [
              "<Figure size 576x396 with 1 Axes>"
            ]
          },
          "metadata": {
            "tags": []
          }
        }
      ]
    },
    {
      "cell_type": "markdown",
      "metadata": {
        "id": "hGnrphKXW8yY"
      },
      "source": [
        "Sales for tier 1 and tier 2 locations follow a similar distribution though tier 1 has a lower amount of sales overall. The sales for the Tier 3 follow a slightly different distribution in that they have a very large volume of lower sales (~ < 1000), however after this 'anomaly' it follows a similar distribution to the other location tiers."
      ]
    },
    {
      "cell_type": "code",
      "metadata": {
        "colab": {
          "base_uri": "https://localhost:8080/",
          "height": 378
        },
        "id": "ehKrH9XthgP8",
        "outputId": "63850920-3383-4ece-dc5c-071796aebd1e"
      },
      "source": [
        "# investigate sales distribution for each Outlet Location Type\r\n",
        "plt.style.use('seaborn')\r\n",
        "dfSalesFinal[dfSalesFinal['Outlet_Type']=='Supermarket Type1']['Sales'].hist(edgecolor = 'k', bins = 13, label = 'Supermarket Type 1', color = 'crimson', alpha = .5);\r\n",
        "dfSalesFinal[dfSalesFinal['Outlet_Type']=='Supermarket Type2']['Sales'].hist(edgecolor = 'k', bins = 13, label = 'Supermarket Type 2', color = 'deeppink', alpha = .5);\r\n",
        "dfSalesFinal[dfSalesFinal['Outlet_Type']=='Grocery Store']['Sales'].hist(edgecolor = 'k', bins = 13, label = 'Grocery Store', color = 'pink', alpha = .5);\r\n",
        "\r\n",
        "\r\n",
        "plt.xlabel('Sales')\r\n",
        "plt.ylabel('Count')\r\n",
        "plt.legend()"
      ],
      "execution_count": 29,
      "outputs": [
        {
          "output_type": "execute_result",
          "data": {
            "text/plain": [
              "<matplotlib.legend.Legend at 0x7f20ce222ed0>"
            ]
          },
          "metadata": {
            "tags": []
          },
          "execution_count": 29
        },
        {
          "output_type": "display_data",
          "data": {
            "image/png": "[encoded data removed]",
            "text/plain": [
              "<Figure size 576x396 with 1 Axes>"
            ]
          },
          "metadata": {
            "tags": []
          }
        }
      ]
    },
    {
      "cell_type": "markdown",
      "metadata": {
        "id": "Vp-R591xiMJa"
      },
      "source": [
        "Supermarket Type 1 has a extremly high count compared to the other types of outlet types all 3 distributions are skewed to the left, but Supermarket type 2 slightly less so than the other 2. Grocery Stores have a very low amount of sales and those sales all fall in a very low sales amount bracket."
      ]
    },
    {
      "cell_type": "markdown",
      "metadata": {
        "id": "PXlXN5lkkmg2"
      },
      "source": [
        "**boxplots - comparing statistical summaries**"
      ]
    },
    {
      "cell_type": "code",
      "metadata": {
        "id": "jjQdGDaYkr-a"
      },
      "source": [
        "# Lets compare sales for each Outlet type:\r\n",
        "fig, axes = plt.subplots(nrows = 1, ncols = 1, figsize = (15,10))\r\n",
        "listoutlet = dfSalesFinal['Outlet_ID'].unique()\r\n",
        "plotme = []\r\n",
        "for index in listoutlet:\r\n",
        "  plotme.append(dfSalesFinal[dfSalesFinal['Outlet_ID']==index]['Sales'])\r\n",
        "\r\n",
        "boxplotsvar = axes.boxplot(plotme,widths = .25,patch_artist= True, notch = True, labels = listoutlet, showmeans = True, meanprops={\"marker\":'X', \"markerfacecolor\":'white', \"markeredgecolor\": 'k'})\r\n",
        "plt.ylabel(\"Sales\", fontsize = 13)\r\n",
        "\r\n",
        "#show meass: https://stackoverflow.com/questions/29777017/show-mean-in-the-box-plot-in-python"
      ],
      "execution_count": null,
      "outputs": []
    },
    {
      "cell_type": "markdown",
      "metadata": {
        "id": "_s9peeqrpIP9"
      },
      "source": [
        "OUT10's IQR, mean, median, max and min are all lower than the Q1's of all the other Outlets. Otherwise the rest of the outlets have very similar spreads and have medians that are all on or near the \\$2000 mark. All outlets have a minimum sales value close to zero, and with the exception of OUT10 and OUT18 they all have maximums very close to the \\$6000 mark.Outlets OUT13, OUT45, OUT17, OUT46, OUT35 have outliers over a longer sales range than the other outlets. The means of all Outlets (besides OUT10) are also very similar. Overall, the outlets dont appear to differ much in sales from one to another, with the exception of OUT10 which happens to be a grocery store wich probably is the reason why its sales are so much lower."
      ]
    },
    {
      "cell_type": "code",
      "metadata": {
        "id": "1EDtfoKQstkQ"
      },
      "source": [
        "# Lets compare sales with regards to the Outlet Establishment Year:\r\n",
        "fig, axes = plt.subplots(nrows = 1, ncols = 1, figsize = (15,10))\r\n",
        "listYear = dfSalesFinal['Outlet_Establishment_Year'].unique()\r\n",
        "plotmeYearSales = []\r\n",
        "for index in listYear:\r\n",
        "  plotmeYearSales.append(dfSalesFinal[dfSalesFinal['Outlet_Establishment_Year']==index]['Sales'])\r\n",
        "\r\n",
        "boxplotsvar = axes.boxplot(plotmeYearSales,widths = .25,patch_artist= True, notch = True, labels = listYear, showmeans = True, meanprops={\"marker\":'X', \"markerfacecolor\":'white', \"markeredgecolor\": 'k'})\r\n",
        "plt.ylabel(\"Sales\", fontsize = 13)\r\n",
        "\r\n",
        "#show meass: https://stackoverflow.com/questions/29777017/show-mean-in-the-box-plot-in-python"
      ],
      "execution_count": null,
      "outputs": []
    },
    {
      "cell_type": "markdown",
      "metadata": {
        "id": "uYSick0duBN5"
      },
      "source": [
        "The data does not differ from the previous visual. After some digging I found that this is because only one outlet was established per year."
      ]
    },
    {
      "cell_type": "markdown",
      "metadata": {
        "id": "fMeDtpjQYPmq"
      },
      "source": [
        "# Data Visualization (and some more EDA)\r\n",
        "\r\n",
        "We will now plot some simple graphs to identify any trends, patterns, correclations or oddeties in the data."
      ]
    },
    {
      "cell_type": "code",
      "metadata": {
        "id": "CO9cF2SSjewJ"
      },
      "source": [
        "#Lets look at any correlation between qualitative data features:\r\n",
        "\r\n",
        "#Define all variables:\r\n",
        "\r\n",
        "iWeight = dfSalesFinal['Item_Weight']\r\n",
        "iSales = dfSalesFinal['Sales']\r\n",
        "iVis = dfSalesFinal['Item_Visibility']\r\n",
        "iMRP = dfSalesFinal['Item_MRP']\r\n",
        "\r\n",
        "#plot 1: Item weight vs sales\r\n",
        "\r\n",
        "#plot 2: item weightvs Item MRP\r\n",
        "\r\n",
        "#plot 3: item weight vs Item Visibility\r\n",
        "\r\n",
        "#plot 4: Item MRP vs Sales\r\n",
        "\r\n",
        "#plot 5: Item Visibility vs sales\r\n",
        "\r\n",
        "#plot 6 Item MRP vd Item Visibility\r\n",
        "plt.figure(figsize = (25,25))\r\n",
        "plt.style.use('seaborn')\r\n",
        "plt.subplot(3,2,1)\r\n",
        "plt.title(\"Item Weight vs Sales Amount\",fontsize = 20)\r\n",
        "plt.xlabel('Item Weight',fontsize = 15)\r\n",
        "plt.ylabel('Sales Income',fontsize = 15)\r\n",
        "plt.scatter(iWeight,iSales)\r\n",
        "\r\n",
        "plt.subplot(3,2,2)\r\n",
        "plt.title(\"Item Weight vs Item MRP\",fontsize = 20)\r\n",
        "plt.xlabel('Item Weight',fontsize = 15)\r\n",
        "plt.ylabel('Item MRP',fontsize = 15)\r\n",
        "plt.scatter(iWeight,iMRP)\r\n",
        "\r\n",
        "plt.subplot(3,2,3)\r\n",
        "plt.title(\"Item Weight vs Item Visibility\",fontsize = 20)\r\n",
        "plt.xlabel('Item Weight',fontsize = 15)\r\n",
        "plt.ylabel('Item Visibility',fontsize = 15)\r\n",
        "plt.scatter(iWeight,iVis)\r\n",
        "\r\n",
        "plt.subplot(3,2,4)\r\n",
        "plt.title(\"Sales vs Item MRP\",fontsize = 20)\r\n",
        "plt.xlabel('Item MRP',fontsize = 15)\r\n",
        "plt.ylabel('Sales',fontsize = 15)\r\n",
        "plt.scatter(iMRP,iSales)\r\n",
        "\r\n",
        "plt.subplot(3,2,5)\r\n",
        "plt.title(\"Sales vs Item Visibility\",fontsize = 20)\r\n",
        "plt.xlabel('Item Visibility',fontsize = 15)\r\n",
        "plt.ylabel('Sales',fontsize = 15)\r\n",
        "plt.scatter(iVis,iSales)\r\n",
        "\r\n",
        "plt.subplot(3,2,6)\r\n",
        "plt.title(\"Item MRP vs Item Visibility\",fontsize = 20)\r\n",
        "plt.xlabel('Item Visibility',fontsize = 15)\r\n",
        "plt.ylabel('Item MRP',fontsize = 15)\r\n",
        "plt.scatter(iVis,iMRP)"
      ],
      "execution_count": null,
      "outputs": []
    },
    {
      "cell_type": "markdown",
      "metadata": {
        "id": "zx1BEQvSzEek"
      },
      "source": [
        "**Findings From Scatter Plots**\r\n",
        "\r\n",
        "Item weight vs sales:\r\n",
        "There is no correlation between Item Weight and Sales, though Sales seems to teeter off at some point this is natural as in a supermarket/grocery store you will have way more low cost items then high cost, that has nothing to do with Item Weight\r\n",
        "\r\n",
        "item weight vs Item MRP: Absolutely no correlation\r\n",
        "\r\n",
        "item weight vs Item Visibility: There is no correlation between features. At best there is a low linear correlation. Logically though there is no relationship between an items weight and its visibility, we can see that for all weights we have a wide distribution of items that are both more and less visible\r\n",
        "\r\n",
        "\r\n",
        "Item MRP vs Sales: There seems to be a low (loose) positive linear correlation between sales and MRP. Though it seems that the higher the sales are the more likely we are to have a stronger (higher) positive linear correlation bewteen the 2 features. This seems logical as the higher priced an item (priced at the MRP limit) the more likely it is to generate more sales revenue if sold, however, just because an item is priced at a higher MRP does not guarentee a sale, which can explain why we have values with varying sales for high MRPs. Conversley, an item with a low MRP can only generate so much revenue, which is why we dont see items with low MRPs in the higher sales brackets.\r\n",
        "\r\n",
        "Item Visibility vs sales: There is a low, loose negative linear correlation between item visibility and sales. This seems to almost be counter intuitive. One would think that the more visible the item is the more likely it is to get sold, however the graph seems to initially indicate otherwise, in that the more visible an item the less likely to gross a higher amount of sales.\r\n",
        "Possible reasons could be that when it comes to higher priced items people typically go in knowing what they are looking for, regardless of how much space is given to a displayed item. For example, a person could enter a store with the intention to buy a certain item and go directly to that area, perhaps even asking for the item by name without the need to search for it. Another reason could be that higher priced items may not need to be displayed multiple times, for example, you only need to display one cellphone to sell multiple cellphones, since the dummy model stays on display, unlike having an isle full of bread loaves. Another reason this may occur is that low visibility may give the illusion that an item is in high demand. If I go to the store and a certain brand of chocolate is either sold out or only seems to have a few bars left, it may give the illusion that this item is highly valued by others and may make me want it more and more likely to pay higher prices when I do see it. I'll want to purchase it before it runs out again. Lastly, it may not be cost effective for a store to stock and display high cost, perishable items. People may prefer cheaper alternatives and the high cost items - if displayed in bulk - could persish before being sold, resulting in a loss for the store. It would be better to stock only a few high cost items and sell out, then lose out.It is interesting to note that although there is a lose negative relationship between these variables, that there comes a point were when an item exceeds about 0.18 visibility, that relationship disappears altogther.\r\n",
        "\r\n",
        "Item MRP vd Item Visibility: No correlation of note"
      ]
    },
    {
      "cell_type": "markdown",
      "metadata": {
        "id": "N4Rm1LVDupk1"
      },
      "source": [
        "**Let's try visualize some of these with heatmaps**"
      ]
    },
    {
      "cell_type": "code",
      "metadata": {
        "colab": {
          "base_uri": "https://localhost:8080/",
          "height": 613
        },
        "id": "N5jmro7Tuoou",
        "outputId": "cd444913-d874-44dc-ce23-22bf86e1dd05"
      },
      "source": [
        "#Lets do a heat map of item visibility vs Sales\r\n",
        "dfcorrVvS = dfSalesFinal.loc[:,['Item_Visibility','Sales']]\r\n",
        "vns = dfcorrVvS.corr()\r\n",
        "xvns= vns.iloc[0].values\r\n",
        "yvns= vns.iloc[1].values\r\n",
        "arrayvns = [xvns,yvns]\r\n",
        "fig, ax = plt.subplots(figsize = (15,10))\r\n",
        "sns.heatmap(arrayvns,cmap=\"Blues\", annot = True, xticklabels= vns.iloc[0].index, yticklabels=vns.iloc[1].index, square = True, vmin = 0, vmax = 1)"
      ],
      "execution_count": 33,
      "outputs": [
        {
          "output_type": "execute_result",
          "data": {
            "text/plain": [
              "<matplotlib.axes._subplots.AxesSubplot at 0x7f20cdbee050>"
            ]
          },
          "metadata": {
            "tags": []
          },
          "execution_count": 33
        },
        {
          "output_type": "display_data",
          "data": {
            "image/png": "[encoded data removed]",
            "text/plain": [
              "<Figure size 1080x720 with 2 Axes>"
            ]
          },
          "metadata": {
            "tags": []
          }
        }
      ]
    },
    {
      "cell_type": "markdown",
      "metadata": {
        "id": "VOUtE62oynY9"
      },
      "source": [
        "This verifies that there is a very very loose negative correlation between sales and item visibility"
      ]
    },
    {
      "cell_type": "code",
      "metadata": {
        "colab": {
          "base_uri": "https://localhost:8080/",
          "height": 613
        },
        "id": "iORfMSX11W2a",
        "outputId": "3ec05def-f018-4992-e297-28b9c71e6d2a"
      },
      "source": [
        "#Lets do a heat map of item visibility vs Sales for visibility < 0.20\r\n",
        "dfcorrVvS2 = dfSalesFinal[dfSalesFinal['Item_Visibility']<0.2].loc[:,['Item_Visibility','Sales']]\r\n",
        "vns2 = dfcorrVvS2.corr()\r\n",
        "xvns2= vns2.iloc[0].values\r\n",
        "yvns2= vns2.iloc[1].values\r\n",
        "arrayvns2 = [xvns2,yvns2]\r\n",
        "fig, ax = plt.subplots(figsize = (15,10))\r\n",
        "sns.heatmap(arrayvns2,cmap=\"Blues\", annot = True, xticklabels= vns2.iloc[0].index, yticklabels=vns2.iloc[1].index, square = True, vmin = 0, vmax = 1)"
      ],
      "execution_count": 34,
      "outputs": [
        {
          "output_type": "execute_result",
          "data": {
            "text/plain": [
              "<matplotlib.axes._subplots.AxesSubplot at 0x7f20cc2f0f90>"
            ]
          },
          "metadata": {
            "tags": []
          },
          "execution_count": 34
        },
        {
          "output_type": "display_data",
          "data": {
            "image/png": "[encoded data removed]",
            "text/plain": [
              "<Figure size 1080x720 with 2 Axes>"
            ]
          },
          "metadata": {
            "tags": []
          }
        }
      ]
    },
    {
      "cell_type": "markdown",
      "metadata": {
        "id": "fKeRlE4m15lK"
      },
      "source": [
        "I presumed cutting out sales where visibility is <.2 would result in a slightly higher correlation but I was incorrect. I'm not sure why this is and need to think further on this - will come back to this later\r\n",
        "\r\n",
        "answer: The loose data after.2 actually helps pull the overall correlation up as its very low down so it helps the data to have a more negative trend. removing it makes the rest of the data points have a more linear trend since they have no datapoints to pull the trend downwards"
      ]
    },
    {
      "cell_type": "code",
      "metadata": {
        "colab": {
          "base_uri": "https://localhost:8080/",
          "height": 596
        },
        "id": "c_kK0WXAy7-q",
        "outputId": "def8a8a5-ba3e-4d52-8a2e-9abf72f72205"
      },
      "source": [
        "#Lets do a heat map of MRP vs Sales\r\n",
        "dfcorrMvS = dfSalesFinal.loc[:,['Item_MRP','Sales']]\r\n",
        "mns = dfcorrMvS.corr()\r\n",
        "xmns= mns.iloc[0].values\r\n",
        "ymns= mns.iloc[1].values\r\n",
        "arraymns = [xmns,ymns]\r\n",
        "fig, ax = plt.subplots(figsize = (15,10))\r\n",
        "sns.heatmap(arraymns,cmap=\"Blues\", annot = True, xticklabels= mns.iloc[0].index, yticklabels=mns.iloc[1].index, square = True, vmin = 0, vmax = 1);\r\n"
      ],
      "execution_count": 35,
      "outputs": [
        {
          "output_type": "display_data",
          "data": {
            "image/png": "[encoded data removed]",
            "text/plain": [
              "<Figure size 1080x720 with 2 Axes>"
            ]
          },
          "metadata": {
            "tags": []
          }
        }
      ]
    },
    {
      "cell_type": "markdown",
      "metadata": {
        "id": "lG23Z5E80lHV"
      },
      "source": [
        "Again, as confirmed in the previous correlation plots, there is a low-moderate positive linear correlation between MRP and sales, the correlation is stronger the higher sales gets"
      ]
    },
    {
      "cell_type": "markdown",
      "metadata": {
        "id": "q4wTTKnLxiR2"
      },
      "source": [
        "**More Visualizations**"
      ]
    },
    {
      "cell_type": "code",
      "metadata": {
        "colab": {
          "base_uri": "https://localhost:8080/",
          "height": 1000
        },
        "id": "oq_GrPYWmtjn",
        "outputId": "9fbc8fdd-f9fc-4446-8244-73c3abcce843"
      },
      "source": [
        "# See sales over time (year outlet was established)\r\n",
        "#Declare variables:\r\n",
        "#plot 1: Sales over time\r\n",
        "salespyear = dfSalesFinal.groupby('Outlet_Establishment_Year')['Sales'].sum()\r\n",
        "#plot 2 Sales over time by Outlet Type\r\n",
        "dfSalesOT = dfSalesFinal.groupby(['Outlet_Establishment_Year','Outlet_Type'])[['Sales']].sum().unstack(fill_value = 0)\r\n",
        "dfSalesOT.columns=['Grocery_Store_Sales','Supermarket_Type1_Sales','Supermarket_Type2_Sales']\r\n",
        "salespyearST1 = dfSalesOT['Supermarket_Type1_Sales']\r\n",
        "salespyearST2 = dfSalesOT['Supermarket_Type2_Sales']\r\n",
        "salespyearG = dfSalesOT['Grocery_Store_Sales']\r\n",
        "# salespyearST1 = dfSalesFinal[dfSalesFinal['Outlet_Type']=='Supermarket Type1'].groupby('Outlet_Establishment_Year')['Sales'].sum()\r\n",
        "# salespyearST2 = dfSalesFinal[dfSalesFinal['Outlet_Type']=='Supermarket Type2'].groupby('Outlet_Establishment_Year')['Sales'].sum()\r\n",
        "# salespyearG = dfSalesFinal[dfSalesFinal['Outlet_Type']=='Grocery Store'].groupby('Outlet_Establishment_Year')['Sales'].sum()\r\n",
        "\r\n",
        "#plot 3:  Sales over time by outlet Location Type\r\n",
        "# dfSalesLT = dfSalesFinal.groupby(['Outlet_Establishment_Year','Outlet_Location_Type'])[['Sales']].sum().unstack(fill_value = 0)\r\n",
        "# dfSalesLT.columns=['Tier1_Sales','Tier2_Sales','Tier3_Sales']\r\n",
        "dfmissing = pd.DataFrame([[1988,0,0,0],[1989,0,0,0],[1990,0,0,0],[1991,0,0,0],[1992,0,0,0],[1993,0,0,0],[1994,0,0,0],[1995,0,0,0],[1996,0,0,0],[2000,0,0,0],[2001,0,0,0],[2003,0,0,0],[2005,0,0,0],[2006,0,0,0],[2008,0,0,0]],columns=['Outlet_Establishment_Year','Tier1_Sales','Tier2_Sales','Tier3_Sales' ])\r\n",
        "dfSalesLT = dfSalesFinal.groupby(['Outlet_Establishment_Year','Outlet_Location_Type'])[['Sales']].sum().unstack(fill_value = 0).reset_index()\r\n",
        "dfSalesLT.columns=['Outlet_Establishment_Year','Tier1_Sales','Tier2_Sales','Tier3_Sales']\r\n",
        "dfSalesLTA = dfSalesLT.append(dfmissing).reset_index().sort_values(by='Outlet_Establishment_Year')\r\n",
        "salespyearLT1 = dfSalesLTA['Tier1_Sales']\r\n",
        "salespyearLT2 = dfSalesLTA['Tier2_Sales']\r\n",
        "salespyearLT3 = dfSalesLTA['Tier3_Sales']\r\n",
        "\r\n",
        "#plot 4: Sales over time by Outlet size\r\n",
        "dfSalesOS = dfSalesFinal.groupby(['Outlet_Establishment_Year','Outlet_Size'])[['Sales']].sum().unstack(fill_value = 0)\r\n",
        "dfSalesOS.columns=['High_Sales','Medium_Sales','Small_Sales','Unknown_Size_Sales']\r\n",
        "salespyearOS1 = dfSalesOS['High_Sales']\r\n",
        "salespyearOS2 = dfSalesOS['Medium_Sales']\r\n",
        "salespyearOS3 = dfSalesOS['Small_Sales']\r\n",
        "salespyearOS4 = dfSalesOS['Unknown_Size_Sales']\r\n",
        "\r\n",
        "\r\n",
        "\r\n",
        "margin = 0.05\r\n",
        "# width = (1.-2*margin)/len(nrange)\r\n",
        "w = 0.25\r\n",
        "nrange = np.arange(0,len(np.arange(min(salespyear.index),max(salespyear.index)+1,2)), 1)\r\n",
        "nindex = np.arange(len(nrange))\r\n",
        "plt.figure(figsize = (30,30))\r\n",
        "plt.style.use('seaborn')\r\n",
        "plt.subplot(4,1,1)\r\n",
        "plt.xticks(np.arange(min(salespyear.index),max(salespyear.index)+1,2), c = 'k')\r\n",
        "plt.title(\"Total Sales over Outlet Establishment Year\",fontsize = 20)\r\n",
        "plt.xlabel('Outlet Est. Year',fontsize = 15)\r\n",
        "plt.ylabel('Total Sales (in mil)',fontsize = 15)\r\n",
        "plt.bar(salespyear.index,salespyear.values/1_000_000,)\r\n",
        "#----------------------------------------------------------------------------------\r\n",
        "nrangeMain = np.arange(0,len(np.arange(min(dfSalesLTA.index),max(dfSalesLTA.index)+1,1)), 1)\r\n",
        "nindexMain = np.arange(len(nrangeMain))\r\n",
        "plt.subplot(4,1,2)\r\n",
        "plt.title(\"Total Sales over Outlet Establishment Year\",fontsize = 20)\r\n",
        "plt.xlabel('Outlet Est. Year',fontsize = 15)\r\n",
        "plt.ylabel('Total Sales (in mil)',fontsize = 15)\r\n",
        "plt.xticks(np.arange(min(salespyear.index),max(salespyear.index)+1,1), c = 'k')\r\n",
        "plt.bar(dfSalesOT.index ,salespyearST1/1_000_000, width = w, label = \"Supermarket Type 1\", color = 'lightsteelblue')\r\n",
        "plt.bar(dfSalesOT.index + w,salespyearST2/1_000_000, label = \"Supermarket Type 2\", color = 'royalblue', width = w)\r\n",
        "plt.bar(dfSalesOT.index - w,salespyearG/1_000_000, label = \"Grocery Store\", color = 'steelblue', width = w)\r\n",
        "plt.legend(title = 'Outlet Type')\r\n",
        "#-----------------------------------------------------------------------------------\r\n",
        "plt.subplot(4,1,3)\r\n",
        "plt.title(\"Total Sales over Outlet Establishment Year\",fontsize = 20)\r\n",
        "plt.xlabel('Outlet Est. Year',fontsize = 15)\r\n",
        "plt.ylabel('Total Sales (in mil)',fontsize = 15)\r\n",
        "labelsLTA = dfSalesLTA['Outlet_Establishment_Year'].sort_values()\r\n",
        "plt.xticks(np.arange(min(dfSalesLTA.index),max(dfSalesLTA.index)+1,1), c = 'k', labels = labelsLTA)\r\n",
        "# plt.xticks(np.arange(len(dfSalesLTA['Outlet_Establishment_Year'])), c = 'k')#, labels = labelsLTA)\r\n",
        "plt.bar(np.arange(len(dfSalesLTA['Outlet_Establishment_Year'])),salespyearLT1/1_000_000, width = w, label = \"Tier 1\", color = 'lightsteelblue', align = 'center')\r\n",
        "plt.bar(np.arange(len(dfSalesLTA['Outlet_Establishment_Year'])) + w,salespyearLT2/1_000_000, label = \"Tier 2\", color = 'royalblue', width = w, align = 'center')\r\n",
        "plt.bar(np.arange(len(dfSalesLTA['Outlet_Establishment_Year'])) - w,salespyearLT3/1_000_000, label = \"Tier 3\", color = 'steelblue', width = w, align = 'center')\r\n",
        "plt.legend(title = 'Outlet Location Type')\r\n",
        "#----------------------------------------------------------------------------------\r\n",
        "plt.subplot(4,1,4)\r\n",
        "plt.title(\"Total Sales over Outlet Establishment Year\",fontsize = 20)\r\n",
        "plt.xlabel('Outlet Est. Year',fontsize = 15)\r\n",
        "plt.ylabel('Total Sales (in mil)',fontsize = 15)\r\n",
        "plt.xticks(np.arange(min(salespyear.index),max(salespyear.index)+1,1), c = 'k')\r\n",
        "plt.bar(dfSalesOT.index ,salespyearOS1/1_000_000, width = w, label = \"High\", color = 'lightsteelblue')\r\n",
        "plt.bar(dfSalesOT.index + w,salespyearOS2/1_000_000, label = \"Medium\", color = 'royalblue', width = w)\r\n",
        "plt.bar(dfSalesOT.index - w,salespyearOS3/1_000_000, label = \"Small\", color = 'steelblue', width = w)\r\n",
        "plt.bar(dfSalesOT.index - w,salespyearOS4/1_000_000, label = \"Unknown\", color = 'paleturquoise', width = w)\r\n",
        "plt.legend(title = 'Outlet Size', loc = \"upper right\")\r\n",
        "#-----------------------------------------------------------------------------------"
      ],
      "execution_count": 36,
      "outputs": [
        {
          "output_type": "execute_result",
          "data": {
            "text/plain": [
              "<matplotlib.legend.Legend at 0x7f20cbefee90>"
            ]
          },
          "metadata": {
            "tags": []
          },
          "execution_count": 36
        },
        {
          "output_type": "display_data",
          "data": {
            "image/png": "[encoded data removed]",
            "text/plain": [
              "<Figure size 2160x2160 with 4 Axes>"
            ]
          },
          "metadata": {
            "tags": []
          }
        }
      ]
    },
    {
      "cell_type": "markdown",
      "metadata": {
        "id": "Wp0VVlEYWJ5A"
      },
      "source": [
        "**Findings concerning years outlets were established**\r\n",
        "\r\n",
        "There seems to be no apparent relationship between the size, type or location of outlets and their associated sales, with regards to the years they were opened. The only observation worth noting is the consistent plunge in sales in 1998. This may be due to the Dow Jones plummeting over 500 points that year. For more info see\r\n",
        "[here:](https://money.cnn.com/1998/08/31/markets/marketwrap/)\r\n",
        "\r\n",
        "Outlets in Location Tier 2 do seem to have more sales than other locations, however there are also more outlets than tier 1 and they were build more recently than tier 3 - they are also all of supermarket type 1. All these facts together may contribute to larger sales and not just Location Tier individually"
      ]
    },
    {
      "cell_type": "code",
      "metadata": {
        "colab": {
          "base_uri": "https://localhost:8080/",
          "height": 569
        },
        "id": "1g19_iQ3iIbP",
        "outputId": "34e56293-211c-46e8-ba38-55ba1a1aca50"
      },
      "source": [
        "ww = .35\r\n",
        "fig,ax = plt.subplots(figsize = (12,7))\r\n",
        "ax.grid(False)\r\n",
        "OTAvg = dfSalesFinal.groupby(['Outlet_Type'])['Sales'].mean()\r\n",
        "OTTot = dfSalesFinal.groupby(['Outlet_Type'])['Sales'].sum()/1_000_000\r\n",
        "\r\n",
        "ax.set_xlabel('Outlet Type',fontsize = 15)\r\n",
        "ax.set_ylabel('Avg Sales',fontsize = 15)\r\n",
        "ax.bar(np.arange(len(OTAvg.index)),OTAvg.values, color = 'steelblue', label = 'Total Sales', width = ww, align = 'center')\r\n",
        "ax.set_ylim(0,OTAvg.max() + 1000)\r\n",
        "\r\n",
        "ax2 = ax.twinx()\r\n",
        "ax2.set_ylabel('Total Sales (in mil)',fontsize = 15)\r\n",
        "ax2.grid(False)\r\n",
        "ax2.bar(np.arange(len(OTAvg.index)) + ww,OTTot.values, color = 'slategrey', label = 'Avg. Sales per outlet', width = ww)\r\n",
        "\r\n",
        "ax.legend(loc='upper left', facecolor = \"k\", fontsize = 13)\r\n",
        "ax2.legend(loc='best', facecolor = \"k\", fontsize = 13)\r\n",
        "plt.title(\"Total and Avg. Sales per Outlet Type\",fontsize = 20)\r\n",
        "plt.xticks(np.arange(len(OTAvg.index)) + w/2, c = 'k', labels = list(OTAvg.index))"
      ],
      "execution_count": 37,
      "outputs": [
        {
          "output_type": "execute_result",
          "data": {
            "text/plain": [
              "([<matplotlib.axis.XTick at 0x7f20cc206bd0>,\n",
              "  <matplotlib.axis.XTick at 0x7f20cc206790>,\n",
              "  <matplotlib.axis.XTick at 0x7f20cbea29d0>],\n",
              " [Text(0, 0, 'Grocery Store'),\n",
              "  Text(0, 0, 'Supermarket Type1'),\n",
              "  Text(0, 0, 'Supermarket Type2')])"
            ]
          },
          "metadata": {
            "tags": []
          },
          "execution_count": 37
        },
        {
          "output_type": "display_data",
          "data": {
            "image/png": "[encoded data removed]",
            "text/plain": [
              "<Figure size 864x504 with 2 Axes>"
            ]
          },
          "metadata": {
            "tags": []
          }
        }
      ]
    },
    {
      "cell_type": "markdown",
      "metadata": {
        "id": "8gt1RDWatKML"
      },
      "source": [
        "**Other**\r\n",
        "\r\n",
        "Even though Supermarket type 1 grosses the most sales by far, once we take the average sales per outlet of each type, the difference between type 1 and type 2 are greatly reduced, though type 1 still trumps type 2"
      ]
    },
    {
      "cell_type": "markdown",
      "metadata": {
        "id": "VrF-YTGFdCOi"
      },
      "source": [
        "**Evaluating Outlets Individually**"
      ]
    },
    {
      "cell_type": "code",
      "metadata": {
        "colab": {
          "base_uri": "https://localhost:8080/",
          "height": 403
        },
        "id": "j8KqP6j6PNM7",
        "outputId": "2e019d1d-0761-4753-d3f5-3e1d4eef86e0"
      },
      "source": [
        "#decalre vars:\r\n",
        "OutSales = dfSalesFinal.groupby(['Outlet_ID'])[['Sales']].sum()/1_000_000\r\n",
        "#plot\r\n",
        "plt.title(\"Total Sales per Outlet\",fontsize = 20)\r\n",
        "plt.xlabel('Outlet ID',fontsize = 15)\r\n",
        "plt.ylabel('Total Sales (in mil)',fontsize = 15)\r\n",
        "plt.bar(OutSales.index,OutSales['Sales'])"
      ],
      "execution_count": 38,
      "outputs": [
        {
          "output_type": "execute_result",
          "data": {
            "text/plain": [
              "<BarContainer object of 8 artists>"
            ]
          },
          "metadata": {
            "tags": []
          },
          "execution_count": 38
        },
        {
          "output_type": "display_data",
          "data": {
            "image/png": "[encoded data removed]",
            "text/plain": [
              "<Figure size 576x396 with 1 Axes>"
            ]
          },
          "metadata": {
            "tags": []
          }
        }
      ]
    },
    {
      "cell_type": "markdown",
      "metadata": {
        "id": "29ArLlpwfLsL"
      },
      "source": [
        "**Findings Concering Individual Outlets**\r\n",
        "\r\n",
        "Sales for all outlets seem consistent, except for outlet OUT010. It is interesing to not that OUT010 did not have an outlet size indicated, and is the only outlet that is of the 'grocery store' type. It is possible that this store had low sales due to its type. Grocery stores may be smaller and carry less stock."
      ]
    },
    {
      "cell_type": "markdown",
      "metadata": {
        "id": "kwhRZV1XusU8"
      },
      "source": [
        "**Evaluating Sales by Item Features**"
      ]
    },
    {
      "cell_type": "code",
      "metadata": {
        "colab": {
          "base_uri": "https://localhost:8080/",
          "height": 403
        },
        "id": "nGffEV6e0GdP",
        "outputId": "380c1ab0-7314-4fb6-8741-41e0f0992cc5"
      },
      "source": [
        "#WOverall top 10 items\r\n",
        "#decalre vars:\r\n",
        "ITSales = dfSalesFinal.groupby(['Item_ID'])[['Sales']].sum()\r\n",
        "ITSales = ITSales.sort_values(by = 'Sales',ascending = False).head(10)\r\n",
        "#plot\r\n",
        "plt.title(\"Total Sales per Top 10 Items\",fontsize = 20)\r\n",
        "plt.xlabel('Item ID',fontsize = 15)\r\n",
        "plt.ylabel('Total Sales',fontsize = 15)\r\n",
        "plt.bar(ITSales.index,ITSales['Sales'])"
      ],
      "execution_count": 39,
      "outputs": [
        {
          "output_type": "execute_result",
          "data": {
            "text/plain": [
              "<BarContainer object of 10 artists>"
            ]
          },
          "metadata": {
            "tags": []
          },
          "execution_count": 39
        },
        {
          "output_type": "display_data",
          "data": {
            "image/png": "[encoded data removed]",
            "text/plain": [
              "<Figure size 576x396 with 1 Axes>"
            ]
          },
          "metadata": {
            "tags": []
          }
        }
      ]
    },
    {
      "cell_type": "code",
      "metadata": {
        "id": "bzQdycUnEALU",
        "colab": {
          "base_uri": "https://localhost:8080/",
          "height": 789
        },
        "outputId": "12be3b8a-183f-4a6a-9ccc-c7bf26ea44a4"
      },
      "source": [
        "#by category\r\n",
        "#decalre vars:\r\n",
        "ITTypeSalesfat = dfSalesFinal.groupby(['Item_Type','Item_Fat_Content'])[['Sales']].sum().unstack(fill_value = 0).reset_index()\r\n",
        "ITTypeSalesfat.columns=['Item_Type','Low_Fat_Sales','Regular_Fat_Sales']\r\n",
        "ITTypeSalesLF = ITTypeSalesfat['Low_Fat_Sales']/1000_000\r\n",
        "ITTypeSalesRF = ITTypeSalesfat['Regular_Fat_Sales']/1000_000\r\n",
        "#plot\r\n",
        "plt.figure(figsize =(20,12))\r\n",
        "plt.title(\"Total Sales by Item Type\",fontsize = 20)\r\n",
        "plt.xlabel('Item Type',fontsize = 15)\r\n",
        "plt.ylabel('Total Sales (in mil)',fontsize = 15)\r\n",
        "lbls = ['\\n'.join(wrap(l, 10)) for l in ITTypeSalesfat['Item_Type']]\r\n",
        "plt.bar(lbls,ITTypeSalesRF, color= 'crimson')\r\n",
        "plt.bar(lbls,ITTypeSalesLF, color='silver', bottom= ITTypeSalesRF)\r\n",
        "\r\n",
        "plt.xticks(fontsize = 13)"
      ],
      "execution_count": 40,
      "outputs": [
        {
          "output_type": "execute_result",
          "data": {
            "text/plain": [
              "([0, 1, 2, 3, 4, 5, 6, 7, 8, 9, 10, 11, 12, 13, 14, 15],\n",
              " <a list of 16 Text major ticklabel objects>)"
            ]
          },
          "metadata": {
            "tags": []
          },
          "execution_count": 40
        },
        {
          "output_type": "display_data",
          "data": {
            "image/png": "[encoded data removed]",
            "text/plain": [
              "<Figure size 1440x864 with 1 Axes>"
            ]
          },
          "metadata": {
            "tags": []
          }
        }
      ]
    },
    {
      "cell_type": "markdown",
      "metadata": {
        "id": "LGDGNucc3yQv"
      },
      "source": [
        "**Product Findings**\r\n",
        "\r\n",
        "The top 10 highest Grossing individual items are all in the Dairy, Fruit n Veg, Frozen food, Snack foods, household, and health & hygiene categories\r\n",
        "\r\n",
        "Fruit n Veg is the highest grossing item category followed by snack foods and then household items. The lowest grossing category is Seafood, followed by Breakfast foods.\r\n",
        "\r\n",
        "The highest grossing Low Fat (edible) items is Fruit n veg. The lowest grossing Low Fat item category is seafood. The Highest grossing regular fat item is Fruit n Veg. The lowest grossing reg fat (edible) item is Seafood\r\n",
        "\r\n",
        "--------------------------------------------------------------------------------"
      ]
    },
    {
      "cell_type": "markdown",
      "metadata": {
        "id": "mdCS-pk9OcZ1"
      },
      "source": [
        "# Modeling\r\n",
        "\r\n",
        "Before we can fit a model to our data, we have to deal with all the categorical features. Lets make a new features matrix which includes the new encoded columns for each of the categorical features\r\n"
      ]
    },
    {
      "cell_type": "code",
      "metadata": {
        "id": "O2BJ47D_Puqc"
      },
      "source": [
        "#Create Target Vector\r\n",
        "\r\n",
        "y_true = dfSalesFinal['Sales'].values\r\n",
        "# get the original features matrix \r\n",
        "#we are going to eliminate Item_ID from the model since it has over 1500 unique categories, and would make our model super complex and possibly result in overfitting and storage issues\r\n",
        "Xpre = dfSalesFinal.loc[:, ~dfSalesFinal.columns.isin(['Sales','Item_ID'])]"
      ],
      "execution_count": 41,
      "outputs": []
    },
    {
      "cell_type": "code",
      "metadata": {
        "colab": {
          "base_uri": "https://localhost:8080/"
        },
        "id": "xH6lRAgJRL7e",
        "outputId": "6c05af2e-3da2-440e-c2d5-c493b4ec63ff"
      },
      "source": [
        "y_true.shape"
      ],
      "execution_count": 42,
      "outputs": [
        {
          "output_type": "execute_result",
          "data": {
            "text/plain": [
              "(7060,)"
            ]
          },
          "metadata": {
            "tags": []
          },
          "execution_count": 42
        }
      ]
    },
    {
      "cell_type": "code",
      "metadata": {
        "colab": {
          "base_uri": "https://localhost:8080/",
          "height": 609
        },
        "id": "FZrGPBn5VElZ",
        "outputId": "6f528d9d-e851-4a52-d426-d420add98706"
      },
      "source": [
        "dfSalesFinal"
      ],
      "execution_count": 43,
      "outputs": [
        {
          "output_type": "execute_result",
          "data": {
            "text/html": [
              "<div>\n",
              "<style scoped>\n",
              "    .dataframe tbody tr th:only-of-type {\n",
              "        vertical-align: middle;\n",
              "    }\n",
              "\n",
              "    .dataframe tbody tr th {\n",
              "        vertical-align: top;\n",
              "    }\n",
              "\n",
              "    .dataframe thead th {\n",
              "        text-align: right;\n",
              "    }\n",
              "</style>\n",
              "<table border=\"1\" class=\"dataframe\">\n",
              "  <thead>\n",
              "    <tr style=\"text-align: right;\">\n",
              "      <th></th>\n",
              "      <th>Item_ID</th>\n",
              "      <th>Item_Weight</th>\n",
              "      <th>Item_Fat_Content</th>\n",
              "      <th>Item_Visibility</th>\n",
              "      <th>Item_Type</th>\n",
              "      <th>Item_MRP</th>\n",
              "      <th>Outlet_ID</th>\n",
              "      <th>Outlet_Establishment_Year</th>\n",
              "      <th>Outlet_Size</th>\n",
              "      <th>Outlet_Location_Type</th>\n",
              "      <th>Outlet_Type</th>\n",
              "      <th>Sales</th>\n",
              "      <th>No_Item_Weight</th>\n",
              "      <th>No_Outlet_Size</th>\n",
              "    </tr>\n",
              "  </thead>\n",
              "  <tbody>\n",
              "    <tr>\n",
              "      <th>0</th>\n",
              "      <td>FDA15</td>\n",
              "      <td>9.300</td>\n",
              "      <td>Low Fat</td>\n",
              "      <td>0.016047</td>\n",
              "      <td>Dairy</td>\n",
              "      <td>249.8092</td>\n",
              "      <td>OUT049</td>\n",
              "      <td>1999</td>\n",
              "      <td>Medium</td>\n",
              "      <td>Tier 1</td>\n",
              "      <td>Supermarket Type1</td>\n",
              "      <td>3735.1380</td>\n",
              "      <td>False</td>\n",
              "      <td>False</td>\n",
              "    </tr>\n",
              "    <tr>\n",
              "      <th>1</th>\n",
              "      <td>DRC01</td>\n",
              "      <td>5.920</td>\n",
              "      <td>Regular</td>\n",
              "      <td>0.019278</td>\n",
              "      <td>Soft Drinks</td>\n",
              "      <td>48.2692</td>\n",
              "      <td>OUT018</td>\n",
              "      <td>2009</td>\n",
              "      <td>Medium</td>\n",
              "      <td>Tier 3</td>\n",
              "      <td>Supermarket Type2</td>\n",
              "      <td>443.4228</td>\n",
              "      <td>False</td>\n",
              "      <td>False</td>\n",
              "    </tr>\n",
              "    <tr>\n",
              "      <th>2</th>\n",
              "      <td>FDN15</td>\n",
              "      <td>17.500</td>\n",
              "      <td>Low Fat</td>\n",
              "      <td>0.016760</td>\n",
              "      <td>Meat</td>\n",
              "      <td>141.6180</td>\n",
              "      <td>OUT049</td>\n",
              "      <td>1999</td>\n",
              "      <td>Medium</td>\n",
              "      <td>Tier 1</td>\n",
              "      <td>Supermarket Type1</td>\n",
              "      <td>2097.2700</td>\n",
              "      <td>False</td>\n",
              "      <td>False</td>\n",
              "    </tr>\n",
              "    <tr>\n",
              "      <th>3</th>\n",
              "      <td>FDX07</td>\n",
              "      <td>19.200</td>\n",
              "      <td>Regular</td>\n",
              "      <td>0.000000</td>\n",
              "      <td>Fruits and Vegetables</td>\n",
              "      <td>182.0950</td>\n",
              "      <td>OUT010</td>\n",
              "      <td>1998</td>\n",
              "      <td>Unknown Size</td>\n",
              "      <td>Tier 3</td>\n",
              "      <td>Grocery Store</td>\n",
              "      <td>732.3800</td>\n",
              "      <td>False</td>\n",
              "      <td>True</td>\n",
              "    </tr>\n",
              "    <tr>\n",
              "      <th>4</th>\n",
              "      <td>NCD19</td>\n",
              "      <td>8.930</td>\n",
              "      <td>Low Fat</td>\n",
              "      <td>0.000000</td>\n",
              "      <td>Household</td>\n",
              "      <td>53.8614</td>\n",
              "      <td>OUT013</td>\n",
              "      <td>1987</td>\n",
              "      <td>High</td>\n",
              "      <td>Tier 3</td>\n",
              "      <td>Supermarket Type1</td>\n",
              "      <td>994.7052</td>\n",
              "      <td>False</td>\n",
              "      <td>False</td>\n",
              "    </tr>\n",
              "    <tr>\n",
              "      <th>...</th>\n",
              "      <td>...</td>\n",
              "      <td>...</td>\n",
              "      <td>...</td>\n",
              "      <td>...</td>\n",
              "      <td>...</td>\n",
              "      <td>...</td>\n",
              "      <td>...</td>\n",
              "      <td>...</td>\n",
              "      <td>...</td>\n",
              "      <td>...</td>\n",
              "      <td>...</td>\n",
              "      <td>...</td>\n",
              "      <td>...</td>\n",
              "      <td>...</td>\n",
              "    </tr>\n",
              "    <tr>\n",
              "      <th>8518</th>\n",
              "      <td>FDF22</td>\n",
              "      <td>6.865</td>\n",
              "      <td>Low Fat</td>\n",
              "      <td>0.056783</td>\n",
              "      <td>Snack Foods</td>\n",
              "      <td>214.5218</td>\n",
              "      <td>OUT013</td>\n",
              "      <td>1987</td>\n",
              "      <td>High</td>\n",
              "      <td>Tier 3</td>\n",
              "      <td>Supermarket Type1</td>\n",
              "      <td>2778.3834</td>\n",
              "      <td>False</td>\n",
              "      <td>False</td>\n",
              "    </tr>\n",
              "    <tr>\n",
              "      <th>8519</th>\n",
              "      <td>FDS36</td>\n",
              "      <td>8.380</td>\n",
              "      <td>Regular</td>\n",
              "      <td>0.046982</td>\n",
              "      <td>Baking Goods</td>\n",
              "      <td>108.1570</td>\n",
              "      <td>OUT045</td>\n",
              "      <td>2002</td>\n",
              "      <td>Unknown Size</td>\n",
              "      <td>Tier 2</td>\n",
              "      <td>Supermarket Type1</td>\n",
              "      <td>549.2850</td>\n",
              "      <td>False</td>\n",
              "      <td>True</td>\n",
              "    </tr>\n",
              "    <tr>\n",
              "      <th>8520</th>\n",
              "      <td>NCJ29</td>\n",
              "      <td>10.600</td>\n",
              "      <td>Low Fat</td>\n",
              "      <td>0.035186</td>\n",
              "      <td>Health and Hygiene</td>\n",
              "      <td>85.1224</td>\n",
              "      <td>OUT035</td>\n",
              "      <td>2004</td>\n",
              "      <td>Small</td>\n",
              "      <td>Tier 2</td>\n",
              "      <td>Supermarket Type1</td>\n",
              "      <td>1193.1136</td>\n",
              "      <td>False</td>\n",
              "      <td>False</td>\n",
              "    </tr>\n",
              "    <tr>\n",
              "      <th>8521</th>\n",
              "      <td>FDN46</td>\n",
              "      <td>7.210</td>\n",
              "      <td>Regular</td>\n",
              "      <td>0.145221</td>\n",
              "      <td>Snack Foods</td>\n",
              "      <td>103.1332</td>\n",
              "      <td>OUT018</td>\n",
              "      <td>2009</td>\n",
              "      <td>Medium</td>\n",
              "      <td>Tier 3</td>\n",
              "      <td>Supermarket Type2</td>\n",
              "      <td>1845.5976</td>\n",
              "      <td>False</td>\n",
              "      <td>False</td>\n",
              "    </tr>\n",
              "    <tr>\n",
              "      <th>8522</th>\n",
              "      <td>DRG01</td>\n",
              "      <td>14.800</td>\n",
              "      <td>Low Fat</td>\n",
              "      <td>0.044878</td>\n",
              "      <td>Soft Drinks</td>\n",
              "      <td>75.4670</td>\n",
              "      <td>OUT046</td>\n",
              "      <td>1997</td>\n",
              "      <td>Small</td>\n",
              "      <td>Tier 1</td>\n",
              "      <td>Supermarket Type1</td>\n",
              "      <td>765.6700</td>\n",
              "      <td>False</td>\n",
              "      <td>False</td>\n",
              "    </tr>\n",
              "  </tbody>\n",
              "</table>\n",
              "<p>7060 rows × 14 columns</p>\n",
              "</div>"
            ],
            "text/plain": [
              "     Item_ID  Item_Weight  ... No_Item_Weight  No_Outlet_Size\n",
              "0      FDA15        9.300  ...          False           False\n",
              "1      DRC01        5.920  ...          False           False\n",
              "2      FDN15       17.500  ...          False           False\n",
              "3      FDX07       19.200  ...          False            True\n",
              "4      NCD19        8.930  ...          False           False\n",
              "...      ...          ...  ...            ...             ...\n",
              "8518   FDF22        6.865  ...          False           False\n",
              "8519   FDS36        8.380  ...          False            True\n",
              "8520   NCJ29       10.600  ...          False           False\n",
              "8521   FDN46        7.210  ...          False           False\n",
              "8522   DRG01       14.800  ...          False           False\n",
              "\n",
              "[7060 rows x 14 columns]"
            ]
          },
          "metadata": {
            "tags": []
          },
          "execution_count": 43
        }
      ]
    },
    {
      "cell_type": "code",
      "metadata": {
        "colab": {
          "base_uri": "https://localhost:8080/",
          "height": 691
        },
        "id": "fecPUh-vW96K",
        "outputId": "93fb213f-cb6c-4c6d-a74b-fa7f9b49999b"
      },
      "source": [
        "#We want to make Year into an ordinal categorical value, so lets change the type\r\n",
        "Xpre['Outlet_Establishment_Year'] = Xpre['Outlet_Establishment_Year'].apply(str)\r\n",
        "\r\n",
        "Xpre"
      ],
      "execution_count": 44,
      "outputs": [
        {
          "output_type": "stream",
          "text": [
            "/usr/local/lib/python3.7/dist-packages/ipykernel_launcher.py:2: SettingWithCopyWarning: \n",
            "A value is trying to be set on a copy of a slice from a DataFrame.\n",
            "Try using .loc[row_indexer,col_indexer] = value instead\n",
            "\n",
            "See the caveats in the documentation: https://pandas.pydata.org/pandas-docs/stable/user_guide/indexing.html#returning-a-view-versus-a-copy\n",
            "  \n"
          ],
          "name": "stderr"
        },
        {
          "output_type": "execute_result",
          "data": {
            "text/html": [
              "<div>\n",
              "<style scoped>\n",
              "    .dataframe tbody tr th:only-of-type {\n",
              "        vertical-align: middle;\n",
              "    }\n",
              "\n",
              "    .dataframe tbody tr th {\n",
              "        vertical-align: top;\n",
              "    }\n",
              "\n",
              "    .dataframe thead th {\n",
              "        text-align: right;\n",
              "    }\n",
              "</style>\n",
              "<table border=\"1\" class=\"dataframe\">\n",
              "  <thead>\n",
              "    <tr style=\"text-align: right;\">\n",
              "      <th></th>\n",
              "      <th>Item_Weight</th>\n",
              "      <th>Item_Fat_Content</th>\n",
              "      <th>Item_Visibility</th>\n",
              "      <th>Item_Type</th>\n",
              "      <th>Item_MRP</th>\n",
              "      <th>Outlet_ID</th>\n",
              "      <th>Outlet_Establishment_Year</th>\n",
              "      <th>Outlet_Size</th>\n",
              "      <th>Outlet_Location_Type</th>\n",
              "      <th>Outlet_Type</th>\n",
              "      <th>No_Item_Weight</th>\n",
              "      <th>No_Outlet_Size</th>\n",
              "    </tr>\n",
              "  </thead>\n",
              "  <tbody>\n",
              "    <tr>\n",
              "      <th>0</th>\n",
              "      <td>9.300</td>\n",
              "      <td>Low Fat</td>\n",
              "      <td>0.016047</td>\n",
              "      <td>Dairy</td>\n",
              "      <td>249.8092</td>\n",
              "      <td>OUT049</td>\n",
              "      <td>1999</td>\n",
              "      <td>Medium</td>\n",
              "      <td>Tier 1</td>\n",
              "      <td>Supermarket Type1</td>\n",
              "      <td>False</td>\n",
              "      <td>False</td>\n",
              "    </tr>\n",
              "    <tr>\n",
              "      <th>1</th>\n",
              "      <td>5.920</td>\n",
              "      <td>Regular</td>\n",
              "      <td>0.019278</td>\n",
              "      <td>Soft Drinks</td>\n",
              "      <td>48.2692</td>\n",
              "      <td>OUT018</td>\n",
              "      <td>2009</td>\n",
              "      <td>Medium</td>\n",
              "      <td>Tier 3</td>\n",
              "      <td>Supermarket Type2</td>\n",
              "      <td>False</td>\n",
              "      <td>False</td>\n",
              "    </tr>\n",
              "    <tr>\n",
              "      <th>2</th>\n",
              "      <td>17.500</td>\n",
              "      <td>Low Fat</td>\n",
              "      <td>0.016760</td>\n",
              "      <td>Meat</td>\n",
              "      <td>141.6180</td>\n",
              "      <td>OUT049</td>\n",
              "      <td>1999</td>\n",
              "      <td>Medium</td>\n",
              "      <td>Tier 1</td>\n",
              "      <td>Supermarket Type1</td>\n",
              "      <td>False</td>\n",
              "      <td>False</td>\n",
              "    </tr>\n",
              "    <tr>\n",
              "      <th>3</th>\n",
              "      <td>19.200</td>\n",
              "      <td>Regular</td>\n",
              "      <td>0.000000</td>\n",
              "      <td>Fruits and Vegetables</td>\n",
              "      <td>182.0950</td>\n",
              "      <td>OUT010</td>\n",
              "      <td>1998</td>\n",
              "      <td>Unknown Size</td>\n",
              "      <td>Tier 3</td>\n",
              "      <td>Grocery Store</td>\n",
              "      <td>False</td>\n",
              "      <td>True</td>\n",
              "    </tr>\n",
              "    <tr>\n",
              "      <th>4</th>\n",
              "      <td>8.930</td>\n",
              "      <td>Low Fat</td>\n",
              "      <td>0.000000</td>\n",
              "      <td>Household</td>\n",
              "      <td>53.8614</td>\n",
              "      <td>OUT013</td>\n",
              "      <td>1987</td>\n",
              "      <td>High</td>\n",
              "      <td>Tier 3</td>\n",
              "      <td>Supermarket Type1</td>\n",
              "      <td>False</td>\n",
              "      <td>False</td>\n",
              "    </tr>\n",
              "    <tr>\n",
              "      <th>...</th>\n",
              "      <td>...</td>\n",
              "      <td>...</td>\n",
              "      <td>...</td>\n",
              "      <td>...</td>\n",
              "      <td>...</td>\n",
              "      <td>...</td>\n",
              "      <td>...</td>\n",
              "      <td>...</td>\n",
              "      <td>...</td>\n",
              "      <td>...</td>\n",
              "      <td>...</td>\n",
              "      <td>...</td>\n",
              "    </tr>\n",
              "    <tr>\n",
              "      <th>8518</th>\n",
              "      <td>6.865</td>\n",
              "      <td>Low Fat</td>\n",
              "      <td>0.056783</td>\n",
              "      <td>Snack Foods</td>\n",
              "      <td>214.5218</td>\n",
              "      <td>OUT013</td>\n",
              "      <td>1987</td>\n",
              "      <td>High</td>\n",
              "      <td>Tier 3</td>\n",
              "      <td>Supermarket Type1</td>\n",
              "      <td>False</td>\n",
              "      <td>False</td>\n",
              "    </tr>\n",
              "    <tr>\n",
              "      <th>8519</th>\n",
              "      <td>8.380</td>\n",
              "      <td>Regular</td>\n",
              "      <td>0.046982</td>\n",
              "      <td>Baking Goods</td>\n",
              "      <td>108.1570</td>\n",
              "      <td>OUT045</td>\n",
              "      <td>2002</td>\n",
              "      <td>Unknown Size</td>\n",
              "      <td>Tier 2</td>\n",
              "      <td>Supermarket Type1</td>\n",
              "      <td>False</td>\n",
              "      <td>True</td>\n",
              "    </tr>\n",
              "    <tr>\n",
              "      <th>8520</th>\n",
              "      <td>10.600</td>\n",
              "      <td>Low Fat</td>\n",
              "      <td>0.035186</td>\n",
              "      <td>Health and Hygiene</td>\n",
              "      <td>85.1224</td>\n",
              "      <td>OUT035</td>\n",
              "      <td>2004</td>\n",
              "      <td>Small</td>\n",
              "      <td>Tier 2</td>\n",
              "      <td>Supermarket Type1</td>\n",
              "      <td>False</td>\n",
              "      <td>False</td>\n",
              "    </tr>\n",
              "    <tr>\n",
              "      <th>8521</th>\n",
              "      <td>7.210</td>\n",
              "      <td>Regular</td>\n",
              "      <td>0.145221</td>\n",
              "      <td>Snack Foods</td>\n",
              "      <td>103.1332</td>\n",
              "      <td>OUT018</td>\n",
              "      <td>2009</td>\n",
              "      <td>Medium</td>\n",
              "      <td>Tier 3</td>\n",
              "      <td>Supermarket Type2</td>\n",
              "      <td>False</td>\n",
              "      <td>False</td>\n",
              "    </tr>\n",
              "    <tr>\n",
              "      <th>8522</th>\n",
              "      <td>14.800</td>\n",
              "      <td>Low Fat</td>\n",
              "      <td>0.044878</td>\n",
              "      <td>Soft Drinks</td>\n",
              "      <td>75.4670</td>\n",
              "      <td>OUT046</td>\n",
              "      <td>1997</td>\n",
              "      <td>Small</td>\n",
              "      <td>Tier 1</td>\n",
              "      <td>Supermarket Type1</td>\n",
              "      <td>False</td>\n",
              "      <td>False</td>\n",
              "    </tr>\n",
              "  </tbody>\n",
              "</table>\n",
              "<p>7060 rows × 12 columns</p>\n",
              "</div>"
            ],
            "text/plain": [
              "      Item_Weight Item_Fat_Content  ...  No_Item_Weight No_Outlet_Size\n",
              "0           9.300          Low Fat  ...           False          False\n",
              "1           5.920          Regular  ...           False          False\n",
              "2          17.500          Low Fat  ...           False          False\n",
              "3          19.200          Regular  ...           False           True\n",
              "4           8.930          Low Fat  ...           False          False\n",
              "...           ...              ...  ...             ...            ...\n",
              "8518        6.865          Low Fat  ...           False          False\n",
              "8519        8.380          Regular  ...           False           True\n",
              "8520       10.600          Low Fat  ...           False          False\n",
              "8521        7.210          Regular  ...           False          False\n",
              "8522       14.800          Low Fat  ...           False          False\n",
              "\n",
              "[7060 rows x 12 columns]"
            ]
          },
          "metadata": {
            "tags": []
          },
          "execution_count": 44
        }
      ]
    },
    {
      "cell_type": "code",
      "metadata": {
        "id": "Bh3YYV55Xv6S"
      },
      "source": [
        "#Get a features matrix of only Categorical Values:\r\n",
        "CatX = Xpre.select_dtypes(include=['object']).copy()"
      ],
      "execution_count": 45,
      "outputs": []
    },
    {
      "cell_type": "code",
      "metadata": {
        "colab": {
          "base_uri": "https://localhost:8080/",
          "height": 419
        },
        "id": "bB1dz8EyaF1H",
        "outputId": "21f1eeb3-c2fe-48d9-f377-11d2edf6d6a7"
      },
      "source": [
        "CatX\r\n"
      ],
      "execution_count": 46,
      "outputs": [
        {
          "output_type": "execute_result",
          "data": {
            "text/html": [
              "<div>\n",
              "<style scoped>\n",
              "    .dataframe tbody tr th:only-of-type {\n",
              "        vertical-align: middle;\n",
              "    }\n",
              "\n",
              "    .dataframe tbody tr th {\n",
              "        vertical-align: top;\n",
              "    }\n",
              "\n",
              "    .dataframe thead th {\n",
              "        text-align: right;\n",
              "    }\n",
              "</style>\n",
              "<table border=\"1\" class=\"dataframe\">\n",
              "  <thead>\n",
              "    <tr style=\"text-align: right;\">\n",
              "      <th></th>\n",
              "      <th>Item_Fat_Content</th>\n",
              "      <th>Item_Type</th>\n",
              "      <th>Outlet_ID</th>\n",
              "      <th>Outlet_Establishment_Year</th>\n",
              "      <th>Outlet_Size</th>\n",
              "      <th>Outlet_Location_Type</th>\n",
              "      <th>Outlet_Type</th>\n",
              "    </tr>\n",
              "  </thead>\n",
              "  <tbody>\n",
              "    <tr>\n",
              "      <th>0</th>\n",
              "      <td>Low Fat</td>\n",
              "      <td>Dairy</td>\n",
              "      <td>OUT049</td>\n",
              "      <td>1999</td>\n",
              "      <td>Medium</td>\n",
              "      <td>Tier 1</td>\n",
              "      <td>Supermarket Type1</td>\n",
              "    </tr>\n",
              "    <tr>\n",
              "      <th>1</th>\n",
              "      <td>Regular</td>\n",
              "      <td>Soft Drinks</td>\n",
              "      <td>OUT018</td>\n",
              "      <td>2009</td>\n",
              "      <td>Medium</td>\n",
              "      <td>Tier 3</td>\n",
              "      <td>Supermarket Type2</td>\n",
              "    </tr>\n",
              "    <tr>\n",
              "      <th>2</th>\n",
              "      <td>Low Fat</td>\n",
              "      <td>Meat</td>\n",
              "      <td>OUT049</td>\n",
              "      <td>1999</td>\n",
              "      <td>Medium</td>\n",
              "      <td>Tier 1</td>\n",
              "      <td>Supermarket Type1</td>\n",
              "    </tr>\n",
              "    <tr>\n",
              "      <th>3</th>\n",
              "      <td>Regular</td>\n",
              "      <td>Fruits and Vegetables</td>\n",
              "      <td>OUT010</td>\n",
              "      <td>1998</td>\n",
              "      <td>Unknown Size</td>\n",
              "      <td>Tier 3</td>\n",
              "      <td>Grocery Store</td>\n",
              "    </tr>\n",
              "    <tr>\n",
              "      <th>4</th>\n",
              "      <td>Low Fat</td>\n",
              "      <td>Household</td>\n",
              "      <td>OUT013</td>\n",
              "      <td>1987</td>\n",
              "      <td>High</td>\n",
              "      <td>Tier 3</td>\n",
              "      <td>Supermarket Type1</td>\n",
              "    </tr>\n",
              "    <tr>\n",
              "      <th>...</th>\n",
              "      <td>...</td>\n",
              "      <td>...</td>\n",
              "      <td>...</td>\n",
              "      <td>...</td>\n",
              "      <td>...</td>\n",
              "      <td>...</td>\n",
              "      <td>...</td>\n",
              "    </tr>\n",
              "    <tr>\n",
              "      <th>8518</th>\n",
              "      <td>Low Fat</td>\n",
              "      <td>Snack Foods</td>\n",
              "      <td>OUT013</td>\n",
              "      <td>1987</td>\n",
              "      <td>High</td>\n",
              "      <td>Tier 3</td>\n",
              "      <td>Supermarket Type1</td>\n",
              "    </tr>\n",
              "    <tr>\n",
              "      <th>8519</th>\n",
              "      <td>Regular</td>\n",
              "      <td>Baking Goods</td>\n",
              "      <td>OUT045</td>\n",
              "      <td>2002</td>\n",
              "      <td>Unknown Size</td>\n",
              "      <td>Tier 2</td>\n",
              "      <td>Supermarket Type1</td>\n",
              "    </tr>\n",
              "    <tr>\n",
              "      <th>8520</th>\n",
              "      <td>Low Fat</td>\n",
              "      <td>Health and Hygiene</td>\n",
              "      <td>OUT035</td>\n",
              "      <td>2004</td>\n",
              "      <td>Small</td>\n",
              "      <td>Tier 2</td>\n",
              "      <td>Supermarket Type1</td>\n",
              "    </tr>\n",
              "    <tr>\n",
              "      <th>8521</th>\n",
              "      <td>Regular</td>\n",
              "      <td>Snack Foods</td>\n",
              "      <td>OUT018</td>\n",
              "      <td>2009</td>\n",
              "      <td>Medium</td>\n",
              "      <td>Tier 3</td>\n",
              "      <td>Supermarket Type2</td>\n",
              "    </tr>\n",
              "    <tr>\n",
              "      <th>8522</th>\n",
              "      <td>Low Fat</td>\n",
              "      <td>Soft Drinks</td>\n",
              "      <td>OUT046</td>\n",
              "      <td>1997</td>\n",
              "      <td>Small</td>\n",
              "      <td>Tier 1</td>\n",
              "      <td>Supermarket Type1</td>\n",
              "    </tr>\n",
              "  </tbody>\n",
              "</table>\n",
              "<p>7060 rows × 7 columns</p>\n",
              "</div>"
            ],
            "text/plain": [
              "     Item_Fat_Content  ...        Outlet_Type\n",
              "0             Low Fat  ...  Supermarket Type1\n",
              "1             Regular  ...  Supermarket Type2\n",
              "2             Low Fat  ...  Supermarket Type1\n",
              "3             Regular  ...      Grocery Store\n",
              "4             Low Fat  ...  Supermarket Type1\n",
              "...               ...  ...                ...\n",
              "8518          Low Fat  ...  Supermarket Type1\n",
              "8519          Regular  ...  Supermarket Type1\n",
              "8520          Low Fat  ...  Supermarket Type1\n",
              "8521          Regular  ...  Supermarket Type2\n",
              "8522          Low Fat  ...  Supermarket Type1\n",
              "\n",
              "[7060 rows x 7 columns]"
            ]
          },
          "metadata": {
            "tags": []
          },
          "execution_count": 46
        }
      ]
    },
    {
      "cell_type": "code",
      "metadata": {
        "colab": {
          "base_uri": "https://localhost:8080/"
        },
        "id": "o2S3VBqxevOF",
        "outputId": "67c60953-cd54-4725-d2ef-6d5f889d5e83"
      },
      "source": [
        "#Outlet_Location_Type, Outlet_Size, Year, Fat_Content (And Maybe Outlet_Type) are ordinal data and can therefore we transformed with label encoding.\r\n",
        "encoder = ce.OrdinalEncoder(cols=['Item_Fat_Content','Outlet_Size','Outlet_Location_Type','Outlet_Type','Outlet_Establishment_Year'], return_df=True,mapping=[{'col':'Outlet_Size','mapping':{'Unknown Size':0,'Small':1,'Medium':2,'High':3}},\r\n",
        "                                                                                                                     {'col':'Outlet_Location_Type','mapping':{'Tier 1':0,'Tier 2':1,'Tier 3':2}},\r\n",
        "                                                                                                                    {'col':'Item_Fat_Content','mapping':{'Low Fat':0,'Regular':1}},\r\n",
        "                                                                                                                    {'col':'Outlet_Type','mapping':{'Grocery Store':0,'Supermarket Type1':1,'Supermarket Type2':2}},\r\n",
        "                                                                                                                    {'col':'Outlet_Establishment_Year','mapping':{'1987':0,'1997':1,\r\n",
        "                                                                                                                                                                  '1998':2,'1999':3,'2002':4,\r\n",
        "                                                                                                                                                                  '2004':5,'2007':6,'2009':7}}])\r\n",
        "XTransform1 = encoder.fit_transform(CatX)\r\n"
      ],
      "execution_count": 47,
      "outputs": [
        {
          "output_type": "stream",
          "text": [
            "/usr/local/lib/python3.7/dist-packages/category_encoders/utils.py:21: FutureWarning: is_categorical is deprecated and will be removed in a future version.  Use is_categorical_dtype instead\n",
            "  elif pd.api.types.is_categorical(cols):\n"
          ],
          "name": "stderr"
        }
      ]
    },
    {
      "cell_type": "code",
      "metadata": {
        "colab": {
          "base_uri": "https://localhost:8080/",
          "height": 419
        },
        "id": "rlCxh3b-wBVA",
        "outputId": "fd340d61-76fc-468f-d7ce-01f2eb2ad57a"
      },
      "source": [
        "XTransform1"
      ],
      "execution_count": 48,
      "outputs": [
        {
          "output_type": "execute_result",
          "data": {
            "text/html": [
              "<div>\n",
              "<style scoped>\n",
              "    .dataframe tbody tr th:only-of-type {\n",
              "        vertical-align: middle;\n",
              "    }\n",
              "\n",
              "    .dataframe tbody tr th {\n",
              "        vertical-align: top;\n",
              "    }\n",
              "\n",
              "    .dataframe thead th {\n",
              "        text-align: right;\n",
              "    }\n",
              "</style>\n",
              "<table border=\"1\" class=\"dataframe\">\n",
              "  <thead>\n",
              "    <tr style=\"text-align: right;\">\n",
              "      <th></th>\n",
              "      <th>Item_Fat_Content</th>\n",
              "      <th>Item_Type</th>\n",
              "      <th>Outlet_ID</th>\n",
              "      <th>Outlet_Establishment_Year</th>\n",
              "      <th>Outlet_Size</th>\n",
              "      <th>Outlet_Location_Type</th>\n",
              "      <th>Outlet_Type</th>\n",
              "    </tr>\n",
              "  </thead>\n",
              "  <tbody>\n",
              "    <tr>\n",
              "      <th>0</th>\n",
              "      <td>0</td>\n",
              "      <td>Dairy</td>\n",
              "      <td>OUT049</td>\n",
              "      <td>3</td>\n",
              "      <td>2</td>\n",
              "      <td>0</td>\n",
              "      <td>1</td>\n",
              "    </tr>\n",
              "    <tr>\n",
              "      <th>1</th>\n",
              "      <td>1</td>\n",
              "      <td>Soft Drinks</td>\n",
              "      <td>OUT018</td>\n",
              "      <td>7</td>\n",
              "      <td>2</td>\n",
              "      <td>2</td>\n",
              "      <td>2</td>\n",
              "    </tr>\n",
              "    <tr>\n",
              "      <th>2</th>\n",
              "      <td>0</td>\n",
              "      <td>Meat</td>\n",
              "      <td>OUT049</td>\n",
              "      <td>3</td>\n",
              "      <td>2</td>\n",
              "      <td>0</td>\n",
              "      <td>1</td>\n",
              "    </tr>\n",
              "    <tr>\n",
              "      <th>3</th>\n",
              "      <td>1</td>\n",
              "      <td>Fruits and Vegetables</td>\n",
              "      <td>OUT010</td>\n",
              "      <td>2</td>\n",
              "      <td>0</td>\n",
              "      <td>2</td>\n",
              "      <td>0</td>\n",
              "    </tr>\n",
              "    <tr>\n",
              "      <th>4</th>\n",
              "      <td>0</td>\n",
              "      <td>Household</td>\n",
              "      <td>OUT013</td>\n",
              "      <td>0</td>\n",
              "      <td>3</td>\n",
              "      <td>2</td>\n",
              "      <td>1</td>\n",
              "    </tr>\n",
              "    <tr>\n",
              "      <th>...</th>\n",
              "      <td>...</td>\n",
              "      <td>...</td>\n",
              "      <td>...</td>\n",
              "      <td>...</td>\n",
              "      <td>...</td>\n",
              "      <td>...</td>\n",
              "      <td>...</td>\n",
              "    </tr>\n",
              "    <tr>\n",
              "      <th>8518</th>\n",
              "      <td>0</td>\n",
              "      <td>Snack Foods</td>\n",
              "      <td>OUT013</td>\n",
              "      <td>0</td>\n",
              "      <td>3</td>\n",
              "      <td>2</td>\n",
              "      <td>1</td>\n",
              "    </tr>\n",
              "    <tr>\n",
              "      <th>8519</th>\n",
              "      <td>1</td>\n",
              "      <td>Baking Goods</td>\n",
              "      <td>OUT045</td>\n",
              "      <td>4</td>\n",
              "      <td>0</td>\n",
              "      <td>1</td>\n",
              "      <td>1</td>\n",
              "    </tr>\n",
              "    <tr>\n",
              "      <th>8520</th>\n",
              "      <td>0</td>\n",
              "      <td>Health and Hygiene</td>\n",
              "      <td>OUT035</td>\n",
              "      <td>5</td>\n",
              "      <td>1</td>\n",
              "      <td>1</td>\n",
              "      <td>1</td>\n",
              "    </tr>\n",
              "    <tr>\n",
              "      <th>8521</th>\n",
              "      <td>1</td>\n",
              "      <td>Snack Foods</td>\n",
              "      <td>OUT018</td>\n",
              "      <td>7</td>\n",
              "      <td>2</td>\n",
              "      <td>2</td>\n",
              "      <td>2</td>\n",
              "    </tr>\n",
              "    <tr>\n",
              "      <th>8522</th>\n",
              "      <td>0</td>\n",
              "      <td>Soft Drinks</td>\n",
              "      <td>OUT046</td>\n",
              "      <td>1</td>\n",
              "      <td>1</td>\n",
              "      <td>0</td>\n",
              "      <td>1</td>\n",
              "    </tr>\n",
              "  </tbody>\n",
              "</table>\n",
              "<p>7060 rows × 7 columns</p>\n",
              "</div>"
            ],
            "text/plain": [
              "      Item_Fat_Content  ... Outlet_Type\n",
              "0                    0  ...           1\n",
              "1                    1  ...           2\n",
              "2                    0  ...           1\n",
              "3                    1  ...           0\n",
              "4                    0  ...           1\n",
              "...                ...  ...         ...\n",
              "8518                 0  ...           1\n",
              "8519                 1  ...           1\n",
              "8520                 0  ...           1\n",
              "8521                 1  ...           2\n",
              "8522                 0  ...           1\n",
              "\n",
              "[7060 rows x 7 columns]"
            ]
          },
          "metadata": {
            "tags": []
          },
          "execution_count": 48
        }
      ]
    },
    {
      "cell_type": "code",
      "metadata": {
        "colab": {
          "base_uri": "https://localhost:8080/"
        },
        "id": "QfBng4KDi_3q",
        "outputId": "1091085b-19df-41f0-d284-fd82347bd057"
      },
      "source": [
        "#Now lets deal with the nominal data. Get ready for a big model\r\n",
        "#Im choosing to use OneHot Encoding - we are going to get >20 new columns, but I think this is still reasonable enough not to impact storage and overfitting too much\r\n",
        "#If we see the model is overfitted, we can come back and change the method we use here\r\n",
        "hotencoder = ce.OneHotEncoder(cols= ['Item_Type','Outlet_ID'],return_df= True, use_cat_names= True)\r\n",
        "catDone = hotencoder.fit_transform(XTransform1)"
      ],
      "execution_count": 49,
      "outputs": [
        {
          "output_type": "stream",
          "text": [
            "/usr/local/lib/python3.7/dist-packages/category_encoders/utils.py:21: FutureWarning: is_categorical is deprecated and will be removed in a future version.  Use is_categorical_dtype instead\n",
            "  elif pd.api.types.is_categorical(cols):\n"
          ],
          "name": "stderr"
        }
      ]
    },
    {
      "cell_type": "code",
      "metadata": {
        "colab": {
          "base_uri": "https://localhost:8080/",
          "height": 456
        },
        "id": "65rPmsukxDUt",
        "outputId": "794b2563-ebd4-4b80-d80a-141a96d1572c"
      },
      "source": [
        "catDone"
      ],
      "execution_count": 50,
      "outputs": [
        {
          "output_type": "execute_result",
          "data": {
            "text/html": [
              "<div>\n",
              "<style scoped>\n",
              "    .dataframe tbody tr th:only-of-type {\n",
              "        vertical-align: middle;\n",
              "    }\n",
              "\n",
              "    .dataframe tbody tr th {\n",
              "        vertical-align: top;\n",
              "    }\n",
              "\n",
              "    .dataframe thead th {\n",
              "        text-align: right;\n",
              "    }\n",
              "</style>\n",
              "<table border=\"1\" class=\"dataframe\">\n",
              "  <thead>\n",
              "    <tr style=\"text-align: right;\">\n",
              "      <th></th>\n",
              "      <th>Item_Fat_Content</th>\n",
              "      <th>Item_Type_Dairy</th>\n",
              "      <th>Item_Type_Soft Drinks</th>\n",
              "      <th>Item_Type_Meat</th>\n",
              "      <th>Item_Type_Fruits and Vegetables</th>\n",
              "      <th>Item_Type_Household</th>\n",
              "      <th>Item_Type_Baking Goods</th>\n",
              "      <th>Item_Type_Snack Foods</th>\n",
              "      <th>Item_Type_Frozen Foods</th>\n",
              "      <th>Item_Type_Breakfast</th>\n",
              "      <th>Item_Type_Health and Hygiene</th>\n",
              "      <th>Item_Type_Hard Drinks</th>\n",
              "      <th>Item_Type_Breads</th>\n",
              "      <th>Item_Type_Canned</th>\n",
              "      <th>Item_Type_Starchy Foods</th>\n",
              "      <th>Item_Type_Others</th>\n",
              "      <th>Item_Type_Seafood</th>\n",
              "      <th>Outlet_ID_OUT049</th>\n",
              "      <th>Outlet_ID_OUT018</th>\n",
              "      <th>Outlet_ID_OUT010</th>\n",
              "      <th>Outlet_ID_OUT013</th>\n",
              "      <th>Outlet_ID_OUT045</th>\n",
              "      <th>Outlet_ID_OUT017</th>\n",
              "      <th>Outlet_ID_OUT046</th>\n",
              "      <th>Outlet_ID_OUT035</th>\n",
              "      <th>Outlet_Establishment_Year</th>\n",
              "      <th>Outlet_Size</th>\n",
              "      <th>Outlet_Location_Type</th>\n",
              "      <th>Outlet_Type</th>\n",
              "    </tr>\n",
              "  </thead>\n",
              "  <tbody>\n",
              "    <tr>\n",
              "      <th>0</th>\n",
              "      <td>0</td>\n",
              "      <td>1</td>\n",
              "      <td>0</td>\n",
              "      <td>0</td>\n",
              "      <td>0</td>\n",
              "      <td>0</td>\n",
              "      <td>0</td>\n",
              "      <td>0</td>\n",
              "      <td>0</td>\n",
              "      <td>0</td>\n",
              "      <td>0</td>\n",
              "      <td>0</td>\n",
              "      <td>0</td>\n",
              "      <td>0</td>\n",
              "      <td>0</td>\n",
              "      <td>0</td>\n",
              "      <td>0</td>\n",
              "      <td>1</td>\n",
              "      <td>0</td>\n",
              "      <td>0</td>\n",
              "      <td>0</td>\n",
              "      <td>0</td>\n",
              "      <td>0</td>\n",
              "      <td>0</td>\n",
              "      <td>0</td>\n",
              "      <td>3</td>\n",
              "      <td>2</td>\n",
              "      <td>0</td>\n",
              "      <td>1</td>\n",
              "    </tr>\n",
              "    <tr>\n",
              "      <th>1</th>\n",
              "      <td>1</td>\n",
              "      <td>0</td>\n",
              "      <td>1</td>\n",
              "      <td>0</td>\n",
              "      <td>0</td>\n",
              "      <td>0</td>\n",
              "      <td>0</td>\n",
              "      <td>0</td>\n",
              "      <td>0</td>\n",
              "      <td>0</td>\n",
              "      <td>0</td>\n",
              "      <td>0</td>\n",
              "      <td>0</td>\n",
              "      <td>0</td>\n",
              "      <td>0</td>\n",
              "      <td>0</td>\n",
              "      <td>0</td>\n",
              "      <td>0</td>\n",
              "      <td>1</td>\n",
              "      <td>0</td>\n",
              "      <td>0</td>\n",
              "      <td>0</td>\n",
              "      <td>0</td>\n",
              "      <td>0</td>\n",
              "      <td>0</td>\n",
              "      <td>7</td>\n",
              "      <td>2</td>\n",
              "      <td>2</td>\n",
              "      <td>2</td>\n",
              "    </tr>\n",
              "    <tr>\n",
              "      <th>2</th>\n",
              "      <td>0</td>\n",
              "      <td>0</td>\n",
              "      <td>0</td>\n",
              "      <td>1</td>\n",
              "      <td>0</td>\n",
              "      <td>0</td>\n",
              "      <td>0</td>\n",
              "      <td>0</td>\n",
              "      <td>0</td>\n",
              "      <td>0</td>\n",
              "      <td>0</td>\n",
              "      <td>0</td>\n",
              "      <td>0</td>\n",
              "      <td>0</td>\n",
              "      <td>0</td>\n",
              "      <td>0</td>\n",
              "      <td>0</td>\n",
              "      <td>1</td>\n",
              "      <td>0</td>\n",
              "      <td>0</td>\n",
              "      <td>0</td>\n",
              "      <td>0</td>\n",
              "      <td>0</td>\n",
              "      <td>0</td>\n",
              "      <td>0</td>\n",
              "      <td>3</td>\n",
              "      <td>2</td>\n",
              "      <td>0</td>\n",
              "      <td>1</td>\n",
              "    </tr>\n",
              "    <tr>\n",
              "      <th>3</th>\n",
              "      <td>1</td>\n",
              "      <td>0</td>\n",
              "      <td>0</td>\n",
              "      <td>0</td>\n",
              "      <td>1</td>\n",
              "      <td>0</td>\n",
              "      <td>0</td>\n",
              "      <td>0</td>\n",
              "      <td>0</td>\n",
              "      <td>0</td>\n",
              "      <td>0</td>\n",
              "      <td>0</td>\n",
              "      <td>0</td>\n",
              "      <td>0</td>\n",
              "      <td>0</td>\n",
              "      <td>0</td>\n",
              "      <td>0</td>\n",
              "      <td>0</td>\n",
              "      <td>0</td>\n",
              "      <td>1</td>\n",
              "      <td>0</td>\n",
              "      <td>0</td>\n",
              "      <td>0</td>\n",
              "      <td>0</td>\n",
              "      <td>0</td>\n",
              "      <td>2</td>\n",
              "      <td>0</td>\n",
              "      <td>2</td>\n",
              "      <td>0</td>\n",
              "    </tr>\n",
              "    <tr>\n",
              "      <th>4</th>\n",
              "      <td>0</td>\n",
              "      <td>0</td>\n",
              "      <td>0</td>\n",
              "      <td>0</td>\n",
              "      <td>0</td>\n",
              "      <td>1</td>\n",
              "      <td>0</td>\n",
              "      <td>0</td>\n",
              "      <td>0</td>\n",
              "      <td>0</td>\n",
              "      <td>0</td>\n",
              "      <td>0</td>\n",
              "      <td>0</td>\n",
              "      <td>0</td>\n",
              "      <td>0</td>\n",
              "      <td>0</td>\n",
              "      <td>0</td>\n",
              "      <td>0</td>\n",
              "      <td>0</td>\n",
              "      <td>0</td>\n",
              "      <td>1</td>\n",
              "      <td>0</td>\n",
              "      <td>0</td>\n",
              "      <td>0</td>\n",
              "      <td>0</td>\n",
              "      <td>0</td>\n",
              "      <td>3</td>\n",
              "      <td>2</td>\n",
              "      <td>1</td>\n",
              "    </tr>\n",
              "    <tr>\n",
              "      <th>...</th>\n",
              "      <td>...</td>\n",
              "      <td>...</td>\n",
              "      <td>...</td>\n",
              "      <td>...</td>\n",
              "      <td>...</td>\n",
              "      <td>...</td>\n",
              "      <td>...</td>\n",
              "      <td>...</td>\n",
              "      <td>...</td>\n",
              "      <td>...</td>\n",
              "      <td>...</td>\n",
              "      <td>...</td>\n",
              "      <td>...</td>\n",
              "      <td>...</td>\n",
              "      <td>...</td>\n",
              "      <td>...</td>\n",
              "      <td>...</td>\n",
              "      <td>...</td>\n",
              "      <td>...</td>\n",
              "      <td>...</td>\n",
              "      <td>...</td>\n",
              "      <td>...</td>\n",
              "      <td>...</td>\n",
              "      <td>...</td>\n",
              "      <td>...</td>\n",
              "      <td>...</td>\n",
              "      <td>...</td>\n",
              "      <td>...</td>\n",
              "      <td>...</td>\n",
              "    </tr>\n",
              "    <tr>\n",
              "      <th>8518</th>\n",
              "      <td>0</td>\n",
              "      <td>0</td>\n",
              "      <td>0</td>\n",
              "      <td>0</td>\n",
              "      <td>0</td>\n",
              "      <td>0</td>\n",
              "      <td>0</td>\n",
              "      <td>1</td>\n",
              "      <td>0</td>\n",
              "      <td>0</td>\n",
              "      <td>0</td>\n",
              "      <td>0</td>\n",
              "      <td>0</td>\n",
              "      <td>0</td>\n",
              "      <td>0</td>\n",
              "      <td>0</td>\n",
              "      <td>0</td>\n",
              "      <td>0</td>\n",
              "      <td>0</td>\n",
              "      <td>0</td>\n",
              "      <td>1</td>\n",
              "      <td>0</td>\n",
              "      <td>0</td>\n",
              "      <td>0</td>\n",
              "      <td>0</td>\n",
              "      <td>0</td>\n",
              "      <td>3</td>\n",
              "      <td>2</td>\n",
              "      <td>1</td>\n",
              "    </tr>\n",
              "    <tr>\n",
              "      <th>8519</th>\n",
              "      <td>1</td>\n",
              "      <td>0</td>\n",
              "      <td>0</td>\n",
              "      <td>0</td>\n",
              "      <td>0</td>\n",
              "      <td>0</td>\n",
              "      <td>1</td>\n",
              "      <td>0</td>\n",
              "      <td>0</td>\n",
              "      <td>0</td>\n",
              "      <td>0</td>\n",
              "      <td>0</td>\n",
              "      <td>0</td>\n",
              "      <td>0</td>\n",
              "      <td>0</td>\n",
              "      <td>0</td>\n",
              "      <td>0</td>\n",
              "      <td>0</td>\n",
              "      <td>0</td>\n",
              "      <td>0</td>\n",
              "      <td>0</td>\n",
              "      <td>1</td>\n",
              "      <td>0</td>\n",
              "      <td>0</td>\n",
              "      <td>0</td>\n",
              "      <td>4</td>\n",
              "      <td>0</td>\n",
              "      <td>1</td>\n",
              "      <td>1</td>\n",
              "    </tr>\n",
              "    <tr>\n",
              "      <th>8520</th>\n",
              "      <td>0</td>\n",
              "      <td>0</td>\n",
              "      <td>0</td>\n",
              "      <td>0</td>\n",
              "      <td>0</td>\n",
              "      <td>0</td>\n",
              "      <td>0</td>\n",
              "      <td>0</td>\n",
              "      <td>0</td>\n",
              "      <td>0</td>\n",
              "      <td>1</td>\n",
              "      <td>0</td>\n",
              "      <td>0</td>\n",
              "      <td>0</td>\n",
              "      <td>0</td>\n",
              "      <td>0</td>\n",
              "      <td>0</td>\n",
              "      <td>0</td>\n",
              "      <td>0</td>\n",
              "      <td>0</td>\n",
              "      <td>0</td>\n",
              "      <td>0</td>\n",
              "      <td>0</td>\n",
              "      <td>0</td>\n",
              "      <td>1</td>\n",
              "      <td>5</td>\n",
              "      <td>1</td>\n",
              "      <td>1</td>\n",
              "      <td>1</td>\n",
              "    </tr>\n",
              "    <tr>\n",
              "      <th>8521</th>\n",
              "      <td>1</td>\n",
              "      <td>0</td>\n",
              "      <td>0</td>\n",
              "      <td>0</td>\n",
              "      <td>0</td>\n",
              "      <td>0</td>\n",
              "      <td>0</td>\n",
              "      <td>1</td>\n",
              "      <td>0</td>\n",
              "      <td>0</td>\n",
              "      <td>0</td>\n",
              "      <td>0</td>\n",
              "      <td>0</td>\n",
              "      <td>0</td>\n",
              "      <td>0</td>\n",
              "      <td>0</td>\n",
              "      <td>0</td>\n",
              "      <td>0</td>\n",
              "      <td>1</td>\n",
              "      <td>0</td>\n",
              "      <td>0</td>\n",
              "      <td>0</td>\n",
              "      <td>0</td>\n",
              "      <td>0</td>\n",
              "      <td>0</td>\n",
              "      <td>7</td>\n",
              "      <td>2</td>\n",
              "      <td>2</td>\n",
              "      <td>2</td>\n",
              "    </tr>\n",
              "    <tr>\n",
              "      <th>8522</th>\n",
              "      <td>0</td>\n",
              "      <td>0</td>\n",
              "      <td>1</td>\n",
              "      <td>0</td>\n",
              "      <td>0</td>\n",
              "      <td>0</td>\n",
              "      <td>0</td>\n",
              "      <td>0</td>\n",
              "      <td>0</td>\n",
              "      <td>0</td>\n",
              "      <td>0</td>\n",
              "      <td>0</td>\n",
              "      <td>0</td>\n",
              "      <td>0</td>\n",
              "      <td>0</td>\n",
              "      <td>0</td>\n",
              "      <td>0</td>\n",
              "      <td>0</td>\n",
              "      <td>0</td>\n",
              "      <td>0</td>\n",
              "      <td>0</td>\n",
              "      <td>0</td>\n",
              "      <td>0</td>\n",
              "      <td>1</td>\n",
              "      <td>0</td>\n",
              "      <td>1</td>\n",
              "      <td>1</td>\n",
              "      <td>0</td>\n",
              "      <td>1</td>\n",
              "    </tr>\n",
              "  </tbody>\n",
              "</table>\n",
              "<p>7060 rows × 29 columns</p>\n",
              "</div>"
            ],
            "text/plain": [
              "      Item_Fat_Content  Item_Type_Dairy  ...  Outlet_Location_Type  Outlet_Type\n",
              "0                    0                1  ...                     0            1\n",
              "1                    1                0  ...                     2            2\n",
              "2                    0                0  ...                     0            1\n",
              "3                    1                0  ...                     2            0\n",
              "4                    0                0  ...                     2            1\n",
              "...                ...              ...  ...                   ...          ...\n",
              "8518                 0                0  ...                     2            1\n",
              "8519                 1                0  ...                     1            1\n",
              "8520                 0                0  ...                     1            1\n",
              "8521                 1                0  ...                     2            2\n",
              "8522                 0                0  ...                     0            1\n",
              "\n",
              "[7060 rows x 29 columns]"
            ]
          },
          "metadata": {
            "tags": []
          },
          "execution_count": 50
        }
      ]
    },
    {
      "cell_type": "code",
      "metadata": {
        "colab": {
          "base_uri": "https://localhost:8080/",
          "height": 456
        },
        "id": "0f9NOwX5plpl",
        "outputId": "5937d516-2bc0-4bf7-aa38-ec821603eaf6"
      },
      "source": [
        "# catDone.info() #has 29 columns\r\n",
        "#we need to concatenate this with the continuous variables from the original Data Frame\r\n",
        "X = pd.concat([Xpre[['Item_Visibility','Item_MRP','No_Outlet_Size']],catDone], axis=1)\r\n",
        "X"
      ],
      "execution_count": 54,
      "outputs": [
        {
          "output_type": "execute_result",
          "data": {
            "text/html": [
              "<div>\n",
              "<style scoped>\n",
              "    .dataframe tbody tr th:only-of-type {\n",
              "        vertical-align: middle;\n",
              "    }\n",
              "\n",
              "    .dataframe tbody tr th {\n",
              "        vertical-align: top;\n",
              "    }\n",
              "\n",
              "    .dataframe thead th {\n",
              "        text-align: right;\n",
              "    }\n",
              "</style>\n",
              "<table border=\"1\" class=\"dataframe\">\n",
              "  <thead>\n",
              "    <tr style=\"text-align: right;\">\n",
              "      <th></th>\n",
              "      <th>Item_Visibility</th>\n",
              "      <th>Item_MRP</th>\n",
              "      <th>No_Outlet_Size</th>\n",
              "      <th>Item_Fat_Content</th>\n",
              "      <th>Item_Type_Dairy</th>\n",
              "      <th>Item_Type_Soft Drinks</th>\n",
              "      <th>Item_Type_Meat</th>\n",
              "      <th>Item_Type_Fruits and Vegetables</th>\n",
              "      <th>Item_Type_Household</th>\n",
              "      <th>Item_Type_Baking Goods</th>\n",
              "      <th>Item_Type_Snack Foods</th>\n",
              "      <th>Item_Type_Frozen Foods</th>\n",
              "      <th>Item_Type_Breakfast</th>\n",
              "      <th>Item_Type_Health and Hygiene</th>\n",
              "      <th>Item_Type_Hard Drinks</th>\n",
              "      <th>Item_Type_Breads</th>\n",
              "      <th>Item_Type_Canned</th>\n",
              "      <th>Item_Type_Starchy Foods</th>\n",
              "      <th>Item_Type_Others</th>\n",
              "      <th>Item_Type_Seafood</th>\n",
              "      <th>Outlet_ID_OUT049</th>\n",
              "      <th>Outlet_ID_OUT018</th>\n",
              "      <th>Outlet_ID_OUT010</th>\n",
              "      <th>Outlet_ID_OUT013</th>\n",
              "      <th>Outlet_ID_OUT045</th>\n",
              "      <th>Outlet_ID_OUT017</th>\n",
              "      <th>Outlet_ID_OUT046</th>\n",
              "      <th>Outlet_ID_OUT035</th>\n",
              "      <th>Outlet_Establishment_Year</th>\n",
              "      <th>Outlet_Size</th>\n",
              "      <th>Outlet_Location_Type</th>\n",
              "      <th>Outlet_Type</th>\n",
              "    </tr>\n",
              "  </thead>\n",
              "  <tbody>\n",
              "    <tr>\n",
              "      <th>0</th>\n",
              "      <td>0.016047</td>\n",
              "      <td>249.8092</td>\n",
              "      <td>False</td>\n",
              "      <td>0</td>\n",
              "      <td>1</td>\n",
              "      <td>0</td>\n",
              "      <td>0</td>\n",
              "      <td>0</td>\n",
              "      <td>0</td>\n",
              "      <td>0</td>\n",
              "      <td>0</td>\n",
              "      <td>0</td>\n",
              "      <td>0</td>\n",
              "      <td>0</td>\n",
              "      <td>0</td>\n",
              "      <td>0</td>\n",
              "      <td>0</td>\n",
              "      <td>0</td>\n",
              "      <td>0</td>\n",
              "      <td>0</td>\n",
              "      <td>1</td>\n",
              "      <td>0</td>\n",
              "      <td>0</td>\n",
              "      <td>0</td>\n",
              "      <td>0</td>\n",
              "      <td>0</td>\n",
              "      <td>0</td>\n",
              "      <td>0</td>\n",
              "      <td>3</td>\n",
              "      <td>2</td>\n",
              "      <td>0</td>\n",
              "      <td>1</td>\n",
              "    </tr>\n",
              "    <tr>\n",
              "      <th>1</th>\n",
              "      <td>0.019278</td>\n",
              "      <td>48.2692</td>\n",
              "      <td>False</td>\n",
              "      <td>1</td>\n",
              "      <td>0</td>\n",
              "      <td>1</td>\n",
              "      <td>0</td>\n",
              "      <td>0</td>\n",
              "      <td>0</td>\n",
              "      <td>0</td>\n",
              "      <td>0</td>\n",
              "      <td>0</td>\n",
              "      <td>0</td>\n",
              "      <td>0</td>\n",
              "      <td>0</td>\n",
              "      <td>0</td>\n",
              "      <td>0</td>\n",
              "      <td>0</td>\n",
              "      <td>0</td>\n",
              "      <td>0</td>\n",
              "      <td>0</td>\n",
              "      <td>1</td>\n",
              "      <td>0</td>\n",
              "      <td>0</td>\n",
              "      <td>0</td>\n",
              "      <td>0</td>\n",
              "      <td>0</td>\n",
              "      <td>0</td>\n",
              "      <td>7</td>\n",
              "      <td>2</td>\n",
              "      <td>2</td>\n",
              "      <td>2</td>\n",
              "    </tr>\n",
              "    <tr>\n",
              "      <th>2</th>\n",
              "      <td>0.016760</td>\n",
              "      <td>141.6180</td>\n",
              "      <td>False</td>\n",
              "      <td>0</td>\n",
              "      <td>0</td>\n",
              "      <td>0</td>\n",
              "      <td>1</td>\n",
              "      <td>0</td>\n",
              "      <td>0</td>\n",
              "      <td>0</td>\n",
              "      <td>0</td>\n",
              "      <td>0</td>\n",
              "      <td>0</td>\n",
              "      <td>0</td>\n",
              "      <td>0</td>\n",
              "      <td>0</td>\n",
              "      <td>0</td>\n",
              "      <td>0</td>\n",
              "      <td>0</td>\n",
              "      <td>0</td>\n",
              "      <td>1</td>\n",
              "      <td>0</td>\n",
              "      <td>0</td>\n",
              "      <td>0</td>\n",
              "      <td>0</td>\n",
              "      <td>0</td>\n",
              "      <td>0</td>\n",
              "      <td>0</td>\n",
              "      <td>3</td>\n",
              "      <td>2</td>\n",
              "      <td>0</td>\n",
              "      <td>1</td>\n",
              "    </tr>\n",
              "    <tr>\n",
              "      <th>3</th>\n",
              "      <td>0.000000</td>\n",
              "      <td>182.0950</td>\n",
              "      <td>True</td>\n",
              "      <td>1</td>\n",
              "      <td>0</td>\n",
              "      <td>0</td>\n",
              "      <td>0</td>\n",
              "      <td>1</td>\n",
              "      <td>0</td>\n",
              "      <td>0</td>\n",
              "      <td>0</td>\n",
              "      <td>0</td>\n",
              "      <td>0</td>\n",
              "      <td>0</td>\n",
              "      <td>0</td>\n",
              "      <td>0</td>\n",
              "      <td>0</td>\n",
              "      <td>0</td>\n",
              "      <td>0</td>\n",
              "      <td>0</td>\n",
              "      <td>0</td>\n",
              "      <td>0</td>\n",
              "      <td>1</td>\n",
              "      <td>0</td>\n",
              "      <td>0</td>\n",
              "      <td>0</td>\n",
              "      <td>0</td>\n",
              "      <td>0</td>\n",
              "      <td>2</td>\n",
              "      <td>0</td>\n",
              "      <td>2</td>\n",
              "      <td>0</td>\n",
              "    </tr>\n",
              "    <tr>\n",
              "      <th>4</th>\n",
              "      <td>0.000000</td>\n",
              "      <td>53.8614</td>\n",
              "      <td>False</td>\n",
              "      <td>0</td>\n",
              "      <td>0</td>\n",
              "      <td>0</td>\n",
              "      <td>0</td>\n",
              "      <td>0</td>\n",
              "      <td>1</td>\n",
              "      <td>0</td>\n",
              "      <td>0</td>\n",
              "      <td>0</td>\n",
              "      <td>0</td>\n",
              "      <td>0</td>\n",
              "      <td>0</td>\n",
              "      <td>0</td>\n",
              "      <td>0</td>\n",
              "      <td>0</td>\n",
              "      <td>0</td>\n",
              "      <td>0</td>\n",
              "      <td>0</td>\n",
              "      <td>0</td>\n",
              "      <td>0</td>\n",
              "      <td>1</td>\n",
              "      <td>0</td>\n",
              "      <td>0</td>\n",
              "      <td>0</td>\n",
              "      <td>0</td>\n",
              "      <td>0</td>\n",
              "      <td>3</td>\n",
              "      <td>2</td>\n",
              "      <td>1</td>\n",
              "    </tr>\n",
              "    <tr>\n",
              "      <th>...</th>\n",
              "      <td>...</td>\n",
              "      <td>...</td>\n",
              "      <td>...</td>\n",
              "      <td>...</td>\n",
              "      <td>...</td>\n",
              "      <td>...</td>\n",
              "      <td>...</td>\n",
              "      <td>...</td>\n",
              "      <td>...</td>\n",
              "      <td>...</td>\n",
              "      <td>...</td>\n",
              "      <td>...</td>\n",
              "      <td>...</td>\n",
              "      <td>...</td>\n",
              "      <td>...</td>\n",
              "      <td>...</td>\n",
              "      <td>...</td>\n",
              "      <td>...</td>\n",
              "      <td>...</td>\n",
              "      <td>...</td>\n",
              "      <td>...</td>\n",
              "      <td>...</td>\n",
              "      <td>...</td>\n",
              "      <td>...</td>\n",
              "      <td>...</td>\n",
              "      <td>...</td>\n",
              "      <td>...</td>\n",
              "      <td>...</td>\n",
              "      <td>...</td>\n",
              "      <td>...</td>\n",
              "      <td>...</td>\n",
              "      <td>...</td>\n",
              "    </tr>\n",
              "    <tr>\n",
              "      <th>8518</th>\n",
              "      <td>0.056783</td>\n",
              "      <td>214.5218</td>\n",
              "      <td>False</td>\n",
              "      <td>0</td>\n",
              "      <td>0</td>\n",
              "      <td>0</td>\n",
              "      <td>0</td>\n",
              "      <td>0</td>\n",
              "      <td>0</td>\n",
              "      <td>0</td>\n",
              "      <td>1</td>\n",
              "      <td>0</td>\n",
              "      <td>0</td>\n",
              "      <td>0</td>\n",
              "      <td>0</td>\n",
              "      <td>0</td>\n",
              "      <td>0</td>\n",
              "      <td>0</td>\n",
              "      <td>0</td>\n",
              "      <td>0</td>\n",
              "      <td>0</td>\n",
              "      <td>0</td>\n",
              "      <td>0</td>\n",
              "      <td>1</td>\n",
              "      <td>0</td>\n",
              "      <td>0</td>\n",
              "      <td>0</td>\n",
              "      <td>0</td>\n",
              "      <td>0</td>\n",
              "      <td>3</td>\n",
              "      <td>2</td>\n",
              "      <td>1</td>\n",
              "    </tr>\n",
              "    <tr>\n",
              "      <th>8519</th>\n",
              "      <td>0.046982</td>\n",
              "      <td>108.1570</td>\n",
              "      <td>True</td>\n",
              "      <td>1</td>\n",
              "      <td>0</td>\n",
              "      <td>0</td>\n",
              "      <td>0</td>\n",
              "      <td>0</td>\n",
              "      <td>0</td>\n",
              "      <td>1</td>\n",
              "      <td>0</td>\n",
              "      <td>0</td>\n",
              "      <td>0</td>\n",
              "      <td>0</td>\n",
              "      <td>0</td>\n",
              "      <td>0</td>\n",
              "      <td>0</td>\n",
              "      <td>0</td>\n",
              "      <td>0</td>\n",
              "      <td>0</td>\n",
              "      <td>0</td>\n",
              "      <td>0</td>\n",
              "      <td>0</td>\n",
              "      <td>0</td>\n",
              "      <td>1</td>\n",
              "      <td>0</td>\n",
              "      <td>0</td>\n",
              "      <td>0</td>\n",
              "      <td>4</td>\n",
              "      <td>0</td>\n",
              "      <td>1</td>\n",
              "      <td>1</td>\n",
              "    </tr>\n",
              "    <tr>\n",
              "      <th>8520</th>\n",
              "      <td>0.035186</td>\n",
              "      <td>85.1224</td>\n",
              "      <td>False</td>\n",
              "      <td>0</td>\n",
              "      <td>0</td>\n",
              "      <td>0</td>\n",
              "      <td>0</td>\n",
              "      <td>0</td>\n",
              "      <td>0</td>\n",
              "      <td>0</td>\n",
              "      <td>0</td>\n",
              "      <td>0</td>\n",
              "      <td>0</td>\n",
              "      <td>1</td>\n",
              "      <td>0</td>\n",
              "      <td>0</td>\n",
              "      <td>0</td>\n",
              "      <td>0</td>\n",
              "      <td>0</td>\n",
              "      <td>0</td>\n",
              "      <td>0</td>\n",
              "      <td>0</td>\n",
              "      <td>0</td>\n",
              "      <td>0</td>\n",
              "      <td>0</td>\n",
              "      <td>0</td>\n",
              "      <td>0</td>\n",
              "      <td>1</td>\n",
              "      <td>5</td>\n",
              "      <td>1</td>\n",
              "      <td>1</td>\n",
              "      <td>1</td>\n",
              "    </tr>\n",
              "    <tr>\n",
              "      <th>8521</th>\n",
              "      <td>0.145221</td>\n",
              "      <td>103.1332</td>\n",
              "      <td>False</td>\n",
              "      <td>1</td>\n",
              "      <td>0</td>\n",
              "      <td>0</td>\n",
              "      <td>0</td>\n",
              "      <td>0</td>\n",
              "      <td>0</td>\n",
              "      <td>0</td>\n",
              "      <td>1</td>\n",
              "      <td>0</td>\n",
              "      <td>0</td>\n",
              "      <td>0</td>\n",
              "      <td>0</td>\n",
              "      <td>0</td>\n",
              "      <td>0</td>\n",
              "      <td>0</td>\n",
              "      <td>0</td>\n",
              "      <td>0</td>\n",
              "      <td>0</td>\n",
              "      <td>1</td>\n",
              "      <td>0</td>\n",
              "      <td>0</td>\n",
              "      <td>0</td>\n",
              "      <td>0</td>\n",
              "      <td>0</td>\n",
              "      <td>0</td>\n",
              "      <td>7</td>\n",
              "      <td>2</td>\n",
              "      <td>2</td>\n",
              "      <td>2</td>\n",
              "    </tr>\n",
              "    <tr>\n",
              "      <th>8522</th>\n",
              "      <td>0.044878</td>\n",
              "      <td>75.4670</td>\n",
              "      <td>False</td>\n",
              "      <td>0</td>\n",
              "      <td>0</td>\n",
              "      <td>1</td>\n",
              "      <td>0</td>\n",
              "      <td>0</td>\n",
              "      <td>0</td>\n",
              "      <td>0</td>\n",
              "      <td>0</td>\n",
              "      <td>0</td>\n",
              "      <td>0</td>\n",
              "      <td>0</td>\n",
              "      <td>0</td>\n",
              "      <td>0</td>\n",
              "      <td>0</td>\n",
              "      <td>0</td>\n",
              "      <td>0</td>\n",
              "      <td>0</td>\n",
              "      <td>0</td>\n",
              "      <td>0</td>\n",
              "      <td>0</td>\n",
              "      <td>0</td>\n",
              "      <td>0</td>\n",
              "      <td>0</td>\n",
              "      <td>1</td>\n",
              "      <td>0</td>\n",
              "      <td>1</td>\n",
              "      <td>1</td>\n",
              "      <td>0</td>\n",
              "      <td>1</td>\n",
              "    </tr>\n",
              "  </tbody>\n",
              "</table>\n",
              "<p>7060 rows × 32 columns</p>\n",
              "</div>"
            ],
            "text/plain": [
              "      Item_Visibility  Item_MRP  ...  Outlet_Location_Type  Outlet_Type\n",
              "0            0.016047  249.8092  ...                     0            1\n",
              "1            0.019278   48.2692  ...                     2            2\n",
              "2            0.016760  141.6180  ...                     0            1\n",
              "3            0.000000  182.0950  ...                     2            0\n",
              "4            0.000000   53.8614  ...                     2            1\n",
              "...               ...       ...  ...                   ...          ...\n",
              "8518         0.056783  214.5218  ...                     2            1\n",
              "8519         0.046982  108.1570  ...                     1            1\n",
              "8520         0.035186   85.1224  ...                     1            1\n",
              "8521         0.145221  103.1332  ...                     2            2\n",
              "8522         0.044878   75.4670  ...                     0            1\n",
              "\n",
              "[7060 rows x 32 columns]"
            ]
          },
          "metadata": {
            "tags": []
          },
          "execution_count": 54
        }
      ]
    },
    {
      "cell_type": "code",
      "metadata": {
        "id": "NzDgQl7VRM1n",
        "colab": {
          "base_uri": "https://localhost:8080/"
        },
        "outputId": "02e7db20-8a49-4ff0-e795-1290c17ebc31"
      },
      "source": [
        "#Lets start Modeling\r\n",
        "#We will begin with Linear Regression\r\n",
        "reg= LinearRegression(fit_intercept=True)\r\n",
        "\r\n",
        "reg.fit(X,y_true)"
      ],
      "execution_count": 56,
      "outputs": [
        {
          "output_type": "execute_result",
          "data": {
            "text/plain": [
              "LinearRegression(copy_X=True, fit_intercept=True, n_jobs=None, normalize=False)"
            ]
          },
          "metadata": {
            "tags": []
          },
          "execution_count": 56
        }
      ]
    },
    {
      "cell_type": "code",
      "metadata": {
        "id": "SP7wc3dZBG4H"
      },
      "source": [
        "#Lets get our regression model's predicted values:\r\n",
        "reg_y_pred = reg.predict(X)"
      ],
      "execution_count": 57,
      "outputs": []
    },
    {
      "cell_type": "code",
      "metadata": {
        "colab": {
          "base_uri": "https://localhost:8080/"
        },
        "id": "ELie1G2_SZt-",
        "outputId": "e7d7b30e-0073-4a78-e82c-aee29d9522e2"
      },
      "source": [
        "reg_y_pred"
      ],
      "execution_count": 58,
      "outputs": [
        {
          "output_type": "execute_result",
          "data": {
            "text/plain": [
              "array([3959.7951026 ,  605.17654565, 2334.4212646 , ..., 1551.30013492,\n",
              "       1423.40173682, 1239.42953284])"
            ]
          },
          "metadata": {
            "tags": []
          },
          "execution_count": 58
        }
      ]
    },
    {
      "cell_type": "code",
      "metadata": {
        "id": "Rg5XRf1vWhfd",
        "colab": {
          "base_uri": "https://localhost:8080/"
        },
        "outputId": "985065e0-4391-497e-904b-1890bc68577e"
      },
      "source": [
        "#Lets measure its performance by getting the R^2 Coefficient\r\n",
        "RegScore  = reg.score(X,y_true)\r\n",
        "RegScore"
      ],
      "execution_count": 59,
      "outputs": [
        {
          "output_type": "execute_result",
          "data": {
            "text/plain": [
              "0.5074527692688429"
            ]
          },
          "metadata": {
            "tags": []
          },
          "execution_count": 59
        }
      ]
    },
    {
      "cell_type": "code",
      "metadata": {
        "id": "5lQvyV0BH_ko"
      },
      "source": [
        "#hmmmm thats sucky\r\n",
        "#I will come back to this and see what happens if we remove some variables from the model, but for now lets just do a KNN Regression to see what happens:\r\n",
        "#First, scale and transform:\r\n",
        "\r\n",
        "scaler = StandardScaler()\r\n",
        "scaler.fit(X)\r\n",
        "XtransformedKNN = scaler.transform(X)"
      ],
      "execution_count": 60,
      "outputs": []
    },
    {
      "cell_type": "code",
      "metadata": {
        "colab": {
          "base_uri": "https://localhost:8080/"
        },
        "id": "NZXBOtGRM0_4",
        "outputId": "faa1d8ac-f5dd-404f-d85f-8c0337bf9e82"
      },
      "source": [
        "#Fit KNN Regression:\r\n",
        "knn = KNeighborsRegressor(n_neighbors=4)\r\n",
        "knn.fit(XtransformedKNN,y_true)\r\n",
        "knn_y_pred = knn.predict(XtransformedKNN)\r\n",
        "knn_y_pred"
      ],
      "execution_count": 80,
      "outputs": [
        {
          "output_type": "execute_result",
          "data": {
            "text/plain": [
              "array([3397.07805,  712.90535, 2088.2817 , ..., 2392.71875, 1428.8068 ,\n",
              "       1018.17465])"
            ]
          },
          "metadata": {
            "tags": []
          },
          "execution_count": 80
        }
      ]
    },
    {
      "cell_type": "code",
      "metadata": {
        "colab": {
          "base_uri": "https://localhost:8080/"
        },
        "id": "foPm6w4NOYXX",
        "outputId": "a2cb720c-d4be-4842-9c54-5147ae1e9658"
      },
      "source": [
        "#Let's again measure the fit and get the R^2 coefficient\r\n",
        "knnScore = knn.score(XtransformedKNN,y_true)\r\n",
        "knnScore"
      ],
      "execution_count": 81,
      "outputs": [
        {
          "output_type": "execute_result",
          "data": {
            "text/plain": [
              "0.6273780134641327"
            ]
          },
          "metadata": {
            "tags": []
          },
          "execution_count": 81
        }
      ]
    },
    {
      "cell_type": "code",
      "metadata": {
        "colab": {
          "base_uri": "https://localhost:8080/"
        },
        "id": "EeNsI2rKREW9",
        "outputId": "6708ec93-fc7e-46a2-8048-50dde8fdd208"
      },
      "source": [
        "#MAE for both:\r\n",
        "knnMAE = mean_absolute_error(y_true,knn_y_pred)\r\n",
        "RegMAE = mean_absolute_error(y_true,reg_y_pred)\r\n",
        "print( 'KNN regression MAE: ' + str(knnMAE) + ' Linear Regression MAE: ' + str(RegMAE))"
      ],
      "execution_count": 86,
      "outputs": [
        {
          "output_type": "stream",
          "text": [
            "KNN regression MAE: 676.3327721033994 Linear Regression MAE: 795.7001668965846\n"
          ],
          "name": "stdout"
        }
      ]
    },
    {
      "cell_type": "code",
      "metadata": {
        "colab": {
          "base_uri": "https://localhost:8080/"
        },
        "id": "5oF_JZucY6th",
        "outputId": "d2810c97-0477-488c-faab-3752f58de99c"
      },
      "source": [
        "#MSE for both:\r\n",
        "knnMSE = mean_squared_error(y_true,knn_y_pred)\r\n",
        "RegMSE = mean_squared_error(y_true,reg_y_pred)\r\n",
        "print( 'KNN regression MSE: ' + str(knnMSE) + ' & RMSE: '  + str(np.sqrt(knnMSE)) + ' Linear Regression MSE: ' + str(RegMSE)+ ' & RMSE: '  + str(np.sqrt(RegMSE)) )"
      ],
      "execution_count": 93,
      "outputs": [
        {
          "output_type": "stream",
          "text": [
            "KNN regression MSE: 876080.1531765893 & RMSE: 935.9915347782742 Linear Regression MSE: 1158039.1628450544 & RMSE: 1076.1222806191936\n"
          ],
          "name": "stdout"
        }
      ]
    },
    {
      "cell_type": "markdown",
      "metadata": {
        "id": "1k3HB8wJQ15A"
      },
      "source": [
        "For Linear Regression:\r\n",
        "\r\n",
        "50.7% of the variation in sales can be explained by the features in this model.\r\n",
        "On average, our model is incorrect by 795 hundred thousand dollars according to MAE, 1158039 Square units according to MSE and 1076 hundred thousand dollars according to RMSE\r\n",
        "\r\n",
        "For KNN Regression:\r\n",
        "Using a k = 4 we get to a point where 62.7% of the variation in sales can be explained by the model.\r\n",
        "On average, our model is incorrect by 676 Hundred thousand dollars according to MAE, 876080 Square units according to MSE and 935 hundred thousand dollars according to RMSE\r\n",
        "\r\n",
        "In summary, these are not good models. Lets see what the coefficients of the varaibles would be for each model and see if there are any insignificant ones we can eliminate"
      ]
    },
    {
      "cell_type": "code",
      "metadata": {
        "id": "4GnlpMNeavnH"
      },
      "source": [
        "NumCols = XtransformedKNN.shape[1]"
      ],
      "execution_count": 97,
      "outputs": []
    },
    {
      "cell_type": "code",
      "metadata": {
        "id": "AMt9VSjQcZbd"
      },
      "source": [
        "coefflist =[]\r\n",
        "Vars = []\r\n",
        "for index in range(0,NumCols):\r\n",
        "  coefflist.append(round(reg.coef_[index],2))\r\n",
        "coefflist\r\n",
        "for col in X.columns:\r\n",
        "  Vars.append(col)\r\n"
      ],
      "execution_count": 110,
      "outputs": []
    },
    {
      "cell_type": "code",
      "metadata": {
        "colab": {
          "base_uri": "https://localhost:8080/"
        },
        "id": "BFnLCQ5WlZgt",
        "outputId": "885191c0-f07e-46ba-ec54-908031803c8e"
      },
      "source": [
        "len(Vars)"
      ],
      "execution_count": 111,
      "outputs": [
        {
          "output_type": "execute_result",
          "data": {
            "text/plain": [
              "32"
            ]
          },
          "metadata": {
            "tags": []
          },
          "execution_count": 111
        }
      ]
    },
    {
      "cell_type": "code",
      "metadata": {
        "colab": {
          "base_uri": "https://localhost:8080/",
          "height": 103
        },
        "id": "6G884ZDtgYGD",
        "outputId": "772c783c-aaac-4b43-efa2-c2e76edea811"
      },
      "source": [
        "#Print Equation:\r\n",
        "knnEquation = ''\r\n",
        "for index in range(0,NumCols):\r\n",
        "  if index < (NumCols - 1):\r\n",
        "    knnEquation += (str(coefflist[index])+'*'+Vars[index]) + ' + '\r\n",
        "  else:\r\n",
        "    knnEquation += (str(coefflist[index])+'*'+Vars[index]) + ' = y'\r\n",
        "knnEquation"
      ],
      "execution_count": 120,
      "outputs": [
        {
          "output_type": "execute_result",
          "data": {
            "application/vnd.google.colaboratory.intrinsic+json": {
              "type": "string"
            },
            "text/plain": [
              "'-217.06*Item_Visibility + 15.26*Item_MRP + -6.42*No_Outlet_Size + 52.71*Item_Fat_Content + -72.45*Item_Type_Dairy + -29.86*Item_Type_Soft Drinks + -47.1*Item_Type_Meat + -18.16*Item_Type_Fruits and Vegetables + -40.67*Item_Type_Household + -1.84*Item_Type_Baking Goods + -21.31*Item_Type_Snack Foods + -44.98*Item_Type_Frozen Foods + -128.13*Item_Type_Breakfast + -10.89*Item_Type_Health and Hygiene + 2.56*Item_Type_Hard Drinks + 25.29*Item_Type_Breads + 4.97*Item_Type_Canned + 51.82*Item_Type_Starchy Foods + 3.63*Item_Type_Others + 327.11*Item_Type_Seafood + -250.04*Outlet_ID_OUT049 + -385.2*Outlet_ID_OUT018 + -709.59*Outlet_ID_OUT010 + 412.9*Outlet_ID_OUT013 + 315.98*Outlet_ID_OUT045 + 387.18*Outlet_ID_OUT017 + -46.63*Outlet_ID_OUT046 + 275.39*Outlet_ID_OUT035 + 51.68*Outlet_Establishment_Year + 196.98*Outlet_Size + -385.23*Outlet_Location_Type + 324.39*Outlet_Type = y'"
            ]
          },
          "metadata": {
            "tags": []
          },
          "execution_count": 120
        }
      ]
    },
    {
      "cell_type": "markdown",
      "metadata": {
        "id": "wUVbPKux-Ffr"
      },
      "source": [
        "Right now, Item visibility, breakfast item types, seafood, almost all Item IDs except outlet 046, outlet size, outlet location type and outlet type have a high impact on sales. But we need to dig deeper and experiment with different combinations of variables and potentially different models"
      ]
    },
    {
      "cell_type": "code",
      "metadata": {
        "id": "w4_W-JnE90Zf"
      },
      "source": [
        "\r\n",
        "\r\n",
        "#my next steps will be to only model variables that had a high correlation and see the result. Will continue next week"
      ],
      "execution_count": null,
      "outputs": []
    },
    {
      "cell_type": "markdown",
      "metadata": {
        "id": "r0vexDC8m8Sy"
      },
      "source": [
        "**Code Sources:**\r\n",
        "\r\n",
        "[Encode multiple columns at once](https://github.com/scikit-learn-contrib/category_encoders/issues/228)\r\n",
        "\r\n",
        "[Return number of columns indf](https://note.nkmk.me/en/python-pandas-len-shape-size/#:~:text=source%3A%20pandas_len_shape_size.py-,Get%20the%20number%20of%20columns%3A%20len(df.,()%20to%20the%20columns%20attribute.)\r\n",
        "\r\n"
      ]
    }
  ]
}