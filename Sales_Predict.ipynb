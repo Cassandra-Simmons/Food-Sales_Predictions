{
  "nbformat": 4,
  "nbformat_minor": 0,
  "metadata": {
    "colab": {
      "name": "Sales_Predict.ipynb",
      "provenance": [],
      "collapsed_sections": []
    },
    "kernelspec": {
      "name": "python3",
      "display_name": "Python 3"
    }
  },
  "cells": [
    {
      "cell_type": "code",
      "metadata": {
        "colab": {
          "base_uri": "https://localhost:8080/"
        },
        "id": "LY2OKPcv_Fzg",
        "outputId": "b4bdeec7-12b0-47ae-8168-7a584b33c871"
      },
      "source": [
        "from google.colab import drive\r\n",
        "drive.mount('/content/drive')"
      ],
      "execution_count": 3,
      "outputs": [
        {
          "output_type": "stream",
          "text": [
            "Mounted at /content/drive\n"
          ],
          "name": "stdout"
        }
      ]
    },
    {
      "cell_type": "code",
      "metadata": {
        "id": "iQN4bz86_vvm"
      },
      "source": [
        "import pandas as pd\r\n",
        "import numpy as np\r\n",
        "filename = '/content/drive/MyDrive/DSDojo/PandasForDataManipulation/sales_predictions.csv'\r\n",
        "dfsales = pd.read_csv(filename)"
      ],
      "execution_count": 156,
      "outputs": []
    },
    {
      "cell_type": "markdown",
      "metadata": {
        "id": "ui4I8pp_3jQz"
      },
      "source": [
        "# **Data Cleansing**"
      ]
    },
    {
      "cell_type": "code",
      "metadata": {
        "id": "fUhvfffpBFUQ"
      },
      "source": [
        "dfsales.head()\r\n"
      ],
      "execution_count": 78,
      "outputs": []
    },
    {
      "cell_type": "markdown",
      "metadata": {
        "id": "Ku3QqgJ23e7J"
      },
      "source": [
        ""
      ]
    },
    {
      "cell_type": "code",
      "metadata": {
        "colab": {
          "base_uri": "https://localhost:8080/"
        },
        "id": "4Gke2dpb4Moh",
        "outputId": "df218247-dcdd-4c14-f135-5848cb68a9e0"
      },
      "source": [
        "#remove Duplicates if any:\r\n",
        "dfsales.duplicated().any()\r\n",
        "# No duplicates in data"
      ],
      "execution_count": 33,
      "outputs": [
        {
          "output_type": "execute_result",
          "data": {
            "text/plain": [
              "False"
            ]
          },
          "metadata": {
            "tags": []
          },
          "execution_count": 33
        }
      ]
    },
    {
      "cell_type": "code",
      "metadata": {
        "id": "WZcGsOBkBG8-"
      },
      "source": [
        "dfsales.dtypes"
      ],
      "execution_count": null,
      "outputs": []
    },
    {
      "cell_type": "code",
      "metadata": {
        "id": "PkWloXsv4uSe"
      },
      "source": [
        "#check for odd data types:\r\n",
        "dfsales['Item_Outlet_Sales'].sort_values(ascending = False)\r\n",
        "#after looking through each item, no mixed data types were found in any of the columns"
      ],
      "execution_count": null,
      "outputs": []
    },
    {
      "cell_type": "code",
      "metadata": {
        "colab": {
          "base_uri": "https://localhost:8080/"
        },
        "id": "WjExokXW61Ly",
        "outputId": "10626901-238c-43af-9388-e37093c84bcc"
      },
      "source": [
        "#Check for spelling errors or abbreviations etc in each categorical feature:\r\n",
        "dfsales['Outlet_Type'].value_counts()\r\n",
        "#Issues only found with one feature"
      ],
      "execution_count": 75,
      "outputs": [
        {
          "output_type": "execute_result",
          "data": {
            "text/plain": [
              "Supermarket Type1    5577\n",
              "Grocery Store        1083\n",
              "Supermarket Type3     935\n",
              "Supermarket Type2     928\n",
              "Name: Outlet_Type, dtype: int64"
            ]
          },
          "metadata": {
            "tags": []
          },
          "execution_count": 75
        }
      ]
    },
    {
      "cell_type": "code",
      "metadata": {
        "id": "qMLcV6G17TTr"
      },
      "source": [
        "#Issues found with Item Fat Content. Fix below:\r\n",
        "dfsales.replace({'Item_Fat_Content':{'LF':'Low Fat','reg':'Regular','low fat':'Low Fat'}}, inplace=True)\r\n",
        "# Check with: dfsales['Item_Fat_Content'].value_counts()"
      ],
      "execution_count": 158,
      "outputs": []
    },
    {
      "cell_type": "code",
      "metadata": {
        "colab": {
          "base_uri": "https://localhost:8080/",
          "height": 634
        },
        "id": "Xq_mkLn0wWhm",
        "outputId": "2dafa183-fc3e-46dc-e2cd-3e23496787b9"
      },
      "source": [
        "# Try to see if missing values can be replaced with logical values if any pattern is identified:\r\n",
        "dfsales.info()\r\n",
        "dfsales.groupby(['Outlet_Identifier','Outlet_Size','Outlet_Location_Type'])[['Outlet_Size']].count()\r\n",
        "#No pattern Identified for the Outlet_Size nor the Item_Weight features"
      ],
      "execution_count": 159,
      "outputs": [
        {
          "output_type": "stream",
          "text": [
            "<class 'pandas.core.frame.DataFrame'>\n",
            "RangeIndex: 8523 entries, 0 to 8522\n",
            "Data columns (total 12 columns):\n",
            " #   Column                     Non-Null Count  Dtype  \n",
            "---  ------                     --------------  -----  \n",
            " 0   Item_Identifier            8523 non-null   object \n",
            " 1   Item_Weight                7060 non-null   float64\n",
            " 2   Item_Fat_Content           8523 non-null   object \n",
            " 3   Item_Visibility            8523 non-null   float64\n",
            " 4   Item_Type                  8523 non-null   object \n",
            " 5   Item_MRP                   8523 non-null   float64\n",
            " 6   Outlet_Identifier          8523 non-null   object \n",
            " 7   Outlet_Establishment_Year  8523 non-null   int64  \n",
            " 8   Outlet_Size                6113 non-null   object \n",
            " 9   Outlet_Location_Type       8523 non-null   object \n",
            " 10  Outlet_Type                8523 non-null   object \n",
            " 11  Item_Outlet_Sales          8523 non-null   float64\n",
            "dtypes: float64(4), int64(1), object(7)\n",
            "memory usage: 799.2+ KB\n"
          ],
          "name": "stdout"
        },
        {
          "output_type": "execute_result",
          "data": {
            "text/html": [
              "<div>\n",
              "<style scoped>\n",
              "    .dataframe tbody tr th:only-of-type {\n",
              "        vertical-align: middle;\n",
              "    }\n",
              "\n",
              "    .dataframe tbody tr th {\n",
              "        vertical-align: top;\n",
              "    }\n",
              "\n",
              "    .dataframe thead th {\n",
              "        text-align: right;\n",
              "    }\n",
              "</style>\n",
              "<table border=\"1\" class=\"dataframe\">\n",
              "  <thead>\n",
              "    <tr style=\"text-align: right;\">\n",
              "      <th></th>\n",
              "      <th></th>\n",
              "      <th></th>\n",
              "      <th>Outlet_Size</th>\n",
              "    </tr>\n",
              "    <tr>\n",
              "      <th>Outlet_Identifier</th>\n",
              "      <th>Outlet_Size</th>\n",
              "      <th>Outlet_Location_Type</th>\n",
              "      <th></th>\n",
              "    </tr>\n",
              "  </thead>\n",
              "  <tbody>\n",
              "    <tr>\n",
              "      <th>OUT013</th>\n",
              "      <th>High</th>\n",
              "      <th>Tier 3</th>\n",
              "      <td>932</td>\n",
              "    </tr>\n",
              "    <tr>\n",
              "      <th>OUT018</th>\n",
              "      <th>Medium</th>\n",
              "      <th>Tier 3</th>\n",
              "      <td>928</td>\n",
              "    </tr>\n",
              "    <tr>\n",
              "      <th>OUT019</th>\n",
              "      <th>Small</th>\n",
              "      <th>Tier 1</th>\n",
              "      <td>528</td>\n",
              "    </tr>\n",
              "    <tr>\n",
              "      <th>OUT027</th>\n",
              "      <th>Medium</th>\n",
              "      <th>Tier 3</th>\n",
              "      <td>935</td>\n",
              "    </tr>\n",
              "    <tr>\n",
              "      <th>OUT035</th>\n",
              "      <th>Small</th>\n",
              "      <th>Tier 2</th>\n",
              "      <td>930</td>\n",
              "    </tr>\n",
              "    <tr>\n",
              "      <th>OUT046</th>\n",
              "      <th>Small</th>\n",
              "      <th>Tier 1</th>\n",
              "      <td>930</td>\n",
              "    </tr>\n",
              "    <tr>\n",
              "      <th>OUT049</th>\n",
              "      <th>Medium</th>\n",
              "      <th>Tier 1</th>\n",
              "      <td>930</td>\n",
              "    </tr>\n",
              "  </tbody>\n",
              "</table>\n",
              "</div>"
            ],
            "text/plain": [
              "                                                    Outlet_Size\n",
              "Outlet_Identifier Outlet_Size Outlet_Location_Type             \n",
              "OUT013            High        Tier 3                        932\n",
              "OUT018            Medium      Tier 3                        928\n",
              "OUT019            Small       Tier 1                        528\n",
              "OUT027            Medium      Tier 3                        935\n",
              "OUT035            Small       Tier 2                        930\n",
              "OUT046            Small       Tier 1                        930\n",
              "OUT049            Medium      Tier 1                        930"
            ]
          },
          "metadata": {
            "tags": []
          },
          "execution_count": 159
        }
      ]
    },
    {
      "cell_type": "code",
      "metadata": {
        "colab": {
          "base_uri": "https://localhost:8080/",
          "height": 600
        },
        "id": "3DfEa0wcxDhq",
        "outputId": "a3a22f29-e686-4e24-929b-ec62dd452fa3"
      },
      "source": [
        "#Create Flag columns for the missing values:\r\n",
        "dfsalesf = dfsales\r\n",
        "dfsalesf['No_Item_Weight'] = np.where(dfsalesf['Item_Weight'].isnull(), True, False)\r\n",
        "dfsalesf['No_Outlet_Size'] = np.where(dfsalesf['Outlet_Size'].isnull(), True, False)\r\n",
        "dfsalesf"
      ],
      "execution_count": 160,
      "outputs": [
        {
          "output_type": "execute_result",
          "data": {
            "text/html": [
              "<div>\n",
              "<style scoped>\n",
              "    .dataframe tbody tr th:only-of-type {\n",
              "        vertical-align: middle;\n",
              "    }\n",
              "\n",
              "    .dataframe tbody tr th {\n",
              "        vertical-align: top;\n",
              "    }\n",
              "\n",
              "    .dataframe thead th {\n",
              "        text-align: right;\n",
              "    }\n",
              "</style>\n",
              "<table border=\"1\" class=\"dataframe\">\n",
              "  <thead>\n",
              "    <tr style=\"text-align: right;\">\n",
              "      <th></th>\n",
              "      <th>Item_Identifier</th>\n",
              "      <th>Item_Weight</th>\n",
              "      <th>Item_Fat_Content</th>\n",
              "      <th>Item_Visibility</th>\n",
              "      <th>Item_Type</th>\n",
              "      <th>Item_MRP</th>\n",
              "      <th>Outlet_Identifier</th>\n",
              "      <th>Outlet_Establishment_Year</th>\n",
              "      <th>Outlet_Size</th>\n",
              "      <th>Outlet_Location_Type</th>\n",
              "      <th>Outlet_Type</th>\n",
              "      <th>Item_Outlet_Sales</th>\n",
              "      <th>No_Item_Weight</th>\n",
              "      <th>No_Outlet_Size</th>\n",
              "    </tr>\n",
              "  </thead>\n",
              "  <tbody>\n",
              "    <tr>\n",
              "      <th>0</th>\n",
              "      <td>FDA15</td>\n",
              "      <td>9.300</td>\n",
              "      <td>Low Fat</td>\n",
              "      <td>0.016047</td>\n",
              "      <td>Dairy</td>\n",
              "      <td>249.8092</td>\n",
              "      <td>OUT049</td>\n",
              "      <td>1999</td>\n",
              "      <td>Medium</td>\n",
              "      <td>Tier 1</td>\n",
              "      <td>Supermarket Type1</td>\n",
              "      <td>3735.1380</td>\n",
              "      <td>False</td>\n",
              "      <td>False</td>\n",
              "    </tr>\n",
              "    <tr>\n",
              "      <th>1</th>\n",
              "      <td>DRC01</td>\n",
              "      <td>5.920</td>\n",
              "      <td>Regular</td>\n",
              "      <td>0.019278</td>\n",
              "      <td>Soft Drinks</td>\n",
              "      <td>48.2692</td>\n",
              "      <td>OUT018</td>\n",
              "      <td>2009</td>\n",
              "      <td>Medium</td>\n",
              "      <td>Tier 3</td>\n",
              "      <td>Supermarket Type2</td>\n",
              "      <td>443.4228</td>\n",
              "      <td>False</td>\n",
              "      <td>False</td>\n",
              "    </tr>\n",
              "    <tr>\n",
              "      <th>2</th>\n",
              "      <td>FDN15</td>\n",
              "      <td>17.500</td>\n",
              "      <td>Low Fat</td>\n",
              "      <td>0.016760</td>\n",
              "      <td>Meat</td>\n",
              "      <td>141.6180</td>\n",
              "      <td>OUT049</td>\n",
              "      <td>1999</td>\n",
              "      <td>Medium</td>\n",
              "      <td>Tier 1</td>\n",
              "      <td>Supermarket Type1</td>\n",
              "      <td>2097.2700</td>\n",
              "      <td>False</td>\n",
              "      <td>False</td>\n",
              "    </tr>\n",
              "    <tr>\n",
              "      <th>3</th>\n",
              "      <td>FDX07</td>\n",
              "      <td>19.200</td>\n",
              "      <td>Regular</td>\n",
              "      <td>0.000000</td>\n",
              "      <td>Fruits and Vegetables</td>\n",
              "      <td>182.0950</td>\n",
              "      <td>OUT010</td>\n",
              "      <td>1998</td>\n",
              "      <td>NaN</td>\n",
              "      <td>Tier 3</td>\n",
              "      <td>Grocery Store</td>\n",
              "      <td>732.3800</td>\n",
              "      <td>False</td>\n",
              "      <td>True</td>\n",
              "    </tr>\n",
              "    <tr>\n",
              "      <th>4</th>\n",
              "      <td>NCD19</td>\n",
              "      <td>8.930</td>\n",
              "      <td>Low Fat</td>\n",
              "      <td>0.000000</td>\n",
              "      <td>Household</td>\n",
              "      <td>53.8614</td>\n",
              "      <td>OUT013</td>\n",
              "      <td>1987</td>\n",
              "      <td>High</td>\n",
              "      <td>Tier 3</td>\n",
              "      <td>Supermarket Type1</td>\n",
              "      <td>994.7052</td>\n",
              "      <td>False</td>\n",
              "      <td>False</td>\n",
              "    </tr>\n",
              "    <tr>\n",
              "      <th>...</th>\n",
              "      <td>...</td>\n",
              "      <td>...</td>\n",
              "      <td>...</td>\n",
              "      <td>...</td>\n",
              "      <td>...</td>\n",
              "      <td>...</td>\n",
              "      <td>...</td>\n",
              "      <td>...</td>\n",
              "      <td>...</td>\n",
              "      <td>...</td>\n",
              "      <td>...</td>\n",
              "      <td>...</td>\n",
              "      <td>...</td>\n",
              "      <td>...</td>\n",
              "    </tr>\n",
              "    <tr>\n",
              "      <th>8518</th>\n",
              "      <td>FDF22</td>\n",
              "      <td>6.865</td>\n",
              "      <td>Low Fat</td>\n",
              "      <td>0.056783</td>\n",
              "      <td>Snack Foods</td>\n",
              "      <td>214.5218</td>\n",
              "      <td>OUT013</td>\n",
              "      <td>1987</td>\n",
              "      <td>High</td>\n",
              "      <td>Tier 3</td>\n",
              "      <td>Supermarket Type1</td>\n",
              "      <td>2778.3834</td>\n",
              "      <td>False</td>\n",
              "      <td>False</td>\n",
              "    </tr>\n",
              "    <tr>\n",
              "      <th>8519</th>\n",
              "      <td>FDS36</td>\n",
              "      <td>8.380</td>\n",
              "      <td>Regular</td>\n",
              "      <td>0.046982</td>\n",
              "      <td>Baking Goods</td>\n",
              "      <td>108.1570</td>\n",
              "      <td>OUT045</td>\n",
              "      <td>2002</td>\n",
              "      <td>NaN</td>\n",
              "      <td>Tier 2</td>\n",
              "      <td>Supermarket Type1</td>\n",
              "      <td>549.2850</td>\n",
              "      <td>False</td>\n",
              "      <td>True</td>\n",
              "    </tr>\n",
              "    <tr>\n",
              "      <th>8520</th>\n",
              "      <td>NCJ29</td>\n",
              "      <td>10.600</td>\n",
              "      <td>Low Fat</td>\n",
              "      <td>0.035186</td>\n",
              "      <td>Health and Hygiene</td>\n",
              "      <td>85.1224</td>\n",
              "      <td>OUT035</td>\n",
              "      <td>2004</td>\n",
              "      <td>Small</td>\n",
              "      <td>Tier 2</td>\n",
              "      <td>Supermarket Type1</td>\n",
              "      <td>1193.1136</td>\n",
              "      <td>False</td>\n",
              "      <td>False</td>\n",
              "    </tr>\n",
              "    <tr>\n",
              "      <th>8521</th>\n",
              "      <td>FDN46</td>\n",
              "      <td>7.210</td>\n",
              "      <td>Regular</td>\n",
              "      <td>0.145221</td>\n",
              "      <td>Snack Foods</td>\n",
              "      <td>103.1332</td>\n",
              "      <td>OUT018</td>\n",
              "      <td>2009</td>\n",
              "      <td>Medium</td>\n",
              "      <td>Tier 3</td>\n",
              "      <td>Supermarket Type2</td>\n",
              "      <td>1845.5976</td>\n",
              "      <td>False</td>\n",
              "      <td>False</td>\n",
              "    </tr>\n",
              "    <tr>\n",
              "      <th>8522</th>\n",
              "      <td>DRG01</td>\n",
              "      <td>14.800</td>\n",
              "      <td>Low Fat</td>\n",
              "      <td>0.044878</td>\n",
              "      <td>Soft Drinks</td>\n",
              "      <td>75.4670</td>\n",
              "      <td>OUT046</td>\n",
              "      <td>1997</td>\n",
              "      <td>Small</td>\n",
              "      <td>Tier 1</td>\n",
              "      <td>Supermarket Type1</td>\n",
              "      <td>765.6700</td>\n",
              "      <td>False</td>\n",
              "      <td>False</td>\n",
              "    </tr>\n",
              "  </tbody>\n",
              "</table>\n",
              "<p>8523 rows × 14 columns</p>\n",
              "</div>"
            ],
            "text/plain": [
              "     Item_Identifier  Item_Weight  ... No_Item_Weight  No_Outlet_Size\n",
              "0              FDA15        9.300  ...          False           False\n",
              "1              DRC01        5.920  ...          False           False\n",
              "2              FDN15       17.500  ...          False           False\n",
              "3              FDX07       19.200  ...          False            True\n",
              "4              NCD19        8.930  ...          False           False\n",
              "...              ...          ...  ...            ...             ...\n",
              "8518           FDF22        6.865  ...          False           False\n",
              "8519           FDS36        8.380  ...          False            True\n",
              "8520           NCJ29       10.600  ...          False           False\n",
              "8521           FDN46        7.210  ...          False           False\n",
              "8522           DRG01       14.800  ...          False           False\n",
              "\n",
              "[8523 rows x 14 columns]"
            ]
          },
          "metadata": {
            "tags": []
          },
          "execution_count": 160
        }
      ]
    },
    {
      "cell_type": "code",
      "metadata": {
        "colab": {
          "base_uri": "https://localhost:8080/"
        },
        "id": "qTC7Eaal0GLj",
        "outputId": "7a860e04-df29-4b14-91e1-9158c2b4bd9b"
      },
      "source": [
        "dfsales['Outlet_Size'].value_counts(dropna = False)"
      ],
      "execution_count": 161,
      "outputs": [
        {
          "output_type": "execute_result",
          "data": {
            "text/plain": [
              "Medium    2793\n",
              "NaN       2410\n",
              "Small     2388\n",
              "High       932\n",
              "Name: Outlet_Size, dtype: int64"
            ]
          },
          "metadata": {
            "tags": []
          },
          "execution_count": 161
        }
      ]
    },
    {
      "cell_type": "code",
      "metadata": {
        "id": "EzbU4l690lci"
      },
      "source": [
        "#Handeling missing data\r\n",
        "#There are too many missing data too use removal as a resolution. \r\n",
        "#Data for the outlet size is MAR. There are certain stores where ALL their data fro outloet size is missing\r\n",
        "#Possible solution for outlet size missing values: 1. Create a 'no size indicated' category/feature value 2. impute the mode (most common value). Though this would\r\n",
        "# be assuming all the stores are the same size... which is a stretch 3. Look into KNN if thats an option here or hot-deck\r\n",
        "\r\n",
        "#Data for Item weight is MAR, all weights for items from stores established in 1985 are missing, none are tier 2 adn none of them are from a large outlet\r\n",
        "#possible solutions. 1. Since we have data for multiple years succeeding 1985, we could consider dropping the values as we should still be able to predict sales values \r\n",
        "#in the future using what we have, however, roughly ~1500 (17%) of the data would then be dropped. 2. We could use MICE ti impute the missing data"
      ],
      "execution_count": 92,
      "outputs": []
    },
    {
      "cell_type": "code",
      "metadata": {
        "colab": {
          "base_uri": "https://localhost:8080/",
          "height": 615
        },
        "id": "9F0u4biQHLPu",
        "outputId": "0fd18b23-bda6-4133-8baa-f6d0d3718de6"
      },
      "source": [
        "#Some simple sample statistics:\r\n",
        "#Items with the highest MRP in each type category:\r\n",
        "dfsalesf.groupby(['Item_Type'])['Item_Identifier','Item_MRP'].max()"
      ],
      "execution_count": 162,
      "outputs": [
        {
          "output_type": "stream",
          "text": [
            "/usr/local/lib/python3.6/dist-packages/ipykernel_launcher.py:3: FutureWarning: Indexing with multiple keys (implicitly converted to a tuple of keys) will be deprecated, use a list instead.\n",
            "  This is separate from the ipykernel package so we can avoid doing imports until\n"
          ],
          "name": "stderr"
        },
        {
          "output_type": "execute_result",
          "data": {
            "text/html": [
              "<div>\n",
              "<style scoped>\n",
              "    .dataframe tbody tr th:only-of-type {\n",
              "        vertical-align: middle;\n",
              "    }\n",
              "\n",
              "    .dataframe tbody tr th {\n",
              "        vertical-align: top;\n",
              "    }\n",
              "\n",
              "    .dataframe thead th {\n",
              "        text-align: right;\n",
              "    }\n",
              "</style>\n",
              "<table border=\"1\" class=\"dataframe\">\n",
              "  <thead>\n",
              "    <tr style=\"text-align: right;\">\n",
              "      <th></th>\n",
              "      <th>Item_Identifier</th>\n",
              "      <th>Item_MRP</th>\n",
              "    </tr>\n",
              "    <tr>\n",
              "      <th>Item_Type</th>\n",
              "      <th></th>\n",
              "      <th></th>\n",
              "    </tr>\n",
              "  </thead>\n",
              "  <tbody>\n",
              "    <tr>\n",
              "      <th>Baking Goods</th>\n",
              "      <td>FDZ60</td>\n",
              "      <td>265.5568</td>\n",
              "    </tr>\n",
              "    <tr>\n",
              "      <th>Breads</th>\n",
              "      <td>FDZ35</td>\n",
              "      <td>263.6594</td>\n",
              "    </tr>\n",
              "    <tr>\n",
              "      <th>Breakfast</th>\n",
              "      <td>FDR37</td>\n",
              "      <td>234.9300</td>\n",
              "    </tr>\n",
              "    <tr>\n",
              "      <th>Canned</th>\n",
              "      <td>FDZ49</td>\n",
              "      <td>266.8884</td>\n",
              "    </tr>\n",
              "    <tr>\n",
              "      <th>Dairy</th>\n",
              "      <td>FDZ50</td>\n",
              "      <td>266.6884</td>\n",
              "    </tr>\n",
              "    <tr>\n",
              "      <th>Frozen Foods</th>\n",
              "      <td>FDZ52</td>\n",
              "      <td>264.8910</td>\n",
              "    </tr>\n",
              "    <tr>\n",
              "      <th>Fruits and Vegetables</th>\n",
              "      <td>FDZ56</td>\n",
              "      <td>264.2252</td>\n",
              "    </tr>\n",
              "    <tr>\n",
              "      <th>Hard Drinks</th>\n",
              "      <td>DRQ35</td>\n",
              "      <td>261.4278</td>\n",
              "    </tr>\n",
              "    <tr>\n",
              "      <th>Health and Hygiene</th>\n",
              "      <td>NCZ53</td>\n",
              "      <td>266.6884</td>\n",
              "    </tr>\n",
              "    <tr>\n",
              "      <th>Household</th>\n",
              "      <td>NCZ54</td>\n",
              "      <td>264.7910</td>\n",
              "    </tr>\n",
              "    <tr>\n",
              "      <th>Meat</th>\n",
              "      <td>FDZ51</td>\n",
              "      <td>261.5936</td>\n",
              "    </tr>\n",
              "    <tr>\n",
              "      <th>Others</th>\n",
              "      <td>NCQ43</td>\n",
              "      <td>254.9040</td>\n",
              "    </tr>\n",
              "    <tr>\n",
              "      <th>Seafood</th>\n",
              "      <td>FDK45</td>\n",
              "      <td>240.2880</td>\n",
              "    </tr>\n",
              "    <tr>\n",
              "      <th>Snack Foods</th>\n",
              "      <td>FDZ58</td>\n",
              "      <td>264.9568</td>\n",
              "    </tr>\n",
              "    <tr>\n",
              "      <th>Soft Drinks</th>\n",
              "      <td>DRZ24</td>\n",
              "      <td>263.5910</td>\n",
              "    </tr>\n",
              "    <tr>\n",
              "      <th>Starchy Foods</th>\n",
              "      <td>FDZ34</td>\n",
              "      <td>263.0252</td>\n",
              "    </tr>\n",
              "  </tbody>\n",
              "</table>\n",
              "</div>"
            ],
            "text/plain": [
              "                      Item_Identifier  Item_MRP\n",
              "Item_Type                                      \n",
              "Baking Goods                    FDZ60  265.5568\n",
              "Breads                          FDZ35  263.6594\n",
              "Breakfast                       FDR37  234.9300\n",
              "Canned                          FDZ49  266.8884\n",
              "Dairy                           FDZ50  266.6884\n",
              "Frozen Foods                    FDZ52  264.8910\n",
              "Fruits and Vegetables           FDZ56  264.2252\n",
              "Hard Drinks                     DRQ35  261.4278\n",
              "Health and Hygiene              NCZ53  266.6884\n",
              "Household                       NCZ54  264.7910\n",
              "Meat                            FDZ51  261.5936\n",
              "Others                          NCQ43  254.9040\n",
              "Seafood                         FDK45  240.2880\n",
              "Snack Foods                     FDZ58  264.9568\n",
              "Soft Drinks                     DRZ24  263.5910\n",
              "Starchy Foods                   FDZ34  263.0252"
            ]
          },
          "metadata": {
            "tags": []
          },
          "execution_count": 162
        }
      ]
    },
    {
      "cell_type": "code",
      "metadata": {
        "colab": {
          "base_uri": "https://localhost:8080/"
        },
        "id": "kjQQMoEFRaho",
        "outputId": "baf1f43a-b860-4e1a-96a3-7fe99e8f6069"
      },
      "source": [
        "#"
      ],
      "execution_count": 103,
      "outputs": [
        {
          "output_type": "execute_result",
          "data": {
            "text/plain": [
              "Item_Type\n",
              "Baking Goods             265.5568\n",
              "Breads                   263.6594\n",
              "Breakfast                234.9300\n",
              "Canned                   266.8884\n",
              "Dairy                    266.6884\n",
              "Frozen Foods             264.8910\n",
              "Fruits and Vegetables    264.2252\n",
              "Hard Drinks              261.4278\n",
              "Health and Hygiene       266.6884\n",
              "Household                264.7910\n",
              "Meat                     261.5936\n",
              "Others                   254.9040\n",
              "Seafood                  240.2880\n",
              "Snack Foods              264.9568\n",
              "Soft Drinks              263.5910\n",
              "Starchy Foods            263.0252\n",
              "Name: Item_MRP, dtype: float64"
            ]
          },
          "metadata": {
            "tags": []
          },
          "execution_count": 103
        }
      ]
    },
    {
      "cell_type": "code",
      "metadata": {
        "colab": {
          "base_uri": "https://localhost:8080/"
        },
        "id": "OpJ7LYqeSyEt",
        "outputId": "8b265d18-aab3-4050-f11b-a0459c9135b9"
      },
      "source": [
        "#Average Sales per Outlet:\r\n",
        "dfsalesf.groupby(['Outlet_Identifier'])['Item_Outlet_Sales'].mean().sort_values(ascending = False)"
      ],
      "execution_count": 155,
      "outputs": [
        {
          "output_type": "execute_result",
          "data": {
            "text/plain": [
              "Outlet_Identifier\n",
              "OUT027    3694.038558\n",
              "OUT035    2438.841866\n",
              "OUT049    2348.354635\n",
              "OUT017    2340.675263\n",
              "OUT013    2298.995256\n",
              "OUT046    2277.844267\n",
              "OUT045    2192.384798\n",
              "OUT018    1995.498739\n",
              "OUT019     340.329723\n",
              "OUT010     339.351662\n",
              "Name: Item_Outlet_Sales, dtype: float64"
            ]
          },
          "metadata": {
            "tags": []
          },
          "execution_count": 155
        }
      ]
    },
    {
      "cell_type": "code",
      "metadata": {
        "colab": {
          "base_uri": "https://localhost:8080/",
          "height": 437
        },
        "id": "cg8twmm6T4BY",
        "outputId": "2c9ebd7d-c4cd-4e68-a95d-7d982d9583cb"
      },
      "source": [
        "#Show average Sales per item type over the years\r\n",
        "dfsalesf.groupby(['Item_Type','Outlet_Establishment_Year'])[['Item_Outlet_Sales']].mean()"
      ],
      "execution_count": 164,
      "outputs": [
        {
          "output_type": "execute_result",
          "data": {
            "text/html": [
              "<div>\n",
              "<style scoped>\n",
              "    .dataframe tbody tr th:only-of-type {\n",
              "        vertical-align: middle;\n",
              "    }\n",
              "\n",
              "    .dataframe tbody tr th {\n",
              "        vertical-align: top;\n",
              "    }\n",
              "\n",
              "    .dataframe thead th {\n",
              "        text-align: right;\n",
              "    }\n",
              "</style>\n",
              "<table border=\"1\" class=\"dataframe\">\n",
              "  <thead>\n",
              "    <tr style=\"text-align: right;\">\n",
              "      <th></th>\n",
              "      <th></th>\n",
              "      <th>Item_Outlet_Sales</th>\n",
              "    </tr>\n",
              "    <tr>\n",
              "      <th>Item_Type</th>\n",
              "      <th>Outlet_Establishment_Year</th>\n",
              "      <th></th>\n",
              "    </tr>\n",
              "  </thead>\n",
              "  <tbody>\n",
              "    <tr>\n",
              "      <th rowspan=\"5\" valign=\"top\">Baking Goods</th>\n",
              "      <th>1985</th>\n",
              "      <td>2127.730350</td>\n",
              "    </tr>\n",
              "    <tr>\n",
              "      <th>1987</th>\n",
              "      <td>2050.901134</td>\n",
              "    </tr>\n",
              "    <tr>\n",
              "      <th>1997</th>\n",
              "      <td>2281.267334</td>\n",
              "    </tr>\n",
              "    <tr>\n",
              "      <th>1998</th>\n",
              "      <td>254.605090</td>\n",
              "    </tr>\n",
              "    <tr>\n",
              "      <th>1999</th>\n",
              "      <td>2110.051342</td>\n",
              "    </tr>\n",
              "    <tr>\n",
              "      <th>...</th>\n",
              "      <th>...</th>\n",
              "      <td>...</td>\n",
              "    </tr>\n",
              "    <tr>\n",
              "      <th rowspan=\"5\" valign=\"top\">Starchy Foods</th>\n",
              "      <th>1999</th>\n",
              "      <td>2471.762918</td>\n",
              "    </tr>\n",
              "    <tr>\n",
              "      <th>2002</th>\n",
              "      <td>2396.671937</td>\n",
              "    </tr>\n",
              "    <tr>\n",
              "      <th>2004</th>\n",
              "      <td>3049.784505</td>\n",
              "    </tr>\n",
              "    <tr>\n",
              "      <th>2007</th>\n",
              "      <td>2438.529489</td>\n",
              "    </tr>\n",
              "    <tr>\n",
              "      <th>2009</th>\n",
              "      <td>1947.699988</td>\n",
              "    </tr>\n",
              "  </tbody>\n",
              "</table>\n",
              "<p>144 rows × 1 columns</p>\n",
              "</div>"
            ],
            "text/plain": [
              "                                         Item_Outlet_Sales\n",
              "Item_Type     Outlet_Establishment_Year                   \n",
              "Baking Goods  1985                             2127.730350\n",
              "              1987                             2050.901134\n",
              "              1997                             2281.267334\n",
              "              1998                              254.605090\n",
              "              1999                             2110.051342\n",
              "...                                                    ...\n",
              "Starchy Foods 1999                             2471.762918\n",
              "              2002                             2396.671937\n",
              "              2004                             3049.784505\n",
              "              2007                             2438.529489\n",
              "              2009                             1947.699988\n",
              "\n",
              "[144 rows x 1 columns]"
            ]
          },
          "metadata": {
            "tags": []
          },
          "execution_count": 164
        }
      ]
    },
    {
      "cell_type": "code",
      "metadata": {
        "colab": {
          "base_uri": "https://localhost:8080/",
          "height": 405
        },
        "id": "i_piq__eU5LA",
        "outputId": "ec14d4cc-7316-4c62-ad80-38c851f26b44"
      },
      "source": [
        "# Item category giving the most sales in each year\r\n",
        "dfsalesf.groupby(['Outlet_Establishment_Year'])['Item_Outlet_Sales','Item_Type'].max()"
      ],
      "execution_count": 114,
      "outputs": [
        {
          "output_type": "stream",
          "text": [
            "/usr/local/lib/python3.6/dist-packages/ipykernel_launcher.py:2: FutureWarning: Indexing with multiple keys (implicitly converted to a tuple of keys) will be deprecated, use a list instead.\n",
            "  \n"
          ],
          "name": "stderr"
        },
        {
          "output_type": "execute_result",
          "data": {
            "text/html": [
              "<div>\n",
              "<style scoped>\n",
              "    .dataframe tbody tr th:only-of-type {\n",
              "        vertical-align: middle;\n",
              "    }\n",
              "\n",
              "    .dataframe tbody tr th {\n",
              "        vertical-align: top;\n",
              "    }\n",
              "\n",
              "    .dataframe thead th {\n",
              "        text-align: right;\n",
              "    }\n",
              "</style>\n",
              "<table border=\"1\" class=\"dataframe\">\n",
              "  <thead>\n",
              "    <tr style=\"text-align: right;\">\n",
              "      <th></th>\n",
              "      <th>Item_Outlet_Sales</th>\n",
              "      <th>Item_Type</th>\n",
              "    </tr>\n",
              "    <tr>\n",
              "      <th>Outlet_Establishment_Year</th>\n",
              "      <th></th>\n",
              "      <th></th>\n",
              "    </tr>\n",
              "  </thead>\n",
              "  <tbody>\n",
              "    <tr>\n",
              "      <th>1985</th>\n",
              "      <td>13086.9648</td>\n",
              "      <td>Starchy Foods</td>\n",
              "    </tr>\n",
              "    <tr>\n",
              "      <th>1987</th>\n",
              "      <td>10256.6490</td>\n",
              "      <td>Starchy Foods</td>\n",
              "    </tr>\n",
              "    <tr>\n",
              "      <th>1997</th>\n",
              "      <td>9779.9362</td>\n",
              "      <td>Starchy Foods</td>\n",
              "    </tr>\n",
              "    <tr>\n",
              "      <th>1998</th>\n",
              "      <td>1775.6886</td>\n",
              "      <td>Starchy Foods</td>\n",
              "    </tr>\n",
              "    <tr>\n",
              "      <th>1999</th>\n",
              "      <td>7646.0472</td>\n",
              "      <td>Starchy Foods</td>\n",
              "    </tr>\n",
              "    <tr>\n",
              "      <th>2002</th>\n",
              "      <td>8994.9580</td>\n",
              "      <td>Starchy Foods</td>\n",
              "    </tr>\n",
              "    <tr>\n",
              "      <th>2004</th>\n",
              "      <td>8479.6288</td>\n",
              "      <td>Starchy Foods</td>\n",
              "    </tr>\n",
              "    <tr>\n",
              "      <th>2007</th>\n",
              "      <td>9664.7528</td>\n",
              "      <td>Starchy Foods</td>\n",
              "    </tr>\n",
              "    <tr>\n",
              "      <th>2009</th>\n",
              "      <td>6768.5228</td>\n",
              "      <td>Starchy Foods</td>\n",
              "    </tr>\n",
              "  </tbody>\n",
              "</table>\n",
              "</div>"
            ],
            "text/plain": [
              "                           Item_Outlet_Sales      Item_Type\n",
              "Outlet_Establishment_Year                                  \n",
              "1985                              13086.9648  Starchy Foods\n",
              "1987                              10256.6490  Starchy Foods\n",
              "1997                               9779.9362  Starchy Foods\n",
              "1998                               1775.6886  Starchy Foods\n",
              "1999                               7646.0472  Starchy Foods\n",
              "2002                               8994.9580  Starchy Foods\n",
              "2004                               8479.6288  Starchy Foods\n",
              "2007                               9664.7528  Starchy Foods\n",
              "2009                               6768.5228  Starchy Foods"
            ]
          },
          "metadata": {
            "tags": []
          },
          "execution_count": 114
        }
      ]
    },
    {
      "cell_type": "code",
      "metadata": {
        "colab": {
          "base_uri": "https://localhost:8080/",
          "height": 405
        },
        "id": "tFZSkTjcVa9f",
        "outputId": "2ca5a88b-cd2f-4c2d-9a32-224d8d7d61c1"
      },
      "source": [
        "# Item category giving the least sales in each year\r\n",
        "dfsalesf.groupby(['Outlet_Establishment_Year'])['Item_Outlet_Sales','Item_Type'].min()"
      ],
      "execution_count": 115,
      "outputs": [
        {
          "output_type": "stream",
          "text": [
            "/usr/local/lib/python3.6/dist-packages/ipykernel_launcher.py:2: FutureWarning: Indexing with multiple keys (implicitly converted to a tuple of keys) will be deprecated, use a list instead.\n",
            "  \n"
          ],
          "name": "stderr"
        },
        {
          "output_type": "execute_result",
          "data": {
            "text/html": [
              "<div>\n",
              "<style scoped>\n",
              "    .dataframe tbody tr th:only-of-type {\n",
              "        vertical-align: middle;\n",
              "    }\n",
              "\n",
              "    .dataframe tbody tr th {\n",
              "        vertical-align: top;\n",
              "    }\n",
              "\n",
              "    .dataframe thead th {\n",
              "        text-align: right;\n",
              "    }\n",
              "</style>\n",
              "<table border=\"1\" class=\"dataframe\">\n",
              "  <thead>\n",
              "    <tr style=\"text-align: right;\">\n",
              "      <th></th>\n",
              "      <th>Item_Outlet_Sales</th>\n",
              "      <th>Item_Type</th>\n",
              "    </tr>\n",
              "    <tr>\n",
              "      <th>Outlet_Establishment_Year</th>\n",
              "      <th></th>\n",
              "      <th></th>\n",
              "    </tr>\n",
              "  </thead>\n",
              "  <tbody>\n",
              "    <tr>\n",
              "      <th>1985</th>\n",
              "      <td>33.9558</td>\n",
              "      <td>Baking Goods</td>\n",
              "    </tr>\n",
              "    <tr>\n",
              "      <th>1987</th>\n",
              "      <td>73.2380</td>\n",
              "      <td>Baking Goods</td>\n",
              "    </tr>\n",
              "    <tr>\n",
              "      <th>1997</th>\n",
              "      <td>101.8674</td>\n",
              "      <td>Baking Goods</td>\n",
              "    </tr>\n",
              "    <tr>\n",
              "      <th>1998</th>\n",
              "      <td>33.2900</td>\n",
              "      <td>Baking Goods</td>\n",
              "    </tr>\n",
              "    <tr>\n",
              "      <th>1999</th>\n",
              "      <td>111.8544</td>\n",
              "      <td>Baking Goods</td>\n",
              "    </tr>\n",
              "    <tr>\n",
              "      <th>2002</th>\n",
              "      <td>99.8700</td>\n",
              "      <td>Baking Goods</td>\n",
              "    </tr>\n",
              "    <tr>\n",
              "      <th>2004</th>\n",
              "      <td>113.8518</td>\n",
              "      <td>Baking Goods</td>\n",
              "    </tr>\n",
              "    <tr>\n",
              "      <th>2007</th>\n",
              "      <td>143.8128</td>\n",
              "      <td>Baking Goods</td>\n",
              "    </tr>\n",
              "    <tr>\n",
              "      <th>2009</th>\n",
              "      <td>69.2432</td>\n",
              "      <td>Baking Goods</td>\n",
              "    </tr>\n",
              "  </tbody>\n",
              "</table>\n",
              "</div>"
            ],
            "text/plain": [
              "                           Item_Outlet_Sales     Item_Type\n",
              "Outlet_Establishment_Year                                 \n",
              "1985                                 33.9558  Baking Goods\n",
              "1987                                 73.2380  Baking Goods\n",
              "1997                                101.8674  Baking Goods\n",
              "1998                                 33.2900  Baking Goods\n",
              "1999                                111.8544  Baking Goods\n",
              "2002                                 99.8700  Baking Goods\n",
              "2004                                113.8518  Baking Goods\n",
              "2007                                143.8128  Baking Goods\n",
              "2009                                 69.2432  Baking Goods"
            ]
          },
          "metadata": {
            "tags": []
          },
          "execution_count": 115
        }
      ]
    },
    {
      "cell_type": "code",
      "metadata": {
        "colab": {
          "base_uri": "https://localhost:8080/"
        },
        "id": "m_sUPL1RVsyI",
        "outputId": "96450dbd-d3d2-4ce8-8d7c-e64aa011ec21"
      },
      "source": [
        "#Number of small, med and large outlets over the years:\r\n",
        "dfsalesf.groupby(['Outlet_Establishment_Year','Outlet_Size'])['Outlet_Size'].count()"
      ],
      "execution_count": 117,
      "outputs": [
        {
          "output_type": "execute_result",
          "data": {
            "text/plain": [
              "Outlet_Establishment_Year  Outlet_Size\n",
              "1985                       Medium         935\n",
              "                           Small          528\n",
              "1987                       High           932\n",
              "1997                       Small          930\n",
              "1999                       Medium         930\n",
              "2004                       Small          930\n",
              "2009                       Medium         928\n",
              "Name: Outlet_Size, dtype: int64"
            ]
          },
          "metadata": {
            "tags": []
          },
          "execution_count": 117
        }
      ]
    },
    {
      "cell_type": "code",
      "metadata": {
        "colab": {
          "base_uri": "https://localhost:8080/",
          "height": 378
        },
        "id": "P3hOMBt2WKey",
        "outputId": "9d26867e-5319-4e0f-d8d3-605927a9c847"
      },
      "source": [
        "#Number of outlet types over the years:\r\n",
        "dfsalesf.groupby(['Outlet_Establishment_Year','Outlet_Type'])[['Outlet_Type']].count()"
      ],
      "execution_count": 129,
      "outputs": [
        {
          "output_type": "execute_result",
          "data": {
            "text/html": [
              "<div>\n",
              "<style scoped>\n",
              "    .dataframe tbody tr th:only-of-type {\n",
              "        vertical-align: middle;\n",
              "    }\n",
              "\n",
              "    .dataframe tbody tr th {\n",
              "        vertical-align: top;\n",
              "    }\n",
              "\n",
              "    .dataframe thead th {\n",
              "        text-align: right;\n",
              "    }\n",
              "</style>\n",
              "<table border=\"1\" class=\"dataframe\">\n",
              "  <thead>\n",
              "    <tr style=\"text-align: right;\">\n",
              "      <th></th>\n",
              "      <th></th>\n",
              "      <th>Outlet_Type</th>\n",
              "    </tr>\n",
              "    <tr>\n",
              "      <th>Outlet_Establishment_Year</th>\n",
              "      <th>Outlet_Type</th>\n",
              "      <th></th>\n",
              "    </tr>\n",
              "  </thead>\n",
              "  <tbody>\n",
              "    <tr>\n",
              "      <th rowspan=\"2\" valign=\"top\">1985</th>\n",
              "      <th>Grocery Store</th>\n",
              "      <td>528</td>\n",
              "    </tr>\n",
              "    <tr>\n",
              "      <th>Supermarket Type3</th>\n",
              "      <td>935</td>\n",
              "    </tr>\n",
              "    <tr>\n",
              "      <th>1987</th>\n",
              "      <th>Supermarket Type1</th>\n",
              "      <td>932</td>\n",
              "    </tr>\n",
              "    <tr>\n",
              "      <th>1997</th>\n",
              "      <th>Supermarket Type1</th>\n",
              "      <td>930</td>\n",
              "    </tr>\n",
              "    <tr>\n",
              "      <th>1998</th>\n",
              "      <th>Grocery Store</th>\n",
              "      <td>555</td>\n",
              "    </tr>\n",
              "    <tr>\n",
              "      <th>1999</th>\n",
              "      <th>Supermarket Type1</th>\n",
              "      <td>930</td>\n",
              "    </tr>\n",
              "    <tr>\n",
              "      <th>2002</th>\n",
              "      <th>Supermarket Type1</th>\n",
              "      <td>929</td>\n",
              "    </tr>\n",
              "    <tr>\n",
              "      <th>2004</th>\n",
              "      <th>Supermarket Type1</th>\n",
              "      <td>930</td>\n",
              "    </tr>\n",
              "    <tr>\n",
              "      <th>2007</th>\n",
              "      <th>Supermarket Type1</th>\n",
              "      <td>926</td>\n",
              "    </tr>\n",
              "    <tr>\n",
              "      <th>2009</th>\n",
              "      <th>Supermarket Type2</th>\n",
              "      <td>928</td>\n",
              "    </tr>\n",
              "  </tbody>\n",
              "</table>\n",
              "</div>"
            ],
            "text/plain": [
              "                                             Outlet_Type\n",
              "Outlet_Establishment_Year Outlet_Type                   \n",
              "1985                      Grocery Store              528\n",
              "                          Supermarket Type3          935\n",
              "1987                      Supermarket Type1          932\n",
              "1997                      Supermarket Type1          930\n",
              "1998                      Grocery Store              555\n",
              "1999                      Supermarket Type1          930\n",
              "2002                      Supermarket Type1          929\n",
              "2004                      Supermarket Type1          930\n",
              "2007                      Supermarket Type1          926\n",
              "2009                      Supermarket Type2          928"
            ]
          },
          "metadata": {
            "tags": []
          },
          "execution_count": 129
        }
      ]
    },
    {
      "cell_type": "code",
      "metadata": {
        "colab": {
          "base_uri": "https://localhost:8080/",
          "height": 407
        },
        "id": "Yps1LL13WZJY",
        "outputId": "15c6526a-612a-4005-f485-c3c1f4649828"
      },
      "source": [
        "#Total Cumulative sales over the years: #How do I get it to show the years value????\r\n",
        "dfsalesff = dfsalesf\r\n",
        "#dfsalesff['Outlet_Establishment_Year']= str(dfsalesff['Outlet_Establishment_Year'])\r\n",
        "dfsalesff.groupby(['Outlet_Establishment_Year'])[['Item_Outlet_Sales']].cumsum()#.sort_values(ascending = False)"
      ],
      "execution_count": 165,
      "outputs": [
        {
          "output_type": "execute_result",
          "data": {
            "text/html": [
              "<div>\n",
              "<style scoped>\n",
              "    .dataframe tbody tr th:only-of-type {\n",
              "        vertical-align: middle;\n",
              "    }\n",
              "\n",
              "    .dataframe tbody tr th {\n",
              "        vertical-align: top;\n",
              "    }\n",
              "\n",
              "    .dataframe thead th {\n",
              "        text-align: right;\n",
              "    }\n",
              "</style>\n",
              "<table border=\"1\" class=\"dataframe\">\n",
              "  <thead>\n",
              "    <tr style=\"text-align: right;\">\n",
              "      <th></th>\n",
              "      <th>Item_Outlet_Sales</th>\n",
              "    </tr>\n",
              "  </thead>\n",
              "  <tbody>\n",
              "    <tr>\n",
              "      <th>0</th>\n",
              "      <td>3.735138e+03</td>\n",
              "    </tr>\n",
              "    <tr>\n",
              "      <th>1</th>\n",
              "      <td>4.434228e+02</td>\n",
              "    </tr>\n",
              "    <tr>\n",
              "      <th>2</th>\n",
              "      <td>5.832408e+03</td>\n",
              "    </tr>\n",
              "    <tr>\n",
              "      <th>3</th>\n",
              "      <td>7.323800e+02</td>\n",
              "    </tr>\n",
              "    <tr>\n",
              "      <th>4</th>\n",
              "      <td>9.947052e+02</td>\n",
              "    </tr>\n",
              "    <tr>\n",
              "      <th>...</th>\n",
              "      <td>...</td>\n",
              "    </tr>\n",
              "    <tr>\n",
              "      <th>8518</th>\n",
              "      <td>2.142664e+06</td>\n",
              "    </tr>\n",
              "    <tr>\n",
              "      <th>8519</th>\n",
              "      <td>2.036725e+06</td>\n",
              "    </tr>\n",
              "    <tr>\n",
              "      <th>8520</th>\n",
              "      <td>2.268123e+06</td>\n",
              "    </tr>\n",
              "    <tr>\n",
              "      <th>8521</th>\n",
              "      <td>1.851823e+06</td>\n",
              "    </tr>\n",
              "    <tr>\n",
              "      <th>8522</th>\n",
              "      <td>2.118395e+06</td>\n",
              "    </tr>\n",
              "  </tbody>\n",
              "</table>\n",
              "<p>8523 rows × 1 columns</p>\n",
              "</div>"
            ],
            "text/plain": [
              "      Item_Outlet_Sales\n",
              "0          3.735138e+03\n",
              "1          4.434228e+02\n",
              "2          5.832408e+03\n",
              "3          7.323800e+02\n",
              "4          9.947052e+02\n",
              "...                 ...\n",
              "8518       2.142664e+06\n",
              "8519       2.036725e+06\n",
              "8520       2.268123e+06\n",
              "8521       1.851823e+06\n",
              "8522       2.118395e+06\n",
              "\n",
              "[8523 rows x 1 columns]"
            ]
          },
          "metadata": {
            "tags": []
          },
          "execution_count": 165
        }
      ]
    },
    {
      "cell_type": "code",
      "metadata": {
        "id": "C71g4s6zWujR"
      },
      "source": [
        ""
      ],
      "execution_count": null,
      "outputs": []
    }
  ]
}